{
 "cells": [
  {
   "cell_type": "code",
   "execution_count": 1,
   "metadata": {},
   "outputs": [],
   "source": [
    "%load_ext autoreload\n",
    "%autoreload 2"
   ]
  },
  {
   "cell_type": "code",
   "execution_count": 2,
   "metadata": {},
   "outputs": [],
   "source": [
    "import pandas as pd\n",
    "import numpy as np\n",
    "import helpers as h\n",
    "import re\n",
    "from collections import Counter\n",
    "import math"
   ]
  },
  {
   "cell_type": "markdown",
   "metadata": {},
   "source": [
    "## Initial exploration"
   ]
  },
  {
   "cell_type": "code",
   "execution_count": 3,
   "metadata": {},
   "outputs": [],
   "source": [
    "data = h.read_input()"
   ]
  },
  {
   "cell_type": "code",
   "execution_count": 4,
   "metadata": {},
   "outputs": [
    {
     "data": {
      "application/vnd.microsoft.datawrangler.viewer.v0+json": {
       "columns": [
        {
         "name": "index",
         "rawType": "int64",
         "type": "integer"
        },
        {
         "name": "information",
         "rawType": "object",
         "type": "string"
        }
       ],
       "conversionMethod": "pd.DataFrame",
       "ref": "d8119b74-c4be-47bf-b891-8ccf254c870a",
       "rows": [
        [
         "0",
         "Tile 3923:"
        ],
        [
         "1",
         "...##....."
        ],
        [
         "2",
         ".##.#..#.#"
        ],
        [
         "3",
         "###....#.."
        ],
        [
         "4",
         "...#...#.#"
        ],
        [
         "5",
         "....#.#..."
        ],
        [
         "6",
         ".........."
        ],
        [
         "7",
         ".....#.###"
        ],
        [
         "8",
         ".##.#..#.."
        ],
        [
         "9",
         "..##..#..."
        ],
        [
         "10",
         "..#.#.##.."
        ],
        [
         "11",
         "Tile 1229:"
        ]
       ],
       "shape": {
        "columns": 1,
        "rows": 12
       }
      },
      "text/html": [
       "<div>\n",
       "<style scoped>\n",
       "    .dataframe tbody tr th:only-of-type {\n",
       "        vertical-align: middle;\n",
       "    }\n",
       "\n",
       "    .dataframe tbody tr th {\n",
       "        vertical-align: top;\n",
       "    }\n",
       "\n",
       "    .dataframe thead th {\n",
       "        text-align: right;\n",
       "    }\n",
       "</style>\n",
       "<table border=\"1\" class=\"dataframe\">\n",
       "  <thead>\n",
       "    <tr style=\"text-align: right;\">\n",
       "      <th></th>\n",
       "      <th>information</th>\n",
       "    </tr>\n",
       "  </thead>\n",
       "  <tbody>\n",
       "    <tr>\n",
       "      <th>0</th>\n",
       "      <td>Tile 3923:</td>\n",
       "    </tr>\n",
       "    <tr>\n",
       "      <th>1</th>\n",
       "      <td>...##.....</td>\n",
       "    </tr>\n",
       "    <tr>\n",
       "      <th>2</th>\n",
       "      <td>.##.#..#.#</td>\n",
       "    </tr>\n",
       "    <tr>\n",
       "      <th>3</th>\n",
       "      <td>###....#..</td>\n",
       "    </tr>\n",
       "    <tr>\n",
       "      <th>4</th>\n",
       "      <td>...#...#.#</td>\n",
       "    </tr>\n",
       "    <tr>\n",
       "      <th>5</th>\n",
       "      <td>....#.#...</td>\n",
       "    </tr>\n",
       "    <tr>\n",
       "      <th>6</th>\n",
       "      <td>..........</td>\n",
       "    </tr>\n",
       "    <tr>\n",
       "      <th>7</th>\n",
       "      <td>.....#.###</td>\n",
       "    </tr>\n",
       "    <tr>\n",
       "      <th>8</th>\n",
       "      <td>.##.#..#..</td>\n",
       "    </tr>\n",
       "    <tr>\n",
       "      <th>9</th>\n",
       "      <td>..##..#...</td>\n",
       "    </tr>\n",
       "    <tr>\n",
       "      <th>10</th>\n",
       "      <td>..#.#.##..</td>\n",
       "    </tr>\n",
       "    <tr>\n",
       "      <th>11</th>\n",
       "      <td>Tile 1229:</td>\n",
       "    </tr>\n",
       "  </tbody>\n",
       "</table>\n",
       "</div>"
      ],
      "text/plain": [
       "   information\n",
       "0   Tile 3923:\n",
       "1   ...##.....\n",
       "2   .##.#..#.#\n",
       "3   ###....#..\n",
       "4   ...#...#.#\n",
       "5   ....#.#...\n",
       "6   ..........\n",
       "7   .....#.###\n",
       "8   .##.#..#..\n",
       "9   ..##..#...\n",
       "10  ..#.#.##..\n",
       "11  Tile 1229:"
      ]
     },
     "execution_count": 4,
     "metadata": {},
     "output_type": "execute_result"
    }
   ],
   "source": [
    "data.head(n=12)"
   ]
  },
  {
   "cell_type": "markdown",
   "metadata": {},
   "source": [
    "Each tile is given by 11 rows: 1 with the tile name and 10 with the elements"
   ]
  },
  {
   "cell_type": "code",
   "execution_count": 6,
   "metadata": {},
   "outputs": [
    {
     "data": {
      "text/plain": [
       "144.0"
      ]
     },
     "execution_count": 6,
     "metadata": {},
     "output_type": "execute_result"
    }
   ],
   "source": [
    "len(data) / 11"
   ]
  },
  {
   "cell_type": "markdown",
   "metadata": {},
   "source": [
    "In total,a 12x12 image (144 titles) is saved in a file with 11*144=1584 rows"
   ]
  },
  {
   "cell_type": "code",
   "execution_count": 118,
   "metadata": {},
   "outputs": [
    {
     "data": {
      "text/plain": [
       "'Tile 3923:'"
      ]
     },
     "execution_count": 118,
     "metadata": {},
     "output_type": "execute_result"
    }
   ],
   "source": [
    "data[\"information\"].iloc[0]"
   ]
  },
  {
   "cell_type": "markdown",
   "metadata": {},
   "source": [
    "We will enumerate the tiles from 1 to 144 as they appear in the file"
   ]
  },
  {
   "cell_type": "code",
   "execution_count": 169,
   "metadata": {},
   "outputs": [],
   "source": [
    "x = h.get_image(1, data)"
   ]
  },
  {
   "cell_type": "code",
   "execution_count": 170,
   "metadata": {},
   "outputs": [
    {
     "data": {
      "text/plain": [
       "1     ...##.....\n",
       "2     .##.#..#.#\n",
       "3     ###....#..\n",
       "4     ...#...#.#\n",
       "5     ....#.#...\n",
       "6     ..........\n",
       "7     .....#.###\n",
       "8     .##.#..#..\n",
       "9     ..##..#...\n",
       "10    ..#.#.##..\n",
       "Name: information, dtype: object"
      ]
     },
     "execution_count": 170,
     "metadata": {},
     "output_type": "execute_result"
    }
   ],
   "source": [
    "x"
   ]
  },
  {
   "cell_type": "markdown",
   "metadata": {},
   "source": [
    "Each image is tranformed into a matrix of 1 and 0 to operate faster: '.' = 1 and '#' = 0"
   ]
  },
  {
   "cell_type": "code",
   "execution_count": 171,
   "metadata": {},
   "outputs": [
    {
     "data": {
      "text/plain": [
       "array([[1, 1, 1, 0, 0, 1, 1, 1, 1, 1],\n",
       "       [1, 0, 0, 1, 0, 1, 1, 0, 1, 0],\n",
       "       [0, 0, 0, 1, 1, 1, 1, 0, 1, 1],\n",
       "       [1, 1, 1, 0, 1, 1, 1, 0, 1, 0],\n",
       "       [1, 1, 1, 1, 0, 1, 0, 1, 1, 1],\n",
       "       [1, 1, 1, 1, 1, 1, 1, 1, 1, 1],\n",
       "       [1, 1, 1, 1, 1, 0, 1, 0, 0, 0],\n",
       "       [1, 0, 0, 1, 0, 1, 1, 0, 1, 1],\n",
       "       [1, 1, 0, 0, 1, 1, 0, 1, 1, 1],\n",
       "       [1, 1, 0, 1, 0, 1, 0, 0, 1, 1]])"
      ]
     },
     "execution_count": 171,
     "metadata": {},
     "output_type": "execute_result"
    }
   ],
   "source": [
    "m=h.image_to_matrix(x)\n",
    "m"
   ]
  },
  {
   "cell_type": "code",
   "execution_count": 172,
   "metadata": {},
   "outputs": [],
   "source": [
    "x2 = h.matrix_to_image(m)"
   ]
  },
  {
   "cell_type": "code",
   "execution_count": 173,
   "metadata": {},
   "outputs": [
    {
     "data": {
      "text/plain": [
       "0    ...##.....\n",
       "1    .##.#..#.#\n",
       "2    ###....#..\n",
       "3    ...#...#.#\n",
       "4    ....#.#...\n",
       "5    ..........\n",
       "6    .....#.###\n",
       "7    .##.#..#..\n",
       "8    ..##..#...\n",
       "9    ..#.#.##..\n",
       "Name: information, dtype: object"
      ]
     },
     "execution_count": 173,
     "metadata": {},
     "output_type": "execute_result"
    }
   ],
   "source": [
    "x2"
   ]
  },
  {
   "cell_type": "code",
   "execution_count": 174,
   "metadata": {},
   "outputs": [
    {
     "data": {
      "text/plain": [
       "3923"
      ]
     },
     "execution_count": 174,
     "metadata": {},
     "output_type": "execute_result"
    }
   ],
   "source": [
    "h.get_tile_number(1, data)"
   ]
  },
  {
   "cell_type": "code",
   "execution_count": 125,
   "metadata": {},
   "outputs": [
    {
     "data": {
      "text/plain": [
       "144"
      ]
     },
     "execution_count": 125,
     "metadata": {},
     "output_type": "execute_result"
    }
   ],
   "source": [
    "# number of tiles 12 x 12 image\n",
    "len(data) // 11"
   ]
  },
  {
   "cell_type": "code",
   "execution_count": 175,
   "metadata": {},
   "outputs": [],
   "source": [
    "all_tiles = [(k, h.get_tile_number(k, data)) for k in range(1, 145)]"
   ]
  },
  {
   "cell_type": "markdown",
   "metadata": {},
   "source": [
    "Each tile, can be rotated and fliped to obtain a total of different 8 matrices (dihedral group D₄: 4 rotations and 4 flips)"
   ]
  },
  {
   "cell_type": "code",
   "execution_count": 176,
   "metadata": {},
   "outputs": [],
   "source": [
    "all_m = h.transform(m)"
   ]
  },
  {
   "cell_type": "code",
   "execution_count": 177,
   "metadata": {},
   "outputs": [
    {
     "data": {
      "text/plain": [
       "Original           [[1, 1, 1, 0, 0, 1, 1, 1, 1, 1], [1, 0, 0, 1, ...\n",
       "90° Rotation       [[1, 1, 1, 1, 1, 1, 1, 0, 1, 1], [1, 1, 0, 1, ...\n",
       "180° Rotation      [[1, 1, 0, 0, 1, 0, 1, 0, 1, 1], [1, 1, 1, 0, ...\n",
       "270° Rotation      [[1, 0, 1, 0, 1, 1, 0, 1, 1, 1], [1, 1, 1, 1, ...\n",
       "Horizontal Flip    [[1, 1, 1, 1, 1, 0, 0, 1, 1, 1], [0, 1, 0, 1, ...\n",
       "Vertical Flip      [[1, 1, 0, 1, 0, 1, 0, 0, 1, 1], [1, 1, 0, 0, ...\n",
       "d1                 [[1, 1, 1, 0, 1, 1, 0, 1, 0, 1], [1, 1, 1, 0, ...\n",
       "d2                 [[1, 1, 0, 1, 1, 1, 1, 1, 1, 1], [1, 0, 0, 1, ...\n",
       "dtype: object"
      ]
     },
     "execution_count": 177,
     "metadata": {},
     "output_type": "execute_result"
    }
   ],
   "source": [
    "all_m"
   ]
  },
  {
   "cell_type": "markdown",
   "metadata": {},
   "source": [
    "The boundaries can be transformed into decimal values with high bit the one the most on the left or the most on the right"
   ]
  },
  {
   "cell_type": "code",
   "execution_count": 178,
   "metadata": {},
   "outputs": [
    {
     "data": {
      "text/plain": [
       "[927, 695, 851, 895]"
      ]
     },
     "execution_count": 178,
     "metadata": {},
     "output_type": "execute_result"
    }
   ],
   "source": [
    "h.boundary_to_decimal(m)"
   ]
  },
  {
   "cell_type": "markdown",
   "metadata": {},
   "source": [
    "The boundary at the right (2) reads"
   ]
  },
  {
   "cell_type": "code",
   "execution_count": 129,
   "metadata": {},
   "outputs": [
    {
     "data": {
      "text/plain": [
       "array([1, 0, 1, 0, 1, 1, 0, 1, 1, 1])"
      ]
     },
     "execution_count": 129,
     "metadata": {},
     "output_type": "execute_result"
    }
   ],
   "source": [
    "m[:,-1]"
   ]
  },
  {
   "cell_type": "code",
   "execution_count": 130,
   "metadata": {},
   "outputs": [],
   "source": [
    "binary_boundary=\"\".join(map(str, m[:,-1]))"
   ]
  },
  {
   "cell_type": "code",
   "execution_count": 131,
   "metadata": {},
   "outputs": [
    {
     "data": {
      "text/plain": [
       "695"
      ]
     },
     "execution_count": 131,
     "metadata": {},
     "output_type": "execute_result"
    }
   ],
   "source": [
    "int(binary_boundary, 2)"
   ]
  },
  {
   "cell_type": "markdown",
   "metadata": {},
   "source": [
    "For a given piece, we have a total of 8 different pieces that can be generated by rotation and flipping"
   ]
  },
  {
   "cell_type": "code",
   "execution_count": 179,
   "metadata": {},
   "outputs": [
    {
     "data": {
      "text/plain": [
       "[[927, 695, 851, 895],\n",
       " [1019, 927, 949, 851],\n",
       " [811, 1019, 999, 949],\n",
       " [695, 811, 895, 999],\n",
       " [999, 895, 811, 695],\n",
       " [851, 949, 927, 1019],\n",
       " [949, 999, 1019, 811],\n",
       " [895, 851, 695, 927]]"
      ]
     },
     "execution_count": 179,
     "metadata": {},
     "output_type": "execute_result"
    }
   ],
   "source": [
    "[h.boundary_to_decimal(m2) for m2 in all_m]"
   ]
  },
  {
   "cell_type": "code",
   "execution_count": 180,
   "metadata": {},
   "outputs": [
    {
     "data": {
      "text/plain": [
       "array([[1, 1, 1, 0, 0, 1, 1, 1, 1, 1],\n",
       "       [1, 0, 0, 1, 0, 1, 1, 0, 1, 0],\n",
       "       [0, 0, 0, 1, 1, 1, 1, 0, 1, 1],\n",
       "       [1, 1, 1, 0, 1, 1, 1, 0, 1, 0],\n",
       "       [1, 1, 1, 1, 0, 1, 0, 1, 1, 1],\n",
       "       [1, 1, 1, 1, 1, 1, 1, 1, 1, 1],\n",
       "       [1, 1, 1, 1, 1, 0, 1, 0, 0, 0],\n",
       "       [1, 0, 0, 1, 0, 1, 1, 0, 1, 1],\n",
       "       [1, 1, 0, 0, 1, 1, 0, 1, 1, 1],\n",
       "       [1, 1, 0, 1, 0, 1, 0, 0, 1, 1]])"
      ]
     },
     "execution_count": 180,
     "metadata": {},
     "output_type": "execute_result"
    }
   ],
   "source": [
    "m"
   ]
  },
  {
   "cell_type": "code",
   "execution_count": 134,
   "metadata": {},
   "outputs": [
    {
     "data": {
      "text/plain": [
       "'1110011111'"
      ]
     },
     "execution_count": 134,
     "metadata": {},
     "output_type": "execute_result"
    }
   ],
   "source": [
    "''.join(map(str, m[0]))"
   ]
  },
  {
   "cell_type": "markdown",
   "metadata": {},
   "source": [
    "Before working with the full example (12x12), we work the 3x3 example"
   ]
  },
  {
   "cell_type": "markdown",
   "metadata": {},
   "source": [
    "## Example"
   ]
  },
  {
   "cell_type": "code",
   "execution_count": 181,
   "metadata": {},
   "outputs": [],
   "source": [
    "data_example = h.read_input('input_example.txt')"
   ]
  },
  {
   "cell_type": "code",
   "execution_count": 182,
   "metadata": {},
   "outputs": [
    {
     "data": {
      "text/plain": [
       "0     Tile 2311:\n",
       "1     ..##.#..#.\n",
       "2     ##..#.....\n",
       "3     #...##..#.\n",
       "4     ####.#...#\n",
       "         ...    \n",
       "94    .#...#.##.\n",
       "95    #.#####.##\n",
       "96    ..#.###...\n",
       "97    ..#.......\n",
       "98    ..#.###...\n",
       "Name: information, Length: 99, dtype: object"
      ]
     },
     "execution_count": 182,
     "metadata": {},
     "output_type": "execute_result"
    }
   ],
   "source": [
    "data_example['information']"
   ]
  },
  {
   "cell_type": "code",
   "execution_count": 183,
   "metadata": {},
   "outputs": [],
   "source": [
    "tile_numbers = [tile[5:9] for i, tile in enumerate(data_example['information']) if i % 11 ==0]"
   ]
  },
  {
   "cell_type": "code",
   "execution_count": 184,
   "metadata": {},
   "outputs": [
    {
     "name": "stdout",
     "output_type": "stream",
     "text": [
      "['2311', '1951', '1171', '1427', '1489', '2473', '2971', '2729', '3079']\n"
     ]
    }
   ],
   "source": [
    "print(tile_numbers)"
   ]
  },
  {
   "cell_type": "code",
   "execution_count": 185,
   "metadata": {},
   "outputs": [
    {
     "data": {
      "text/plain": [
       "[(1, 2311),\n",
       " (2, 1951),\n",
       " (3, 1171),\n",
       " (4, 1427),\n",
       " (5, 1489),\n",
       " (6, 2473),\n",
       " (7, 2971),\n",
       " (8, 2729),\n",
       " (9, 3079)]"
      ]
     },
     "execution_count": 185,
     "metadata": {},
     "output_type": "execute_result"
    }
   ],
   "source": [
    "[(k, h.get_tile_number(k, data_example)) for k in range(1, 10)]"
   ]
  },
  {
   "cell_type": "markdown",
   "metadata": {},
   "source": [
    "In total, we have 9 tiles"
   ]
  },
  {
   "cell_type": "markdown",
   "metadata": {},
   "source": [
    "### Boundaries"
   ]
  },
  {
   "cell_type": "markdown",
   "metadata": {},
   "source": [
    "Each piece, taking into account the 6 possible transformations (4 rotations and 2 flips), can generate up to 8 different shapes, that result in 8 different boundaries also"
   ]
  },
  {
   "cell_type": "code",
   "execution_count": 205,
   "metadata": {},
   "outputs": [],
   "source": [
    "n_tiles = 9\n",
    "z = []\n",
    "for i in range(1, n_tiles + 1):\n",
    "    tile = h.get_tile_number(i, data_example)\n",
    "    img = h.get_image(i, data_example)\n",
    "    m = h.image_to_matrix(img)\n",
    "    m_all = h.transform(m)\n",
    "    for j in range(8):\n",
    "        boundary = h.boundary_to_decimal(m_all.iloc[j])\n",
    "        for k in range(len(boundary)):\n",
    "            z.append([tile, j+1, k+1, boundary[k]])\n",
    "all_boundaries = pd.DataFrame(z, columns=['id', 'transformation', 'boundary', 'value'])"
   ]
  },
  {
   "cell_type": "code",
   "execution_count": 206,
   "metadata": {},
   "outputs": [],
   "source": [
    "all_boundaries = h.get_all_boundaries(data_example)"
   ]
  },
  {
   "cell_type": "code",
   "execution_count": 188,
   "metadata": {},
   "outputs": [
    {
     "data": {
      "application/vnd.microsoft.datawrangler.viewer.v0+json": {
       "columns": [
        {
         "name": "index",
         "rawType": "int64",
         "type": "integer"
        },
        {
         "name": "id",
         "rawType": "int64",
         "type": "integer"
        },
        {
         "name": "transformation",
         "rawType": "int64",
         "type": "integer"
        },
        {
         "name": "boundary",
         "rawType": "int64",
         "type": "integer"
        },
        {
         "name": "value",
         "rawType": "int64",
         "type": "integer"
        }
       ],
       "conversionMethod": "pd.DataFrame",
       "ref": "0a3d7d67-1f06-4ac9-b9dd-b9303507fc8a",
       "rows": [
        [
         "0",
         "2311",
         "1",
         "1",
         "813"
        ],
        [
         "1",
         "2311",
         "1",
         "2",
         "934"
        ],
        [
         "2",
         "2311",
         "1",
         "3",
         "792"
        ],
        [
         "3",
         "2311",
         "1",
         "4",
         "525"
        ],
        [
         "4",
         "2311",
         "2",
         "1",
         "705"
        ]
       ],
       "shape": {
        "columns": 4,
        "rows": 5
       }
      },
      "text/html": [
       "<div>\n",
       "<style scoped>\n",
       "    .dataframe tbody tr th:only-of-type {\n",
       "        vertical-align: middle;\n",
       "    }\n",
       "\n",
       "    .dataframe tbody tr th {\n",
       "        vertical-align: top;\n",
       "    }\n",
       "\n",
       "    .dataframe thead th {\n",
       "        text-align: right;\n",
       "    }\n",
       "</style>\n",
       "<table border=\"1\" class=\"dataframe\">\n",
       "  <thead>\n",
       "    <tr style=\"text-align: right;\">\n",
       "      <th></th>\n",
       "      <th>id</th>\n",
       "      <th>transformation</th>\n",
       "      <th>boundary</th>\n",
       "      <th>value</th>\n",
       "    </tr>\n",
       "  </thead>\n",
       "  <tbody>\n",
       "    <tr>\n",
       "      <th>0</th>\n",
       "      <td>2311</td>\n",
       "      <td>1</td>\n",
       "      <td>1</td>\n",
       "      <td>813</td>\n",
       "    </tr>\n",
       "    <tr>\n",
       "      <th>1</th>\n",
       "      <td>2311</td>\n",
       "      <td>1</td>\n",
       "      <td>2</td>\n",
       "      <td>934</td>\n",
       "    </tr>\n",
       "    <tr>\n",
       "      <th>2</th>\n",
       "      <td>2311</td>\n",
       "      <td>1</td>\n",
       "      <td>3</td>\n",
       "      <td>792</td>\n",
       "    </tr>\n",
       "    <tr>\n",
       "      <th>3</th>\n",
       "      <td>2311</td>\n",
       "      <td>1</td>\n",
       "      <td>4</td>\n",
       "      <td>525</td>\n",
       "    </tr>\n",
       "    <tr>\n",
       "      <th>4</th>\n",
       "      <td>2311</td>\n",
       "      <td>2</td>\n",
       "      <td>1</td>\n",
       "      <td>705</td>\n",
       "    </tr>\n",
       "  </tbody>\n",
       "</table>\n",
       "</div>"
      ],
      "text/plain": [
       "     id  transformation  boundary  value\n",
       "0  2311               1         1    813\n",
       "1  2311               1         2    934\n",
       "2  2311               1         3    792\n",
       "3  2311               1         4    525\n",
       "4  2311               2         1    705"
      ]
     },
     "execution_count": 188,
     "metadata": {},
     "output_type": "execute_result"
    }
   ],
   "source": [
    "all_boundaries.head()"
   ]
  },
  {
   "cell_type": "code",
   "execution_count": 189,
   "metadata": {},
   "outputs": [
    {
     "data": {
      "text/plain": [
       "array([  57,   61,   75,   99,  121,  175,  182,  313,  321,  334,  343,\n",
       "        407,  436,  447,  458,  459,  481,  491,  522,  525,  542,  567,\n",
       "        624,  626,  632,  675,  705,  723,  735,  752,  759,  789,  792,\n",
       "        813,  839,  840,  846,  862,  907,  927,  934,  938,  945,  957,\n",
       "        980,  999, 1005, 1014])"
      ]
     },
     "execution_count": 189,
     "metadata": {},
     "output_type": "execute_result"
    }
   ],
   "source": [
    "np.unique(all_boundaries['value'])"
   ]
  },
  {
   "cell_type": "code",
   "execution_count": 202,
   "metadata": {},
   "outputs": [],
   "source": [
    "all_boundaries_data = h.get_all_boundaries(data)\n",
    "b_unique = np.unique(all_boundaries_data['value'])"
   ]
  },
  {
   "cell_type": "code",
   "execution_count": 203,
   "metadata": {},
   "outputs": [],
   "source": [
    "unique_boundaries = [int(x) for x in b_unique] "
   ]
  },
  {
   "cell_type": "markdown",
   "metadata": {},
   "source": [
    "We have to prove that all boundary values are not symatrical and that all baoundary values and its reversed values are different"
   ]
  },
  {
   "cell_type": "code",
   "execution_count": 192,
   "metadata": {},
   "outputs": [
    {
     "data": {
      "text/plain": [
       "[0,\n",
       " 48,\n",
       " 72,\n",
       " 120,\n",
       " 132,\n",
       " 180,\n",
       " 204,\n",
       " 252,\n",
       " 258,\n",
       " 306,\n",
       " 330,\n",
       " 378,\n",
       " 390,\n",
       " 438,\n",
       " 462,\n",
       " 510,\n",
       " 513,\n",
       " 561,\n",
       " 585,\n",
       " 633,\n",
       " 645,\n",
       " 693,\n",
       " 717,\n",
       " 765,\n",
       " 771,\n",
       " 819,\n",
       " 843,\n",
       " 891,\n",
       " 903,\n",
       " 951,\n",
       " 975,\n",
       " 1023]"
      ]
     },
     "execution_count": 192,
     "metadata": {},
     "output_type": "execute_result"
    }
   ],
   "source": [
    "# Generate all 10-digit binary palindromes and convert them to decimal\n",
    "\n",
    "def generate_binary_palindromes(n_bits):\n",
    "    half = n_bits // 2\n",
    "    palindromes = []\n",
    "    for i in range(2**half):\n",
    "        left = f\"{i:0{half}b}\"\n",
    "        full = left + left[::-1]\n",
    "        palindromes.append(int(full, 2))\n",
    "    return palindromes\n",
    "\n",
    "# Generate for 10-bit binary palindromes\n",
    "palindromes_10_bit = generate_binary_palindromes(10)\n",
    "palindromes_10_bit"
   ]
  },
  {
   "cell_type": "code",
   "execution_count": 204,
   "metadata": {},
   "outputs": [],
   "source": [
    "for x in palindromes_10_bit:\n",
    "    if x in unique_boundaries:\n",
    "        print(x)"
   ]
  },
  {
   "cell_type": "markdown",
   "metadata": {},
   "source": [
    "All boundary values are non symmetric, that is that the boundary values and its reverse are not identical. therefore, no boundary in the exemple is symmetric."
   ]
  },
  {
   "cell_type": "markdown",
   "metadata": {},
   "source": [
    "### Pieces"
   ]
  },
  {
   "cell_type": "markdown",
   "metadata": {},
   "source": [
    "Each piece can put in 8 different shapes (after combinations of 4 rotations and 2 flips)"
   ]
  },
  {
   "cell_type": "code",
   "execution_count": 194,
   "metadata": {},
   "outputs": [],
   "source": [
    "all_transforms = h.get_all_transforms(data_example)"
   ]
  },
  {
   "cell_type": "code",
   "execution_count": 195,
   "metadata": {},
   "outputs": [
    {
     "data": {
      "application/vnd.microsoft.datawrangler.viewer.v0+json": {
       "columns": [
        {
         "name": "index",
         "rawType": "int64",
         "type": "integer"
        },
        {
         "name": "id",
         "rawType": "int64",
         "type": "integer"
        },
        {
         "name": "transformation",
         "rawType": "int64",
         "type": "integer"
        },
        {
         "name": "boundaries",
         "rawType": "object",
         "type": "unknown"
        }
       ],
       "conversionMethod": "pd.DataFrame",
       "ref": "4b39e93c-eb79-41fe-969a-194d75c4fd5a",
       "rows": [
        [
         "0",
         "2311",
         "1",
         "[813, 934, 792, 525]"
        ],
        [
         "1",
         "2311",
         "2",
         "[705, 813, 407, 792]"
        ],
        [
         "2",
         "2311",
         "3",
         "[99, 705, 723, 407]"
        ],
        [
         "3",
         "2311",
         "4",
         "[934, 99, 525, 723]"
        ],
        [
         "4",
         "2311",
         "5",
         "[723, 525, 99, 934]"
        ],
        [
         "5",
         "2311",
         "6",
         "[792, 407, 813, 705]"
        ],
        [
         "6",
         "2311",
         "7",
         "[407, 723, 705, 99]"
        ],
        [
         "7",
         "2311",
         "8",
         "[525, 792, 934, 813]"
        ],
        [
         "8",
         "1951",
         "1",
         "[313, 525, 459, 182]"
        ],
        [
         "9",
         "1951",
         "2",
         "[436, 313, 705, 459]"
        ],
        [
         "10",
         "1951",
         "3",
         "[846, 436, 626, 705]"
        ],
        [
         "11",
         "1951",
         "4",
         "[525, 846, 182, 626]"
        ],
        [
         "12",
         "1951",
         "5",
         "[626, 182, 846, 525]"
        ],
        [
         "13",
         "1951",
         "6",
         "[459, 705, 313, 436]"
        ],
        [
         "14",
         "1951",
         "7",
         "[705, 626, 436, 846]"
        ],
        [
         "15",
         "1951",
         "8",
         "[182, 459, 525, 313]"
        ],
        [
         "16",
         "1171",
         "1",
         "[57, 735, 999, 121]"
        ],
        [
         "17",
         "1171",
         "2",
         "[632, 57, 1005, 999]"
        ],
        [
         "18",
         "1171",
         "3",
         "[927, 632, 624, 1005]"
        ],
        [
         "19",
         "1171",
         "4",
         "[735, 927, 121, 624]"
        ],
        [
         "20",
         "1171",
         "5",
         "[624, 121, 927, 735]"
        ],
        [
         "21",
         "1171",
         "6",
         "[999, 1005, 57, 632]"
        ],
        [
         "22",
         "1171",
         "7",
         "[1005, 624, 632, 927]"
        ],
        [
         "23",
         "1171",
         "8",
         "[121, 999, 735, 57]"
        ],
        [
         "24",
         "1427",
         "1",
         "[75, 789, 813, 447]"
        ],
        [
         "25",
         "1427",
         "2",
         "[1014, 75, 675, 813]"
        ],
        [
         "26",
         "1427",
         "3",
         "[723, 1014, 840, 675]"
        ],
        [
         "27",
         "1427",
         "4",
         "[789, 723, 447, 840]"
        ],
        [
         "28",
         "1427",
         "5",
         "[840, 447, 723, 789]"
        ],
        [
         "29",
         "1427",
         "6",
         "[813, 675, 75, 1014]"
        ],
        [
         "30",
         "1427",
         "7",
         "[675, 840, 1014, 723]"
        ],
        [
         "31",
         "1427",
         "8",
         "[447, 813, 789, 75]"
        ],
        [
         "32",
         "1489",
         "1",
         "[175, 1005, 75, 458]"
        ],
        [
         "33",
         "1489",
         "2",
         "[334, 175, 735, 75]"
        ],
        [
         "34",
         "1489",
         "3",
         "[840, 334, 980, 735]"
        ],
        [
         "35",
         "1489",
         "4",
         "[1005, 840, 458, 980]"
        ],
        [
         "36",
         "1489",
         "5",
         "[980, 458, 840, 1005]"
        ],
        [
         "37",
         "1489",
         "6",
         "[75, 735, 175, 334]"
        ],
        [
         "38",
         "1489",
         "7",
         "[735, 980, 334, 840]"
        ],
        [
         "39",
         "1489",
         "8",
         "[458, 75, 1005, 175]"
        ],
        [
         "40",
         "2473",
         "1",
         "[481, 907, 789, 57]"
        ],
        [
         "41",
         "2473",
         "2",
         "[624, 481, 839, 789]"
        ],
        [
         "42",
         "2473",
         "3",
         "[675, 624, 542, 839]"
        ],
        [
         "43",
         "2473",
         "4",
         "[907, 675, 57, 542]"
        ],
        [
         "44",
         "2473",
         "5",
         "[542, 57, 675, 907]"
        ],
        [
         "45",
         "2473",
         "6",
         "[789, 839, 481, 624]"
        ],
        [
         "46",
         "2473",
         "7",
         "[839, 542, 624, 675]"
        ],
        [
         "47",
         "2473",
         "8",
         "[57, 789, 907, 481]"
        ],
        [
         "48",
         "2971",
         "1",
         "[862, 458, 938, 567]"
        ],
        [
         "49",
         "2971",
         "2",
         "[945, 862, 334, 938]"
        ]
       ],
       "shape": {
        "columns": 3,
        "rows": 72
       }
      },
      "text/html": [
       "<div>\n",
       "<style scoped>\n",
       "    .dataframe tbody tr th:only-of-type {\n",
       "        vertical-align: middle;\n",
       "    }\n",
       "\n",
       "    .dataframe tbody tr th {\n",
       "        vertical-align: top;\n",
       "    }\n",
       "\n",
       "    .dataframe thead th {\n",
       "        text-align: right;\n",
       "    }\n",
       "</style>\n",
       "<table border=\"1\" class=\"dataframe\">\n",
       "  <thead>\n",
       "    <tr style=\"text-align: right;\">\n",
       "      <th></th>\n",
       "      <th>id</th>\n",
       "      <th>transformation</th>\n",
       "      <th>boundaries</th>\n",
       "    </tr>\n",
       "  </thead>\n",
       "  <tbody>\n",
       "    <tr>\n",
       "      <th>0</th>\n",
       "      <td>2311</td>\n",
       "      <td>1</td>\n",
       "      <td>[813, 934, 792, 525]</td>\n",
       "    </tr>\n",
       "    <tr>\n",
       "      <th>1</th>\n",
       "      <td>2311</td>\n",
       "      <td>2</td>\n",
       "      <td>[705, 813, 407, 792]</td>\n",
       "    </tr>\n",
       "    <tr>\n",
       "      <th>2</th>\n",
       "      <td>2311</td>\n",
       "      <td>3</td>\n",
       "      <td>[99, 705, 723, 407]</td>\n",
       "    </tr>\n",
       "    <tr>\n",
       "      <th>3</th>\n",
       "      <td>2311</td>\n",
       "      <td>4</td>\n",
       "      <td>[934, 99, 525, 723]</td>\n",
       "    </tr>\n",
       "    <tr>\n",
       "      <th>4</th>\n",
       "      <td>2311</td>\n",
       "      <td>5</td>\n",
       "      <td>[723, 525, 99, 934]</td>\n",
       "    </tr>\n",
       "    <tr>\n",
       "      <th>...</th>\n",
       "      <td>...</td>\n",
       "      <td>...</td>\n",
       "      <td>...</td>\n",
       "    </tr>\n",
       "    <tr>\n",
       "      <th>67</th>\n",
       "      <td>3079</td>\n",
       "      <td>4</td>\n",
       "      <td>[759, 907, 407, 522]</td>\n",
       "    </tr>\n",
       "    <tr>\n",
       "      <th>68</th>\n",
       "      <td>3079</td>\n",
       "      <td>5</td>\n",
       "      <td>[522, 407, 907, 759]</td>\n",
       "    </tr>\n",
       "    <tr>\n",
       "      <th>69</th>\n",
       "      <td>3079</td>\n",
       "      <td>6</td>\n",
       "      <td>[839, 957, 321, 934]</td>\n",
       "    </tr>\n",
       "    <tr>\n",
       "      <th>70</th>\n",
       "      <td>3079</td>\n",
       "      <td>7</td>\n",
       "      <td>[957, 522, 934, 907]</td>\n",
       "    </tr>\n",
       "    <tr>\n",
       "      <th>71</th>\n",
       "      <td>3079</td>\n",
       "      <td>8</td>\n",
       "      <td>[407, 839, 759, 321]</td>\n",
       "    </tr>\n",
       "  </tbody>\n",
       "</table>\n",
       "<p>72 rows × 3 columns</p>\n",
       "</div>"
      ],
      "text/plain": [
       "      id  transformation            boundaries\n",
       "0   2311               1  [813, 934, 792, 525]\n",
       "1   2311               2  [705, 813, 407, 792]\n",
       "2   2311               3   [99, 705, 723, 407]\n",
       "3   2311               4   [934, 99, 525, 723]\n",
       "4   2311               5   [723, 525, 99, 934]\n",
       "..   ...             ...                   ...\n",
       "67  3079               4  [759, 907, 407, 522]\n",
       "68  3079               5  [522, 407, 907, 759]\n",
       "69  3079               6  [839, 957, 321, 934]\n",
       "70  3079               7  [957, 522, 934, 907]\n",
       "71  3079               8  [407, 839, 759, 321]\n",
       "\n",
       "[72 rows x 3 columns]"
      ]
     },
     "execution_count": 195,
     "metadata": {},
     "output_type": "execute_result"
    }
   ],
   "source": [
    "all_transforms"
   ]
  },
  {
   "cell_type": "code",
   "execution_count": 196,
   "metadata": {},
   "outputs": [
    {
     "data": {
      "text/plain": [
       "[8, 8, 8, 8, 8, 8, 8, 8, 8]"
      ]
     },
     "execution_count": 196,
     "metadata": {},
     "output_type": "execute_result"
    }
   ],
   "source": [
    "n=3\n",
    "[len(Counter(all_boundaries['value'][(n*32):((n+1)*32)])) for n in range(0,9)]"
   ]
  },
  {
   "cell_type": "code",
   "execution_count": 197,
   "metadata": {},
   "outputs": [
    {
     "data": {
      "text/plain": [
       "Counter({927: 4, 695: 4, 851: 4, 895: 4, 1019: 4, 949: 4, 811: 4, 999: 4})"
      ]
     },
     "execution_count": 197,
     "metadata": {},
     "output_type": "execute_result"
    }
   ],
   "source": [
    "n=0\n",
    "Counter(all_boundaries['value'][range(0+n*32,(n+1)*32)])"
   ]
  },
  {
   "cell_type": "markdown",
   "metadata": {},
   "source": [
    "### Coincidences"
   ]
  },
  {
   "cell_type": "code",
   "execution_count": 207,
   "metadata": {},
   "outputs": [
    {
     "data": {
      "application/vnd.microsoft.datawrangler.viewer.v0+json": {
       "columns": [
        {
         "name": "index",
         "rawType": "int64",
         "type": "integer"
        },
        {
         "name": "id",
         "rawType": "int64",
         "type": "integer"
        },
        {
         "name": "transformation",
         "rawType": "int64",
         "type": "integer"
        },
        {
         "name": "boundaries",
         "rawType": "object",
         "type": "unknown"
        }
       ],
       "conversionMethod": "pd.DataFrame",
       "ref": "c43c7b86-2c99-4df7-a085-00b4e6360ddf",
       "rows": [
        [
         "0",
         "2311",
         "1",
         "[813, 934, 792, 525]"
        ],
        [
         "1",
         "2311",
         "2",
         "[705, 813, 407, 792]"
        ],
        [
         "2",
         "2311",
         "3",
         "[99, 705, 723, 407]"
        ],
        [
         "3",
         "2311",
         "4",
         "[934, 99, 525, 723]"
        ],
        [
         "4",
         "2311",
         "5",
         "[723, 525, 99, 934]"
        ],
        [
         "5",
         "2311",
         "6",
         "[792, 407, 813, 705]"
        ],
        [
         "6",
         "2311",
         "7",
         "[407, 723, 705, 99]"
        ],
        [
         "7",
         "2311",
         "8",
         "[525, 792, 934, 813]"
        ]
       ],
       "shape": {
        "columns": 3,
        "rows": 8
       }
      },
      "text/html": [
       "<div>\n",
       "<style scoped>\n",
       "    .dataframe tbody tr th:only-of-type {\n",
       "        vertical-align: middle;\n",
       "    }\n",
       "\n",
       "    .dataframe tbody tr th {\n",
       "        vertical-align: top;\n",
       "    }\n",
       "\n",
       "    .dataframe thead th {\n",
       "        text-align: right;\n",
       "    }\n",
       "</style>\n",
       "<table border=\"1\" class=\"dataframe\">\n",
       "  <thead>\n",
       "    <tr style=\"text-align: right;\">\n",
       "      <th></th>\n",
       "      <th>id</th>\n",
       "      <th>transformation</th>\n",
       "      <th>boundaries</th>\n",
       "    </tr>\n",
       "  </thead>\n",
       "  <tbody>\n",
       "    <tr>\n",
       "      <th>0</th>\n",
       "      <td>2311</td>\n",
       "      <td>1</td>\n",
       "      <td>[813, 934, 792, 525]</td>\n",
       "    </tr>\n",
       "    <tr>\n",
       "      <th>1</th>\n",
       "      <td>2311</td>\n",
       "      <td>2</td>\n",
       "      <td>[705, 813, 407, 792]</td>\n",
       "    </tr>\n",
       "    <tr>\n",
       "      <th>2</th>\n",
       "      <td>2311</td>\n",
       "      <td>3</td>\n",
       "      <td>[99, 705, 723, 407]</td>\n",
       "    </tr>\n",
       "    <tr>\n",
       "      <th>3</th>\n",
       "      <td>2311</td>\n",
       "      <td>4</td>\n",
       "      <td>[934, 99, 525, 723]</td>\n",
       "    </tr>\n",
       "    <tr>\n",
       "      <th>4</th>\n",
       "      <td>2311</td>\n",
       "      <td>5</td>\n",
       "      <td>[723, 525, 99, 934]</td>\n",
       "    </tr>\n",
       "    <tr>\n",
       "      <th>5</th>\n",
       "      <td>2311</td>\n",
       "      <td>6</td>\n",
       "      <td>[792, 407, 813, 705]</td>\n",
       "    </tr>\n",
       "    <tr>\n",
       "      <th>6</th>\n",
       "      <td>2311</td>\n",
       "      <td>7</td>\n",
       "      <td>[407, 723, 705, 99]</td>\n",
       "    </tr>\n",
       "    <tr>\n",
       "      <th>7</th>\n",
       "      <td>2311</td>\n",
       "      <td>8</td>\n",
       "      <td>[525, 792, 934, 813]</td>\n",
       "    </tr>\n",
       "  </tbody>\n",
       "</table>\n",
       "</div>"
      ],
      "text/plain": [
       "     id  transformation            boundaries\n",
       "0  2311               1  [813, 934, 792, 525]\n",
       "1  2311               2  [705, 813, 407, 792]\n",
       "2  2311               3   [99, 705, 723, 407]\n",
       "3  2311               4   [934, 99, 525, 723]\n",
       "4  2311               5   [723, 525, 99, 934]\n",
       "5  2311               6  [792, 407, 813, 705]\n",
       "6  2311               7   [407, 723, 705, 99]\n",
       "7  2311               8  [525, 792, 934, 813]"
      ]
     },
     "execution_count": 207,
     "metadata": {},
     "output_type": "execute_result"
    }
   ],
   "source": [
    "all_transforms[all_transforms['id'] == 2311]"
   ]
  },
  {
   "cell_type": "markdown",
   "metadata": {},
   "source": [
    "A coincidence is when two pieces share a common boundary. This function computes the number of other pieces that have the same boundary b in piece id. For instance, boundary 813 in piece 2311 is found in another piece."
   ]
  },
  {
   "cell_type": "code",
   "execution_count": 208,
   "metadata": {},
   "outputs": [
    {
     "data": {
      "text/plain": [
       "1"
      ]
     },
     "execution_count": 208,
     "metadata": {},
     "output_type": "execute_result"
    }
   ],
   "source": [
    "h.n_coincidences(813, 2311, all_boundaries)"
   ]
  },
  {
   "cell_type": "code",
   "execution_count": 209,
   "metadata": {},
   "outputs": [
    {
     "data": {
      "application/vnd.microsoft.datawrangler.viewer.v0+json": {
       "columns": [
        {
         "name": "index",
         "rawType": "int64",
         "type": "integer"
        },
        {
         "name": "id",
         "rawType": "int64",
         "type": "integer"
        },
        {
         "name": "transformation",
         "rawType": "int64",
         "type": "integer"
        },
        {
         "name": "boundary",
         "rawType": "int64",
         "type": "integer"
        }
       ],
       "conversionMethod": "pd.DataFrame",
       "ref": "e0ccd63c-865d-4f15-a0f5-74230c09385b",
       "rows": [
        [
         "98",
         "1427",
         "1",
         "3"
        ],
        [
         "103",
         "1427",
         "2",
         "4"
        ],
        [
         "116",
         "1427",
         "6",
         "1"
        ],
        [
         "125",
         "1427",
         "8",
         "2"
        ]
       ],
       "shape": {
        "columns": 3,
        "rows": 4
       }
      },
      "text/html": [
       "<div>\n",
       "<style scoped>\n",
       "    .dataframe tbody tr th:only-of-type {\n",
       "        vertical-align: middle;\n",
       "    }\n",
       "\n",
       "    .dataframe tbody tr th {\n",
       "        vertical-align: top;\n",
       "    }\n",
       "\n",
       "    .dataframe thead th {\n",
       "        text-align: right;\n",
       "    }\n",
       "</style>\n",
       "<table border=\"1\" class=\"dataframe\">\n",
       "  <thead>\n",
       "    <tr style=\"text-align: right;\">\n",
       "      <th></th>\n",
       "      <th>id</th>\n",
       "      <th>transformation</th>\n",
       "      <th>boundary</th>\n",
       "    </tr>\n",
       "  </thead>\n",
       "  <tbody>\n",
       "    <tr>\n",
       "      <th>98</th>\n",
       "      <td>1427</td>\n",
       "      <td>1</td>\n",
       "      <td>3</td>\n",
       "    </tr>\n",
       "    <tr>\n",
       "      <th>103</th>\n",
       "      <td>1427</td>\n",
       "      <td>2</td>\n",
       "      <td>4</td>\n",
       "    </tr>\n",
       "    <tr>\n",
       "      <th>116</th>\n",
       "      <td>1427</td>\n",
       "      <td>6</td>\n",
       "      <td>1</td>\n",
       "    </tr>\n",
       "    <tr>\n",
       "      <th>125</th>\n",
       "      <td>1427</td>\n",
       "      <td>8</td>\n",
       "      <td>2</td>\n",
       "    </tr>\n",
       "  </tbody>\n",
       "</table>\n",
       "</div>"
      ],
      "text/plain": [
       "       id  transformation  boundary\n",
       "98   1427               1         3\n",
       "103  1427               2         4\n",
       "116  1427               6         1\n",
       "125  1427               8         2"
      ]
     },
     "execution_count": 209,
     "metadata": {},
     "output_type": "execute_result"
    }
   ],
   "source": [
    "id = 2311 # tile\n",
    "b = 813 # boundary value\n",
    "new_df = all_boundaries[all_boundaries['id']!=id] \n",
    "new_df[new_df['value'] == b][['id','transformation', 'boundary']]\n"
   ]
  },
  {
   "cell_type": "markdown",
   "metadata": {},
   "source": [
    "Boundary 813 exists also in tile 1427 in 4 different boundary positions. Given a boundary value, and a boundary position there is only one tile shape possible. This is the key to join all pieces to create the final matrix. For all possible boundary values, we find how many other pieces have the same boundary. "
   ]
  },
  {
   "cell_type": "code",
   "execution_count": 210,
   "metadata": {},
   "outputs": [
    {
     "data": {
      "text/plain": [
       "[0, 1]"
      ]
     },
     "execution_count": 210,
     "metadata": {},
     "output_type": "execute_result"
    }
   ],
   "source": [
    "# all coincidence for all boundaries for each piece and boundary\n",
    "all_coincidences = [h.n_coincidences(int(r[3]), int(r[0]), all_boundaries) for r in all_boundaries.values]\n",
    "np.unique(all_coincidences).tolist()"
   ]
  },
  {
   "cell_type": "markdown",
   "metadata": {},
   "source": [
    "Each piece has a maximum of one common border with any other piece"
   ]
  },
  {
   "cell_type": "markdown",
   "metadata": {},
   "source": [
    "### Number of common boundaries in a tile "
   ]
  },
  {
   "cell_type": "markdown",
   "metadata": {},
   "source": [
    "We compute it only for the tiles in the original shape. To match them, we will have to transform them"
   ]
  },
  {
   "cell_type": "code",
   "execution_count": 211,
   "metadata": {},
   "outputs": [
    {
     "name": "stdout",
     "output_type": "stream",
     "text": [
      "[2311, 1, 3]\n",
      "[1951, 1, 2]\n",
      "[1171, 1, 2]\n",
      "[1427, 1, 4]\n",
      "[1489, 1, 3]\n",
      "[2473, 1, 3]\n",
      "[2971, 1, 2]\n",
      "[2729, 1, 3]\n",
      "[3079, 1, 2]\n"
     ]
    }
   ],
   "source": [
    "y = all_transforms\n",
    "i_count = 0\n",
    "z=[]\n",
    "for tile in y.values :\n",
    "    if i_count % 8 == 0:\n",
    "        n_matches = 0\n",
    "        for b in tile[2]:\n",
    "            n_matches = n_matches + h.n_coincidences(b, tile[0], all_boundaries)\n",
    "        print([tile[0], tile[1], n_matches])\n",
    "        z.append([tile[0], tile[1], n_matches])\n",
    "    i_count = i_count + 1"
   ]
  },
  {
   "cell_type": "code",
   "execution_count": 57,
   "metadata": {},
   "outputs": [
    {
     "name": "stdout",
     "output_type": "stream",
     "text": [
      "[[2311, 1, 3], [1951, 1, 2], [1171, 1, 2], [1427, 1, 4], [1489, 1, 3], [2473, 1, 3], [2971, 1, 2], [2729, 1, 3], [3079, 1, 2]]\n"
     ]
    }
   ],
   "source": [
    "print(z)"
   ]
  },
  {
   "cell_type": "markdown",
   "metadata": {},
   "source": [
    "The pieces with 2 common boundaries, are corners. The ones with 3 are the pieces in the boundary and the ones with 4 are the pieces inside. In this case, the corners are the pieces 1951, 1171, 2971 and 3079"
   ]
  },
  {
   "cell_type": "code",
   "execution_count": 212,
   "metadata": {},
   "outputs": [
    {
     "data": {
      "text/plain": [
       "[1951, 1171, 2971, 3079]"
      ]
     },
     "execution_count": 212,
     "metadata": {},
     "output_type": "execute_result"
    }
   ],
   "source": [
    "corners = []\n",
    "for x in z:\n",
    "    if x[2] == 2:\n",
    "        corners.append(x[0])\n",
    "corners\n"
   ]
  },
  {
   "cell_type": "code",
   "execution_count": 213,
   "metadata": {},
   "outputs": [
    {
     "data": {
      "text/plain": [
       "20899048083289"
      ]
     },
     "execution_count": 213,
     "metadata": {},
     "output_type": "execute_result"
    }
   ],
   "source": [
    "math.prod(corners)"
   ]
  },
  {
   "cell_type": "markdown",
   "metadata": {},
   "source": [
    "This is the solution of question 1\n"
   ]
  },
  {
   "cell_type": "code",
   "execution_count": 214,
   "metadata": {},
   "outputs": [],
   "source": [
    "data = h.read_input()\n",
    "all_boundaries_data = h.get_all_boundaries(data)\n",
    "all_transforms_data = h.get_all_transforms(data)\n",
    "\n",
    "y_data = all_transforms_data\n",
    "i_count = 0\n",
    "z_data=[]\n",
    "for tile in y_data.values :\n",
    "    if i_count % 8 == 0:\n",
    "        n_matches = 0\n",
    "        for b in tile[2]:\n",
    "            n_matches = n_matches + h.n_coincidences(b, tile[0], all_boundaries_data)\n",
    "        # print([tile[0], tile[1], n_matches])\n",
    "        z_data.append([tile[0], tile[1], n_matches])\n",
    "    i_count = i_count + 1"
   ]
  },
  {
   "cell_type": "code",
   "execution_count": 215,
   "metadata": {},
   "outputs": [
    {
     "data": {
      "text/plain": [
       "[2243, 1213, 2953, 2273]"
      ]
     },
     "execution_count": 215,
     "metadata": {},
     "output_type": "execute_result"
    }
   ],
   "source": [
    "corners_data = []\n",
    "for x in z_data:\n",
    "    if x[2] == 2:\n",
    "        corners_data.append(x[0])\n",
    "corners_data"
   ]
  },
  {
   "cell_type": "code",
   "execution_count": 216,
   "metadata": {},
   "outputs": [
    {
     "data": {
      "text/plain": [
       "18262194216271"
      ]
     },
     "execution_count": 216,
     "metadata": {},
     "output_type": "execute_result"
    }
   ],
   "source": [
    "math.prod(corners_data)"
   ]
  },
  {
   "cell_type": "markdown",
   "metadata": {},
   "source": [
    "## Second question."
   ]
  },
  {
   "cell_type": "markdown",
   "metadata": {},
   "source": [
    "We have first to build the complete image with the right pieces with the right transform in each position."
   ]
  },
  {
   "cell_type": "markdown",
   "metadata": {},
   "source": [
    "We solve it for the simple example first (3x3). Let us take the four corner tiles and identify whihc boundaries are external"
   ]
  },
  {
   "cell_type": "code",
   "execution_count": 217,
   "metadata": {},
   "outputs": [
    {
     "data": {
      "application/vnd.microsoft.datawrangler.viewer.v0+json": {
       "columns": [
        {
         "name": "index",
         "rawType": "int64",
         "type": "integer"
        },
        {
         "name": "id",
         "rawType": "int64",
         "type": "integer"
        },
        {
         "name": "transformation",
         "rawType": "int64",
         "type": "integer"
        },
        {
         "name": "boundary",
         "rawType": "int64",
         "type": "integer"
        },
        {
         "name": "value",
         "rawType": "int64",
         "type": "integer"
        }
       ],
       "conversionMethod": "pd.DataFrame",
       "ref": "3909f93c-c01f-4cd3-9245-bc172f910f22",
       "rows": [
        [
         "32",
         "1951",
         "1",
         "1",
         "313"
        ],
        [
         "33",
         "1951",
         "1",
         "2",
         "525"
        ],
        [
         "34",
         "1951",
         "1",
         "3",
         "459"
        ],
        [
         "35",
         "1951",
         "1",
         "4",
         "182"
        ],
        [
         "36",
         "1951",
         "2",
         "1",
         "436"
        ],
        [
         "37",
         "1951",
         "2",
         "2",
         "313"
        ],
        [
         "38",
         "1951",
         "2",
         "3",
         "705"
        ],
        [
         "39",
         "1951",
         "2",
         "4",
         "459"
        ],
        [
         "40",
         "1951",
         "3",
         "1",
         "846"
        ],
        [
         "41",
         "1951",
         "3",
         "2",
         "436"
        ],
        [
         "42",
         "1951",
         "3",
         "3",
         "626"
        ],
        [
         "43",
         "1951",
         "3",
         "4",
         "705"
        ],
        [
         "44",
         "1951",
         "4",
         "1",
         "525"
        ],
        [
         "45",
         "1951",
         "4",
         "2",
         "846"
        ],
        [
         "46",
         "1951",
         "4",
         "3",
         "182"
        ],
        [
         "47",
         "1951",
         "4",
         "4",
         "626"
        ],
        [
         "48",
         "1951",
         "5",
         "1",
         "626"
        ],
        [
         "49",
         "1951",
         "5",
         "2",
         "182"
        ],
        [
         "50",
         "1951",
         "5",
         "3",
         "846"
        ],
        [
         "51",
         "1951",
         "5",
         "4",
         "525"
        ],
        [
         "52",
         "1951",
         "6",
         "1",
         "459"
        ],
        [
         "53",
         "1951",
         "6",
         "2",
         "705"
        ],
        [
         "54",
         "1951",
         "6",
         "3",
         "313"
        ],
        [
         "55",
         "1951",
         "6",
         "4",
         "436"
        ],
        [
         "56",
         "1951",
         "7",
         "1",
         "705"
        ],
        [
         "57",
         "1951",
         "7",
         "2",
         "626"
        ],
        [
         "58",
         "1951",
         "7",
         "3",
         "436"
        ],
        [
         "59",
         "1951",
         "7",
         "4",
         "846"
        ],
        [
         "60",
         "1951",
         "8",
         "1",
         "182"
        ],
        [
         "61",
         "1951",
         "8",
         "2",
         "459"
        ],
        [
         "62",
         "1951",
         "8",
         "3",
         "525"
        ],
        [
         "63",
         "1951",
         "8",
         "4",
         "313"
        ],
        [
         "64",
         "1171",
         "1",
         "1",
         "57"
        ],
        [
         "65",
         "1171",
         "1",
         "2",
         "735"
        ],
        [
         "66",
         "1171",
         "1",
         "3",
         "999"
        ],
        [
         "67",
         "1171",
         "1",
         "4",
         "121"
        ],
        [
         "68",
         "1171",
         "2",
         "1",
         "632"
        ],
        [
         "69",
         "1171",
         "2",
         "2",
         "57"
        ],
        [
         "70",
         "1171",
         "2",
         "3",
         "1005"
        ],
        [
         "71",
         "1171",
         "2",
         "4",
         "999"
        ],
        [
         "72",
         "1171",
         "3",
         "1",
         "927"
        ],
        [
         "73",
         "1171",
         "3",
         "2",
         "632"
        ],
        [
         "74",
         "1171",
         "3",
         "3",
         "624"
        ],
        [
         "75",
         "1171",
         "3",
         "4",
         "1005"
        ],
        [
         "76",
         "1171",
         "4",
         "1",
         "735"
        ],
        [
         "77",
         "1171",
         "4",
         "2",
         "927"
        ],
        [
         "78",
         "1171",
         "4",
         "3",
         "121"
        ],
        [
         "79",
         "1171",
         "4",
         "4",
         "624"
        ],
        [
         "80",
         "1171",
         "5",
         "1",
         "624"
        ],
        [
         "81",
         "1171",
         "5",
         "2",
         "121"
        ]
       ],
       "shape": {
        "columns": 4,
        "rows": 128
       }
      },
      "text/html": [
       "<div>\n",
       "<style scoped>\n",
       "    .dataframe tbody tr th:only-of-type {\n",
       "        vertical-align: middle;\n",
       "    }\n",
       "\n",
       "    .dataframe tbody tr th {\n",
       "        vertical-align: top;\n",
       "    }\n",
       "\n",
       "    .dataframe thead th {\n",
       "        text-align: right;\n",
       "    }\n",
       "</style>\n",
       "<table border=\"1\" class=\"dataframe\">\n",
       "  <thead>\n",
       "    <tr style=\"text-align: right;\">\n",
       "      <th></th>\n",
       "      <th>id</th>\n",
       "      <th>transformation</th>\n",
       "      <th>boundary</th>\n",
       "      <th>value</th>\n",
       "    </tr>\n",
       "  </thead>\n",
       "  <tbody>\n",
       "    <tr>\n",
       "      <th>32</th>\n",
       "      <td>1951</td>\n",
       "      <td>1</td>\n",
       "      <td>1</td>\n",
       "      <td>313</td>\n",
       "    </tr>\n",
       "    <tr>\n",
       "      <th>33</th>\n",
       "      <td>1951</td>\n",
       "      <td>1</td>\n",
       "      <td>2</td>\n",
       "      <td>525</td>\n",
       "    </tr>\n",
       "    <tr>\n",
       "      <th>34</th>\n",
       "      <td>1951</td>\n",
       "      <td>1</td>\n",
       "      <td>3</td>\n",
       "      <td>459</td>\n",
       "    </tr>\n",
       "    <tr>\n",
       "      <th>35</th>\n",
       "      <td>1951</td>\n",
       "      <td>1</td>\n",
       "      <td>4</td>\n",
       "      <td>182</td>\n",
       "    </tr>\n",
       "    <tr>\n",
       "      <th>36</th>\n",
       "      <td>1951</td>\n",
       "      <td>2</td>\n",
       "      <td>1</td>\n",
       "      <td>436</td>\n",
       "    </tr>\n",
       "    <tr>\n",
       "      <th>...</th>\n",
       "      <td>...</td>\n",
       "      <td>...</td>\n",
       "      <td>...</td>\n",
       "      <td>...</td>\n",
       "    </tr>\n",
       "    <tr>\n",
       "      <th>283</th>\n",
       "      <td>3079</td>\n",
       "      <td>7</td>\n",
       "      <td>4</td>\n",
       "      <td>907</td>\n",
       "    </tr>\n",
       "    <tr>\n",
       "      <th>284</th>\n",
       "      <td>3079</td>\n",
       "      <td>8</td>\n",
       "      <td>1</td>\n",
       "      <td>407</td>\n",
       "    </tr>\n",
       "    <tr>\n",
       "      <th>285</th>\n",
       "      <td>3079</td>\n",
       "      <td>8</td>\n",
       "      <td>2</td>\n",
       "      <td>839</td>\n",
       "    </tr>\n",
       "    <tr>\n",
       "      <th>286</th>\n",
       "      <td>3079</td>\n",
       "      <td>8</td>\n",
       "      <td>3</td>\n",
       "      <td>759</td>\n",
       "    </tr>\n",
       "    <tr>\n",
       "      <th>287</th>\n",
       "      <td>3079</td>\n",
       "      <td>8</td>\n",
       "      <td>4</td>\n",
       "      <td>321</td>\n",
       "    </tr>\n",
       "  </tbody>\n",
       "</table>\n",
       "<p>128 rows × 4 columns</p>\n",
       "</div>"
      ],
      "text/plain": [
       "       id  transformation  boundary  value\n",
       "32   1951               1         1    313\n",
       "33   1951               1         2    525\n",
       "34   1951               1         3    459\n",
       "35   1951               1         4    182\n",
       "36   1951               2         1    436\n",
       "..    ...             ...       ...    ...\n",
       "283  3079               7         4    907\n",
       "284  3079               8         1    407\n",
       "285  3079               8         2    839\n",
       "286  3079               8         3    759\n",
       "287  3079               8         4    321\n",
       "\n",
       "[128 rows x 4 columns]"
      ]
     },
     "execution_count": 217,
     "metadata": {},
     "output_type": "execute_result"
    }
   ],
   "source": [
    "all_boundaries[all_boundaries['id'].isin(corners)]"
   ]
  },
  {
   "cell_type": "code",
   "execution_count": 218,
   "metadata": {},
   "outputs": [
    {
     "data": {
      "application/vnd.microsoft.datawrangler.viewer.v0+json": {
       "columns": [
        {
         "name": "index",
         "rawType": "int64",
         "type": "integer"
        },
        {
         "name": "id",
         "rawType": "int64",
         "type": "integer"
        },
        {
         "name": "transformation",
         "rawType": "int64",
         "type": "integer"
        },
        {
         "name": "boundaries",
         "rawType": "object",
         "type": "unknown"
        }
       ],
       "conversionMethod": "pd.DataFrame",
       "ref": "8a3a0029-275b-484e-97c2-f358c6bb18bb",
       "rows": [
        [
         "8",
         "1951",
         "1",
         "[313, 525, 459, 182]"
        ],
        [
         "9",
         "1951",
         "2",
         "[436, 313, 705, 459]"
        ],
        [
         "10",
         "1951",
         "3",
         "[846, 436, 626, 705]"
        ],
        [
         "11",
         "1951",
         "4",
         "[525, 846, 182, 626]"
        ],
        [
         "12",
         "1951",
         "5",
         "[626, 182, 846, 525]"
        ],
        [
         "13",
         "1951",
         "6",
         "[459, 705, 313, 436]"
        ],
        [
         "14",
         "1951",
         "7",
         "[705, 626, 436, 846]"
        ],
        [
         "15",
         "1951",
         "8",
         "[182, 459, 525, 313]"
        ],
        [
         "16",
         "1171",
         "1",
         "[57, 735, 999, 121]"
        ],
        [
         "17",
         "1171",
         "2",
         "[632, 57, 1005, 999]"
        ],
        [
         "18",
         "1171",
         "3",
         "[927, 632, 624, 1005]"
        ],
        [
         "19",
         "1171",
         "4",
         "[735, 927, 121, 624]"
        ],
        [
         "20",
         "1171",
         "5",
         "[624, 121, 927, 735]"
        ],
        [
         "21",
         "1171",
         "6",
         "[999, 1005, 57, 632]"
        ],
        [
         "22",
         "1171",
         "7",
         "[1005, 624, 632, 927]"
        ],
        [
         "23",
         "1171",
         "8",
         "[121, 999, 735, 57]"
        ],
        [
         "48",
         "2971",
         "1",
         "[862, 458, 938, 567]"
        ],
        [
         "49",
         "2971",
         "2",
         "[945, 862, 334, 938]"
        ],
        [
         "50",
         "2971",
         "3",
         "[343, 945, 491, 334]"
        ],
        [
         "51",
         "2971",
         "4",
         "[458, 343, 567, 491]"
        ],
        [
         "52",
         "2971",
         "5",
         "[491, 567, 343, 458]"
        ],
        [
         "53",
         "2971",
         "6",
         "[938, 334, 862, 945]"
        ],
        [
         "54",
         "2971",
         "7",
         "[334, 491, 945, 343]"
        ],
        [
         "55",
         "2971",
         "8",
         "[567, 938, 458, 862]"
        ],
        [
         "64",
         "3079",
         "1",
         "[321, 759, 839, 407]"
        ],
        [
         "65",
         "3079",
         "2",
         "[934, 321, 957, 839]"
        ],
        [
         "66",
         "3079",
         "3",
         "[907, 934, 522, 957]"
        ],
        [
         "67",
         "3079",
         "4",
         "[759, 907, 407, 522]"
        ],
        [
         "68",
         "3079",
         "5",
         "[522, 407, 907, 759]"
        ],
        [
         "69",
         "3079",
         "6",
         "[839, 957, 321, 934]"
        ],
        [
         "70",
         "3079",
         "7",
         "[957, 522, 934, 907]"
        ],
        [
         "71",
         "3079",
         "8",
         "[407, 839, 759, 321]"
        ]
       ],
       "shape": {
        "columns": 3,
        "rows": 32
       }
      },
      "text/html": [
       "<div>\n",
       "<style scoped>\n",
       "    .dataframe tbody tr th:only-of-type {\n",
       "        vertical-align: middle;\n",
       "    }\n",
       "\n",
       "    .dataframe tbody tr th {\n",
       "        vertical-align: top;\n",
       "    }\n",
       "\n",
       "    .dataframe thead th {\n",
       "        text-align: right;\n",
       "    }\n",
       "</style>\n",
       "<table border=\"1\" class=\"dataframe\">\n",
       "  <thead>\n",
       "    <tr style=\"text-align: right;\">\n",
       "      <th></th>\n",
       "      <th>id</th>\n",
       "      <th>transformation</th>\n",
       "      <th>boundaries</th>\n",
       "    </tr>\n",
       "  </thead>\n",
       "  <tbody>\n",
       "    <tr>\n",
       "      <th>8</th>\n",
       "      <td>1951</td>\n",
       "      <td>1</td>\n",
       "      <td>[313, 525, 459, 182]</td>\n",
       "    </tr>\n",
       "    <tr>\n",
       "      <th>9</th>\n",
       "      <td>1951</td>\n",
       "      <td>2</td>\n",
       "      <td>[436, 313, 705, 459]</td>\n",
       "    </tr>\n",
       "    <tr>\n",
       "      <th>10</th>\n",
       "      <td>1951</td>\n",
       "      <td>3</td>\n",
       "      <td>[846, 436, 626, 705]</td>\n",
       "    </tr>\n",
       "    <tr>\n",
       "      <th>11</th>\n",
       "      <td>1951</td>\n",
       "      <td>4</td>\n",
       "      <td>[525, 846, 182, 626]</td>\n",
       "    </tr>\n",
       "    <tr>\n",
       "      <th>12</th>\n",
       "      <td>1951</td>\n",
       "      <td>5</td>\n",
       "      <td>[626, 182, 846, 525]</td>\n",
       "    </tr>\n",
       "    <tr>\n",
       "      <th>13</th>\n",
       "      <td>1951</td>\n",
       "      <td>6</td>\n",
       "      <td>[459, 705, 313, 436]</td>\n",
       "    </tr>\n",
       "    <tr>\n",
       "      <th>14</th>\n",
       "      <td>1951</td>\n",
       "      <td>7</td>\n",
       "      <td>[705, 626, 436, 846]</td>\n",
       "    </tr>\n",
       "    <tr>\n",
       "      <th>15</th>\n",
       "      <td>1951</td>\n",
       "      <td>8</td>\n",
       "      <td>[182, 459, 525, 313]</td>\n",
       "    </tr>\n",
       "    <tr>\n",
       "      <th>16</th>\n",
       "      <td>1171</td>\n",
       "      <td>1</td>\n",
       "      <td>[57, 735, 999, 121]</td>\n",
       "    </tr>\n",
       "    <tr>\n",
       "      <th>17</th>\n",
       "      <td>1171</td>\n",
       "      <td>2</td>\n",
       "      <td>[632, 57, 1005, 999]</td>\n",
       "    </tr>\n",
       "    <tr>\n",
       "      <th>18</th>\n",
       "      <td>1171</td>\n",
       "      <td>3</td>\n",
       "      <td>[927, 632, 624, 1005]</td>\n",
       "    </tr>\n",
       "    <tr>\n",
       "      <th>19</th>\n",
       "      <td>1171</td>\n",
       "      <td>4</td>\n",
       "      <td>[735, 927, 121, 624]</td>\n",
       "    </tr>\n",
       "    <tr>\n",
       "      <th>20</th>\n",
       "      <td>1171</td>\n",
       "      <td>5</td>\n",
       "      <td>[624, 121, 927, 735]</td>\n",
       "    </tr>\n",
       "    <tr>\n",
       "      <th>21</th>\n",
       "      <td>1171</td>\n",
       "      <td>6</td>\n",
       "      <td>[999, 1005, 57, 632]</td>\n",
       "    </tr>\n",
       "    <tr>\n",
       "      <th>22</th>\n",
       "      <td>1171</td>\n",
       "      <td>7</td>\n",
       "      <td>[1005, 624, 632, 927]</td>\n",
       "    </tr>\n",
       "    <tr>\n",
       "      <th>23</th>\n",
       "      <td>1171</td>\n",
       "      <td>8</td>\n",
       "      <td>[121, 999, 735, 57]</td>\n",
       "    </tr>\n",
       "    <tr>\n",
       "      <th>48</th>\n",
       "      <td>2971</td>\n",
       "      <td>1</td>\n",
       "      <td>[862, 458, 938, 567]</td>\n",
       "    </tr>\n",
       "    <tr>\n",
       "      <th>49</th>\n",
       "      <td>2971</td>\n",
       "      <td>2</td>\n",
       "      <td>[945, 862, 334, 938]</td>\n",
       "    </tr>\n",
       "    <tr>\n",
       "      <th>50</th>\n",
       "      <td>2971</td>\n",
       "      <td>3</td>\n",
       "      <td>[343, 945, 491, 334]</td>\n",
       "    </tr>\n",
       "    <tr>\n",
       "      <th>51</th>\n",
       "      <td>2971</td>\n",
       "      <td>4</td>\n",
       "      <td>[458, 343, 567, 491]</td>\n",
       "    </tr>\n",
       "    <tr>\n",
       "      <th>52</th>\n",
       "      <td>2971</td>\n",
       "      <td>5</td>\n",
       "      <td>[491, 567, 343, 458]</td>\n",
       "    </tr>\n",
       "    <tr>\n",
       "      <th>53</th>\n",
       "      <td>2971</td>\n",
       "      <td>6</td>\n",
       "      <td>[938, 334, 862, 945]</td>\n",
       "    </tr>\n",
       "    <tr>\n",
       "      <th>54</th>\n",
       "      <td>2971</td>\n",
       "      <td>7</td>\n",
       "      <td>[334, 491, 945, 343]</td>\n",
       "    </tr>\n",
       "    <tr>\n",
       "      <th>55</th>\n",
       "      <td>2971</td>\n",
       "      <td>8</td>\n",
       "      <td>[567, 938, 458, 862]</td>\n",
       "    </tr>\n",
       "    <tr>\n",
       "      <th>64</th>\n",
       "      <td>3079</td>\n",
       "      <td>1</td>\n",
       "      <td>[321, 759, 839, 407]</td>\n",
       "    </tr>\n",
       "    <tr>\n",
       "      <th>65</th>\n",
       "      <td>3079</td>\n",
       "      <td>2</td>\n",
       "      <td>[934, 321, 957, 839]</td>\n",
       "    </tr>\n",
       "    <tr>\n",
       "      <th>66</th>\n",
       "      <td>3079</td>\n",
       "      <td>3</td>\n",
       "      <td>[907, 934, 522, 957]</td>\n",
       "    </tr>\n",
       "    <tr>\n",
       "      <th>67</th>\n",
       "      <td>3079</td>\n",
       "      <td>4</td>\n",
       "      <td>[759, 907, 407, 522]</td>\n",
       "    </tr>\n",
       "    <tr>\n",
       "      <th>68</th>\n",
       "      <td>3079</td>\n",
       "      <td>5</td>\n",
       "      <td>[522, 407, 907, 759]</td>\n",
       "    </tr>\n",
       "    <tr>\n",
       "      <th>69</th>\n",
       "      <td>3079</td>\n",
       "      <td>6</td>\n",
       "      <td>[839, 957, 321, 934]</td>\n",
       "    </tr>\n",
       "    <tr>\n",
       "      <th>70</th>\n",
       "      <td>3079</td>\n",
       "      <td>7</td>\n",
       "      <td>[957, 522, 934, 907]</td>\n",
       "    </tr>\n",
       "    <tr>\n",
       "      <th>71</th>\n",
       "      <td>3079</td>\n",
       "      <td>8</td>\n",
       "      <td>[407, 839, 759, 321]</td>\n",
       "    </tr>\n",
       "  </tbody>\n",
       "</table>\n",
       "</div>"
      ],
      "text/plain": [
       "      id  transformation             boundaries\n",
       "8   1951               1   [313, 525, 459, 182]\n",
       "9   1951               2   [436, 313, 705, 459]\n",
       "10  1951               3   [846, 436, 626, 705]\n",
       "11  1951               4   [525, 846, 182, 626]\n",
       "12  1951               5   [626, 182, 846, 525]\n",
       "13  1951               6   [459, 705, 313, 436]\n",
       "14  1951               7   [705, 626, 436, 846]\n",
       "15  1951               8   [182, 459, 525, 313]\n",
       "16  1171               1    [57, 735, 999, 121]\n",
       "17  1171               2   [632, 57, 1005, 999]\n",
       "18  1171               3  [927, 632, 624, 1005]\n",
       "19  1171               4   [735, 927, 121, 624]\n",
       "20  1171               5   [624, 121, 927, 735]\n",
       "21  1171               6   [999, 1005, 57, 632]\n",
       "22  1171               7  [1005, 624, 632, 927]\n",
       "23  1171               8    [121, 999, 735, 57]\n",
       "48  2971               1   [862, 458, 938, 567]\n",
       "49  2971               2   [945, 862, 334, 938]\n",
       "50  2971               3   [343, 945, 491, 334]\n",
       "51  2971               4   [458, 343, 567, 491]\n",
       "52  2971               5   [491, 567, 343, 458]\n",
       "53  2971               6   [938, 334, 862, 945]\n",
       "54  2971               7   [334, 491, 945, 343]\n",
       "55  2971               8   [567, 938, 458, 862]\n",
       "64  3079               1   [321, 759, 839, 407]\n",
       "65  3079               2   [934, 321, 957, 839]\n",
       "66  3079               3   [907, 934, 522, 957]\n",
       "67  3079               4   [759, 907, 407, 522]\n",
       "68  3079               5   [522, 407, 907, 759]\n",
       "69  3079               6   [839, 957, 321, 934]\n",
       "70  3079               7   [957, 522, 934, 907]\n",
       "71  3079               8   [407, 839, 759, 321]"
      ]
     },
     "execution_count": 218,
     "metadata": {},
     "output_type": "execute_result"
    }
   ],
   "source": [
    "all_transforms[all_transforms['id'].isin(corners)]"
   ]
  },
  {
   "cell_type": "code",
   "execution_count": 219,
   "metadata": {},
   "outputs": [],
   "source": [
    "# all coincidence for all boundaries for each piece and boundary\n",
    "all_boundaries_corners = all_boundaries[all_boundaries['id'].isin(corners)]\n",
    "all_coincidences = [(int(r[0]),int(r[1]),int(r[2]), int(r[3]), h.n_coincidences(int(r[3]), int(r[0]), all_boundaries)) for r in all_boundaries_corners.values]\n",
    "#np.unique(all_coincidences).tolist()\n",
    "boundary_corner = [x for x in all_coincidences if x[4]==0]"
   ]
  },
  {
   "cell_type": "code",
   "execution_count": 220,
   "metadata": {},
   "outputs": [
    {
     "data": {
      "text/plain": [
       "[(1951, 1, 3, 459, 0),\n",
       " (1951, 1, 4, 182, 0),\n",
       " (1951, 2, 1, 436, 0),\n",
       " (1951, 2, 4, 459, 0),\n",
       " (1951, 3, 1, 846, 0),\n",
       " (1951, 3, 2, 436, 0),\n",
       " (1951, 4, 2, 846, 0),\n",
       " (1951, 4, 3, 182, 0),\n",
       " (1951, 5, 2, 182, 0),\n",
       " (1951, 5, 3, 846, 0),\n",
       " (1951, 6, 1, 459, 0),\n",
       " (1951, 6, 4, 436, 0),\n",
       " (1951, 7, 3, 436, 0),\n",
       " (1951, 7, 4, 846, 0),\n",
       " (1951, 8, 1, 182, 0),\n",
       " (1951, 8, 2, 459, 0),\n",
       " (1171, 1, 3, 999, 0),\n",
       " (1171, 1, 4, 121, 0),\n",
       " (1171, 2, 1, 632, 0),\n",
       " (1171, 2, 4, 999, 0),\n",
       " (1171, 3, 1, 927, 0),\n",
       " (1171, 3, 2, 632, 0),\n",
       " (1171, 4, 2, 927, 0),\n",
       " (1171, 4, 3, 121, 0),\n",
       " (1171, 5, 2, 121, 0),\n",
       " (1171, 5, 3, 927, 0),\n",
       " (1171, 6, 1, 999, 0),\n",
       " (1171, 6, 4, 632, 0),\n",
       " (1171, 7, 3, 632, 0),\n",
       " (1171, 7, 4, 927, 0),\n",
       " (1171, 8, 1, 121, 0),\n",
       " (1171, 8, 2, 999, 0),\n",
       " (2971, 1, 1, 862, 0),\n",
       " (2971, 1, 4, 567, 0),\n",
       " (2971, 2, 1, 945, 0),\n",
       " (2971, 2, 2, 862, 0),\n",
       " (2971, 3, 2, 945, 0),\n",
       " (2971, 3, 3, 491, 0),\n",
       " (2971, 4, 3, 567, 0),\n",
       " (2971, 4, 4, 491, 0),\n",
       " (2971, 5, 1, 491, 0),\n",
       " (2971, 5, 2, 567, 0),\n",
       " (2971, 6, 3, 862, 0),\n",
       " (2971, 6, 4, 945, 0),\n",
       " (2971, 7, 2, 491, 0),\n",
       " (2971, 7, 3, 945, 0),\n",
       " (2971, 8, 1, 567, 0),\n",
       " (2971, 8, 4, 862, 0),\n",
       " (3079, 1, 1, 321, 0),\n",
       " (3079, 1, 2, 759, 0),\n",
       " (3079, 2, 2, 321, 0),\n",
       " (3079, 2, 3, 957, 0),\n",
       " (3079, 3, 3, 522, 0),\n",
       " (3079, 3, 4, 957, 0),\n",
       " (3079, 4, 1, 759, 0),\n",
       " (3079, 4, 4, 522, 0),\n",
       " (3079, 5, 1, 522, 0),\n",
       " (3079, 5, 4, 759, 0),\n",
       " (3079, 6, 2, 957, 0),\n",
       " (3079, 6, 3, 321, 0),\n",
       " (3079, 7, 1, 957, 0),\n",
       " (3079, 7, 2, 522, 0),\n",
       " (3079, 8, 3, 759, 0),\n",
       " (3079, 8, 4, 321, 0)]"
      ]
     },
     "execution_count": 220,
     "metadata": {},
     "output_type": "execute_result"
    }
   ],
   "source": [
    "boundary_corner"
   ]
  },
  {
   "cell_type": "code",
   "execution_count": 247,
   "metadata": {},
   "outputs": [],
   "source": [
    "canvas=[]\n",
    "direction = 'down'\n",
    "searched_boundary = 1 \n",
    "# First corner\n",
    "# position (1, 1)\n",
    "x = [1951, 2]\n",
    "n_piece = all_transforms[(all_transforms['id'] == x[0]) & (all_transforms['transformation'] == x[1])]\n",
    "n1_piece = n_piece\n",
    "canvas.append(x)"
   ]
  },
  {
   "cell_type": "code",
   "execution_count": 227,
   "metadata": {},
   "outputs": [
    {
     "data": {
      "text/plain": [
       "9    [436, 313, 705, 459]\n",
       "Name: boundaries, dtype: object"
      ]
     },
     "execution_count": 227,
     "metadata": {},
     "output_type": "execute_result"
    }
   ],
   "source": [
    "n_piece['boundaries']"
   ]
  },
  {
   "cell_type": "code",
   "execution_count": 248,
   "metadata": {},
   "outputs": [
    {
     "data": {
      "text/plain": [
       "id                2311\n",
       "transformation       2\n",
       "boundary             1\n",
       "value              705\n",
       "Name: 4, dtype: int64"
      ]
     },
     "execution_count": 248,
     "metadata": {},
     "output_type": "execute_result"
    }
   ],
   "source": [
    "next_tile = all_boundaries[(all_boundaries['value'] == n_piece.iloc[0]['boundaries'][searched_boundary + 1]) & (all_boundaries['id'] != x[0]) & (all_boundaries['boundary'] == searched_boundary)]\n",
    "next_tile.iloc[0]"
   ]
  },
  {
   "cell_type": "code",
   "execution_count": 249,
   "metadata": {},
   "outputs": [],
   "source": [
    "x = [int(next_tile.iloc[0]['id']), int(next_tile.iloc[0]['transformation'])]\n",
    "n_piece = all_transforms[(all_transforms['id'] == x[0]) & (all_transforms['transformation'] == x[1])]\n",
    "n1_piece = n_piece\n",
    "canvas.append(x)"
   ]
  },
  {
   "cell_type": "code",
   "execution_count": 250,
   "metadata": {},
   "outputs": [
    {
     "data": {
      "text/plain": [
       "[2311, 2]"
      ]
     },
     "execution_count": 250,
     "metadata": {},
     "output_type": "execute_result"
    }
   ],
   "source": [
    "x"
   ]
  },
  {
   "cell_type": "code",
   "execution_count": 252,
   "metadata": {},
   "outputs": [
    {
     "data": {
      "text/plain": [
       "id                3079\n",
       "transformation       8\n",
       "boundary             1\n",
       "value              407\n",
       "Name: 284, dtype: int64"
      ]
     },
     "execution_count": 252,
     "metadata": {},
     "output_type": "execute_result"
    }
   ],
   "source": [
    "next_tile = all_boundaries[(all_boundaries['value'] == n_piece.iloc[0]['boundaries'][searched_boundary + 1]) & (all_boundaries['id'] != x[0]) & (all_boundaries['boundary'] == searched_boundary)]\n",
    "next_tile.iloc[0]"
   ]
  },
  {
   "cell_type": "code",
   "execution_count": 253,
   "metadata": {},
   "outputs": [],
   "source": [
    "x = [int(next_tile.iloc[0]['id']), int(next_tile.iloc[0]['transformation'])]\n",
    "n_piece = all_transforms[(all_transforms['id'] == x[0]) & (all_transforms['transformation'] == x[1])]\n",
    "n1_piece = n_piece\n",
    "canvas.append(x)"
   ]
  },
  {
   "cell_type": "code",
   "execution_count": 245,
   "metadata": {},
   "outputs": [
    {
     "data": {
      "text/plain": [
       "[3079, 8]"
      ]
     },
     "execution_count": 245,
     "metadata": {},
     "output_type": "execute_result"
    }
   ],
   "source": [
    "x"
   ]
  },
  {
   "cell_type": "code",
   "execution_count": 254,
   "metadata": {},
   "outputs": [
    {
     "data": {
      "text/plain": [
       "[[1951, 2], [2311, 2], [3079, 8]]"
      ]
     },
     "execution_count": 254,
     "metadata": {},
     "output_type": "execute_result"
    }
   ],
   "source": [
    "canvas"
   ]
  },
  {
   "cell_type": "code",
   "execution_count": 263,
   "metadata": {},
   "outputs": [],
   "source": [
    "direction = 'right'\n",
    "searched_boundaries = [2, 4] \n",
    "# First corner\n",
    "# position (1, 1)\n",
    "x = canvas[0]\n",
    "n_piece = all_transforms[(all_transforms['id'] == x[0]) & (all_transforms['transformation'] == x[1])]\n"
   ]
  },
  {
   "cell_type": "code",
   "execution_count": 256,
   "metadata": {},
   "outputs": [
    {
     "data": {
      "application/vnd.microsoft.datawrangler.viewer.v0+json": {
       "columns": [
        {
         "name": "index",
         "rawType": "int64",
         "type": "integer"
        },
        {
         "name": "id",
         "rawType": "int64",
         "type": "integer"
        },
        {
         "name": "transformation",
         "rawType": "int64",
         "type": "integer"
        },
        {
         "name": "boundaries",
         "rawType": "object",
         "type": "unknown"
        }
       ],
       "conversionMethod": "pd.DataFrame",
       "ref": "d2739ee9-66b2-4630-afd7-cadd2a62eb82",
       "rows": [
        [
         "9",
         "1951",
         "2",
         "[436, 313, 705, 459]"
        ]
       ],
       "shape": {
        "columns": 3,
        "rows": 1
       }
      },
      "text/html": [
       "<div>\n",
       "<style scoped>\n",
       "    .dataframe tbody tr th:only-of-type {\n",
       "        vertical-align: middle;\n",
       "    }\n",
       "\n",
       "    .dataframe tbody tr th {\n",
       "        vertical-align: top;\n",
       "    }\n",
       "\n",
       "    .dataframe thead th {\n",
       "        text-align: right;\n",
       "    }\n",
       "</style>\n",
       "<table border=\"1\" class=\"dataframe\">\n",
       "  <thead>\n",
       "    <tr style=\"text-align: right;\">\n",
       "      <th></th>\n",
       "      <th>id</th>\n",
       "      <th>transformation</th>\n",
       "      <th>boundaries</th>\n",
       "    </tr>\n",
       "  </thead>\n",
       "  <tbody>\n",
       "    <tr>\n",
       "      <th>9</th>\n",
       "      <td>1951</td>\n",
       "      <td>2</td>\n",
       "      <td>[436, 313, 705, 459]</td>\n",
       "    </tr>\n",
       "  </tbody>\n",
       "</table>\n",
       "</div>"
      ],
      "text/plain": [
       "     id  transformation            boundaries\n",
       "9  1951               2  [436, 313, 705, 459]"
      ]
     },
     "execution_count": 256,
     "metadata": {},
     "output_type": "execute_result"
    }
   ],
   "source": [
    "n_piece"
   ]
  },
  {
   "cell_type": "code",
   "execution_count": 264,
   "metadata": {},
   "outputs": [
    {
     "data": {
      "text/plain": [
       "313"
      ]
     },
     "execution_count": 264,
     "metadata": {},
     "output_type": "execute_result"
    }
   ],
   "source": [
    "n_piece.iloc[0]['boundaries'][searched_boundaries[0] - 1]"
   ]
  },
  {
   "cell_type": "code",
   "execution_count": 267,
   "metadata": {},
   "outputs": [
    {
     "data": {
      "text/plain": [
       "id                2729\n",
       "transformation       2\n",
       "boundary             4\n",
       "value              313\n",
       "Name: 231, dtype: int64"
      ]
     },
     "execution_count": 267,
     "metadata": {},
     "output_type": "execute_result"
    }
   ],
   "source": [
    "next_tile = all_boundaries[(all_boundaries['value'] == n_piece.iloc[0]['boundaries'][searched_boundaries[0] - 1]) & (all_boundaries['id'] != x[0]) & (all_boundaries['boundary'] == searched_boundaries[1])]\n",
    "next_tile.iloc[0]"
   ]
  },
  {
   "cell_type": "code",
   "execution_count": 268,
   "metadata": {},
   "outputs": [],
   "source": [
    "x = [int(next_tile.iloc[0]['id']), int(next_tile.iloc[0]['transformation'])]\n",
    "n_piece = all_transforms[(all_transforms['id'] == x[0]) & (all_transforms['transformation'] == x[1])]\n",
    "canvas.append(x)\n",
    "direction = 'down'\n",
    "searched_boundaries = [3, 1] "
   ]
  },
  {
   "cell_type": "code",
   "execution_count": 269,
   "metadata": {},
   "outputs": [
    {
     "data": {
      "text/plain": [
       "[[1951, 2], [2311, 2], [3079, 8], [2729, 2]]"
      ]
     },
     "execution_count": 269,
     "metadata": {},
     "output_type": "execute_result"
    }
   ],
   "source": [
    "canvas"
   ]
  },
  {
   "cell_type": "code",
   "execution_count": 270,
   "metadata": {},
   "outputs": [
    {
     "data": {
      "text/plain": [
       "id                1427\n",
       "transformation       2\n",
       "boundary             1\n",
       "value             1014\n",
       "Name: 100, dtype: int64"
      ]
     },
     "execution_count": 270,
     "metadata": {},
     "output_type": "execute_result"
    }
   ],
   "source": [
    "next_tile = all_boundaries[(all_boundaries['value'] == n_piece.iloc[0]['boundaries'][searched_boundaries[0] - 1]) & (all_boundaries['id'] != x[0]) & (all_boundaries['boundary'] == searched_boundaries[1])]\n",
    "next_tile.iloc[0]"
   ]
  },
  {
   "cell_type": "code",
   "execution_count": 271,
   "metadata": {},
   "outputs": [],
   "source": [
    "x = [int(next_tile.iloc[0]['id']), int(next_tile.iloc[0]['transformation'])]\n",
    "n_piece = all_transforms[(all_transforms['id'] == x[0]) & (all_transforms['transformation'] == x[1])]\n",
    "canvas.append(x)"
   ]
  },
  {
   "cell_type": "code",
   "execution_count": 273,
   "metadata": {},
   "outputs": [],
   "source": [
    "next_tile = all_boundaries[(all_boundaries['value'] == n_piece.iloc[0]['boundaries'][searched_boundaries[0] - 1]) & (all_boundaries['id'] != x[0]) & (all_boundaries['boundary'] == searched_boundaries[1])]\n",
    "next_tile.iloc[0]\n",
    "x = [int(next_tile.iloc[0]['id']), int(next_tile.iloc[0]['transformation'])]\n",
    "n_piece = all_transforms[(all_transforms['id'] == x[0]) & (all_transforms['transformation'] == x[1])]\n",
    "canvas.append(x)"
   ]
  },
  {
   "cell_type": "code",
   "execution_count": 274,
   "metadata": {},
   "outputs": [],
   "source": [
    "direction = 'right'\n",
    "searched_boundaries = [2, 4]\n",
    "x = canvas[3]\n",
    "n_piece = all_transforms[(all_transforms['id'] == x[0]) & (all_transforms['transformation'] == x[1])]\n",
    "next_tile = all_boundaries[(all_boundaries['value'] == n_piece.iloc[0]['boundaries'][searched_boundaries[0] - 1]) & (all_boundaries['id'] != x[0]) & (all_boundaries['boundary'] == searched_boundaries[1])]\n",
    "next_tile.iloc[0]\n",
    "x = [int(next_tile.iloc[0]['id']), int(next_tile.iloc[0]['transformation'])]\n",
    "n_piece = all_transforms[(all_transforms['id'] == x[0]) & (all_transforms['transformation'] == x[1])]\n",
    "canvas.append(x)"
   ]
  },
  {
   "cell_type": "code",
   "execution_count": 275,
   "metadata": {},
   "outputs": [
    {
     "data": {
      "text/plain": [
       "[[1951, 2], [2311, 2], [3079, 8], [2729, 2], [1427, 2], [2473, 3], [2971, 2]]"
      ]
     },
     "execution_count": 275,
     "metadata": {},
     "output_type": "execute_result"
    }
   ],
   "source": [
    "canvas"
   ]
  },
  {
   "cell_type": "code",
   "execution_count": 276,
   "metadata": {},
   "outputs": [],
   "source": [
    "direction = 'down'\n",
    "searched_boundaries = [3, 1]\n",
    "next_tile = all_boundaries[(all_boundaries['value'] == n_piece.iloc[0]['boundaries'][searched_boundaries[0] - 1]) & (all_boundaries['id'] != x[0]) & (all_boundaries['boundary'] == searched_boundaries[1])]\n",
    "next_tile.iloc[0]\n",
    "x = [int(next_tile.iloc[0]['id']), int(next_tile.iloc[0]['transformation'])]\n",
    "n_piece = all_transforms[(all_transforms['id'] == x[0]) & (all_transforms['transformation'] == x[1])]\n",
    "canvas.append(x)"
   ]
  },
  {
   "cell_type": "code",
   "execution_count": 277,
   "metadata": {},
   "outputs": [],
   "source": [
    "direction = 'down'\n",
    "searched_boundaries = [3, 1]\n",
    "next_tile = all_boundaries[(all_boundaries['value'] == n_piece.iloc[0]['boundaries'][searched_boundaries[0] - 1]) & (all_boundaries['id'] != x[0]) & (all_boundaries['boundary'] == searched_boundaries[1])]\n",
    "next_tile.iloc[0]\n",
    "x = [int(next_tile.iloc[0]['id']), int(next_tile.iloc[0]['transformation'])]\n",
    "n_piece = all_transforms[(all_transforms['id'] == x[0]) & (all_transforms['transformation'] == x[1])]\n",
    "canvas.append(x)"
   ]
  },
  {
   "cell_type": "code",
   "execution_count": 278,
   "metadata": {},
   "outputs": [
    {
     "data": {
      "text/plain": [
       "[[1951, 2],\n",
       " [2311, 2],\n",
       " [3079, 8],\n",
       " [2729, 2],\n",
       " [1427, 2],\n",
       " [2473, 3],\n",
       " [2971, 2],\n",
       " [1489, 2],\n",
       " [1171, 4]]"
      ]
     },
     "execution_count": 278,
     "metadata": {},
     "output_type": "execute_result"
    }
   ],
   "source": [
    "canvas"
   ]
  },
  {
   "cell_type": "code",
   "execution_count": null,
   "metadata": {},
   "outputs": [
    {
     "ename": "IndexError",
     "evalue": "single positional indexer is out-of-bounds",
     "output_type": "error",
     "traceback": [
      "\u001b[1;31m---------------------------------------------------------------------------\u001b[0m",
      "\u001b[1;31mIndexError\u001b[0m                                Traceback (most recent call last)",
      "Cell \u001b[1;32mIn[279], line 19\u001b[0m\n\u001b[0;32m     16\u001b[0m \u001b[38;5;28;01melse\u001b[39;00m:\n\u001b[0;32m     17\u001b[0m     next_tile \u001b[38;5;241m=\u001b[39m all_boundaries[(all_boundaries[\u001b[38;5;124m'\u001b[39m\u001b[38;5;124mvalue\u001b[39m\u001b[38;5;124m'\u001b[39m] \u001b[38;5;241m==\u001b[39m n_piece\u001b[38;5;241m.\u001b[39miloc[\u001b[38;5;241m0\u001b[39m][\u001b[38;5;124m'\u001b[39m\u001b[38;5;124mboundaries\u001b[39m\u001b[38;5;124m'\u001b[39m][searched_boundaries[\u001b[38;5;241m0\u001b[39m] \u001b[38;5;241m-\u001b[39m \u001b[38;5;241m1\u001b[39m]) \u001b[38;5;241m&\u001b[39m\n\u001b[0;32m     18\u001b[0m                                 (all_boundaries[\u001b[38;5;124m'\u001b[39m\u001b[38;5;124mid\u001b[39m\u001b[38;5;124m'\u001b[39m] \u001b[38;5;241m!=\u001b[39m x[\u001b[38;5;241m0\u001b[39m]) \u001b[38;5;241m&\u001b[39m (all_boundaries[\u001b[38;5;124m'\u001b[39m\u001b[38;5;124mboundary\u001b[39m\u001b[38;5;124m'\u001b[39m] \u001b[38;5;241m==\u001b[39m searched_boundaries[\u001b[38;5;241m1\u001b[39m])]\n\u001b[1;32m---> 19\u001b[0m     \u001b[43mnext_tile\u001b[49m\u001b[38;5;241;43m.\u001b[39;49m\u001b[43miloc\u001b[49m\u001b[43m[\u001b[49m\u001b[38;5;241;43m0\u001b[39;49m\u001b[43m]\u001b[49m\n\u001b[0;32m     20\u001b[0m     x \u001b[38;5;241m=\u001b[39m [\u001b[38;5;28mint\u001b[39m(next_tile\u001b[38;5;241m.\u001b[39miloc[\u001b[38;5;241m0\u001b[39m][\u001b[38;5;124m'\u001b[39m\u001b[38;5;124mid\u001b[39m\u001b[38;5;124m'\u001b[39m]), \u001b[38;5;28mint\u001b[39m(next_tile\u001b[38;5;241m.\u001b[39miloc[\u001b[38;5;241m0\u001b[39m][\u001b[38;5;124m'\u001b[39m\u001b[38;5;124mtransformation\u001b[39m\u001b[38;5;124m'\u001b[39m])]\n\u001b[0;32m     21\u001b[0m     n_piece \u001b[38;5;241m=\u001b[39m all_transforms[(all_transforms[\u001b[38;5;124m'\u001b[39m\u001b[38;5;124mid\u001b[39m\u001b[38;5;124m'\u001b[39m] \u001b[38;5;241m==\u001b[39m x[\u001b[38;5;241m0\u001b[39m]) \u001b[38;5;241m&\u001b[39m (all_transforms[\u001b[38;5;124m'\u001b[39m\u001b[38;5;124mtransformation\u001b[39m\u001b[38;5;124m'\u001b[39m] \u001b[38;5;241m==\u001b[39m x[\u001b[38;5;241m1\u001b[39m])]\n",
      "File \u001b[1;32mc:\\Users\\josep\\Documents\\python\\20250102_advent_2020\\.venv\\Lib\\site-packages\\pandas\\core\\indexing.py:1191\u001b[0m, in \u001b[0;36m_LocationIndexer.__getitem__\u001b[1;34m(self, key)\u001b[0m\n\u001b[0;32m   1189\u001b[0m maybe_callable \u001b[38;5;241m=\u001b[39m com\u001b[38;5;241m.\u001b[39mapply_if_callable(key, \u001b[38;5;28mself\u001b[39m\u001b[38;5;241m.\u001b[39mobj)\n\u001b[0;32m   1190\u001b[0m maybe_callable \u001b[38;5;241m=\u001b[39m \u001b[38;5;28mself\u001b[39m\u001b[38;5;241m.\u001b[39m_check_deprecated_callable_usage(key, maybe_callable)\n\u001b[1;32m-> 1191\u001b[0m \u001b[38;5;28;01mreturn\u001b[39;00m \u001b[38;5;28;43mself\u001b[39;49m\u001b[38;5;241;43m.\u001b[39;49m\u001b[43m_getitem_axis\u001b[49m\u001b[43m(\u001b[49m\u001b[43mmaybe_callable\u001b[49m\u001b[43m,\u001b[49m\u001b[43m \u001b[49m\u001b[43maxis\u001b[49m\u001b[38;5;241;43m=\u001b[39;49m\u001b[43maxis\u001b[49m\u001b[43m)\u001b[49m\n",
      "File \u001b[1;32mc:\\Users\\josep\\Documents\\python\\20250102_advent_2020\\.venv\\Lib\\site-packages\\pandas\\core\\indexing.py:1752\u001b[0m, in \u001b[0;36m_iLocIndexer._getitem_axis\u001b[1;34m(self, key, axis)\u001b[0m\n\u001b[0;32m   1749\u001b[0m     \u001b[38;5;28;01mraise\u001b[39;00m \u001b[38;5;167;01mTypeError\u001b[39;00m(\u001b[38;5;124m\"\u001b[39m\u001b[38;5;124mCannot index by location index with a non-integer key\u001b[39m\u001b[38;5;124m\"\u001b[39m)\n\u001b[0;32m   1751\u001b[0m \u001b[38;5;66;03m# validate the location\u001b[39;00m\n\u001b[1;32m-> 1752\u001b[0m \u001b[38;5;28;43mself\u001b[39;49m\u001b[38;5;241;43m.\u001b[39;49m\u001b[43m_validate_integer\u001b[49m\u001b[43m(\u001b[49m\u001b[43mkey\u001b[49m\u001b[43m,\u001b[49m\u001b[43m \u001b[49m\u001b[43maxis\u001b[49m\u001b[43m)\u001b[49m\n\u001b[0;32m   1754\u001b[0m \u001b[38;5;28;01mreturn\u001b[39;00m \u001b[38;5;28mself\u001b[39m\u001b[38;5;241m.\u001b[39mobj\u001b[38;5;241m.\u001b[39m_ixs(key, axis\u001b[38;5;241m=\u001b[39maxis)\n",
      "File \u001b[1;32mc:\\Users\\josep\\Documents\\python\\20250102_advent_2020\\.venv\\Lib\\site-packages\\pandas\\core\\indexing.py:1685\u001b[0m, in \u001b[0;36m_iLocIndexer._validate_integer\u001b[1;34m(self, key, axis)\u001b[0m\n\u001b[0;32m   1683\u001b[0m len_axis \u001b[38;5;241m=\u001b[39m \u001b[38;5;28mlen\u001b[39m(\u001b[38;5;28mself\u001b[39m\u001b[38;5;241m.\u001b[39mobj\u001b[38;5;241m.\u001b[39m_get_axis(axis))\n\u001b[0;32m   1684\u001b[0m \u001b[38;5;28;01mif\u001b[39;00m key \u001b[38;5;241m>\u001b[39m\u001b[38;5;241m=\u001b[39m len_axis \u001b[38;5;129;01mor\u001b[39;00m key \u001b[38;5;241m<\u001b[39m \u001b[38;5;241m-\u001b[39mlen_axis:\n\u001b[1;32m-> 1685\u001b[0m     \u001b[38;5;28;01mraise\u001b[39;00m \u001b[38;5;167;01mIndexError\u001b[39;00m(\u001b[38;5;124m\"\u001b[39m\u001b[38;5;124msingle positional indexer is out-of-bounds\u001b[39m\u001b[38;5;124m\"\u001b[39m)\n",
      "\u001b[1;31mIndexError\u001b[0m: single positional indexer is out-of-bounds"
     ]
    }
   ],
   "source": [
    "n = 3\n",
    "canvas=[]\n",
    "direction = 'down'\n",
    "searched_boundary = 1 \n",
    "# First corner\n",
    "# position (1, 1)\n",
    "x_initial = [1951, 2]\n",
    "n_piece = all_transforms[(all_transforms['id'] == x[0]) & (all_transforms['transformation'] == x[1])]\n",
    "canvas.append(x)\n",
    "for col in range(n):\n",
    "    for row in range(n):\n",
    "        if (col == 0) & (row == 0):\n",
    "            x = x_initial\n",
    "            n_piece = all_transforms[(all_transforms['id'] == x[0]) & (all_transforms['transformation'] == x[1])]\n",
    "            canvas.append(x)\n",
    "        else:\n",
    "            next_tile = all_boundaries[(all_boundaries['value'] == n_piece.iloc[0]['boundaries'][searched_boundaries[0] - 1]) &\n",
    "                                        (all_boundaries['id'] != x[0]) & (all_boundaries['boundary'] == searched_boundaries[1])]\n",
    "            x = [int(next_tile.iloc[0]['id']), int(next_tile.iloc[0]['transformation'])]\n",
    "            n_piece = all_transforms[(all_transforms['id'] == x[0]) & (all_transforms['transformation'] == x[1])]\n",
    "            canvas.append(x)\n",
    "        direction = 'down'\n",
    "        searched_boundaries = [3, 1]\n",
    "    direction = 'right'\n",
    "    searched_boundaries = [2, 4] \n",
    "    x = canvas[col * 3]\n",
    "    n_piece = all_transforms[(all_transforms['id'] == x[0]) & (all_transforms['transformation'] == x[1])]  "
   ]
  }
 ],
 "metadata": {
  "kernelspec": {
   "display_name": ".venv",
   "language": "python",
   "name": "python3"
  },
  "language_info": {
   "codemirror_mode": {
    "name": "ipython",
    "version": 3
   },
   "file_extension": ".py",
   "mimetype": "text/x-python",
   "name": "python",
   "nbconvert_exporter": "python",
   "pygments_lexer": "ipython3",
   "version": "3.12.4"
  }
 },
 "nbformat": 4,
 "nbformat_minor": 2
}
