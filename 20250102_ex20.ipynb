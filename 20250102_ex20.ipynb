{
 "cells": [
  {
   "cell_type": "code",
   "execution_count": 1,
   "metadata": {},
   "outputs": [],
   "source": [
    "%load_ext autoreload\n",
    "%autoreload 2"
   ]
  },
  {
   "cell_type": "code",
   "execution_count": 78,
   "metadata": {},
   "outputs": [],
   "source": [
    "import pandas as pd\n",
    "import numpy as np\n",
    "import helpers as h\n",
    "import re\n",
    "from collections import Counter"
   ]
  },
  {
   "cell_type": "code",
   "execution_count": 50,
   "metadata": {},
   "outputs": [],
   "source": [
    "data = h.read_input()"
   ]
  },
  {
   "cell_type": "code",
   "execution_count": 4,
   "metadata": {},
   "outputs": [
    {
     "data": {
      "text/plain": [
       "'Tile 3923:'"
      ]
     },
     "execution_count": 4,
     "metadata": {},
     "output_type": "execute_result"
    }
   ],
   "source": [
    "data[\"information\"].iloc[0]"
   ]
  },
  {
   "cell_type": "code",
   "execution_count": 55,
   "metadata": {},
   "outputs": [],
   "source": [
    "x = h.get_image(4, data)"
   ]
  },
  {
   "cell_type": "code",
   "execution_count": 56,
   "metadata": {},
   "outputs": [
    {
     "data": {
      "text/plain": [
       "34    ##..#.#...\n",
       "35    .......#.#\n",
       "36    #.#..#.###\n",
       "37    .....#.#..\n",
       "38    .......#..\n",
       "39    ........#.\n",
       "40    ..#..#.#.#\n",
       "41    #........#\n",
       "42    #...#..###\n",
       "43    ..#.......\n",
       "Name: information, dtype: object"
      ]
     },
     "execution_count": 56,
     "metadata": {},
     "output_type": "execute_result"
    }
   ],
   "source": [
    "x"
   ]
  },
  {
   "cell_type": "code",
   "execution_count": 8,
   "metadata": {},
   "outputs": [
    {
     "data": {
      "text/plain": [
       "array([[0, 0, 1, 1, 0, 1, 0, 1, 1, 1],\n",
       "       [1, 1, 1, 1, 1, 1, 1, 0, 1, 0],\n",
       "       [0, 1, 0, 1, 1, 0, 1, 0, 0, 0],\n",
       "       [1, 1, 1, 1, 1, 0, 1, 0, 1, 1],\n",
       "       [1, 1, 1, 1, 1, 1, 1, 0, 1, 1],\n",
       "       [1, 1, 1, 1, 1, 1, 1, 1, 0, 1],\n",
       "       [1, 1, 0, 1, 1, 0, 1, 0, 1, 0],\n",
       "       [0, 1, 1, 1, 1, 1, 1, 1, 1, 0],\n",
       "       [0, 1, 1, 1, 0, 1, 1, 0, 0, 0],\n",
       "       [1, 1, 0, 1, 1, 1, 1, 1, 1, 1]])"
      ]
     },
     "execution_count": 8,
     "metadata": {},
     "output_type": "execute_result"
    }
   ],
   "source": [
    "m=h.image_to_matrix(x)\n",
    "m"
   ]
  },
  {
   "cell_type": "code",
   "execution_count": 20,
   "metadata": {},
   "outputs": [],
   "source": [
    "x2 = h.matrix_to_image(m)"
   ]
  },
  {
   "cell_type": "code",
   "execution_count": 23,
   "metadata": {},
   "outputs": [
    {
     "data": {
      "text/plain": [
       "0    ##..#.#...\n",
       "1    .......#.#\n",
       "2    #.#..#.###\n",
       "3    .....#.#..\n",
       "4    .......#..\n",
       "5    ........#.\n",
       "6    ..#..#.#.#\n",
       "7    #........#\n",
       "8    #...#..###\n",
       "9    ..#.......\n",
       "Name: information, dtype: object"
      ]
     },
     "execution_count": 23,
     "metadata": {},
     "output_type": "execute_result"
    }
   ],
   "source": [
    "x2"
   ]
  },
  {
   "cell_type": "code",
   "execution_count": 114,
   "metadata": {},
   "outputs": [
    {
     "data": {
      "text/plain": [
       "2903"
      ]
     },
     "execution_count": 114,
     "metadata": {},
     "output_type": "execute_result"
    }
   ],
   "source": [
    "h.get_tile_number(14, data)"
   ]
  },
  {
   "cell_type": "code",
   "execution_count": 48,
   "metadata": {},
   "outputs": [],
   "source": [
    "all_m = h.transform(m)"
   ]
  },
  {
   "cell_type": "code",
   "execution_count": 47,
   "metadata": {},
   "outputs": [
    {
     "data": {
      "text/plain": [
       "(215, 625, 895, 377)"
      ]
     },
     "execution_count": 47,
     "metadata": {},
     "output_type": "execute_result"
    }
   ],
   "source": [
    "h.boundary_to_decimal(m)"
   ]
  },
  {
   "cell_type": "code",
   "execution_count": 49,
   "metadata": {},
   "outputs": [
    {
     "data": {
      "text/plain": [
       "[(215, 625, 895, 377),\n",
       " (634, 215, 569, 895),\n",
       " (1019, 634, 940, 569),\n",
       " (625, 1019, 377, 940),\n",
       " (940, 377, 1019, 625),\n",
       " (895, 569, 215, 634),\n",
       " (377, 895, 625, 215),\n",
       " (625, 1019, 377, 940)]"
      ]
     },
     "execution_count": 49,
     "metadata": {},
     "output_type": "execute_result"
    }
   ],
   "source": [
    "[h.boundary_to_decimal(m2) for m2 in all_m]"
   ]
  },
  {
   "cell_type": "code",
   "execution_count": 42,
   "metadata": {},
   "outputs": [
    {
     "data": {
      "text/plain": [
       "array([[0, 0, 1, 1, 0, 1, 0, 1, 1, 1],\n",
       "       [1, 1, 1, 1, 1, 1, 1, 0, 1, 0],\n",
       "       [0, 1, 0, 1, 1, 0, 1, 0, 0, 0],\n",
       "       [1, 1, 1, 1, 1, 0, 1, 0, 1, 1],\n",
       "       [1, 1, 1, 1, 1, 1, 1, 0, 1, 1],\n",
       "       [1, 1, 1, 1, 1, 1, 1, 1, 0, 1],\n",
       "       [1, 1, 0, 1, 1, 0, 1, 0, 1, 0],\n",
       "       [0, 1, 1, 1, 1, 1, 1, 1, 1, 0],\n",
       "       [0, 1, 1, 1, 0, 1, 1, 0, 0, 0],\n",
       "       [1, 1, 0, 1, 1, 1, 1, 1, 1, 1]])"
      ]
     },
     "execution_count": 42,
     "metadata": {},
     "output_type": "execute_result"
    }
   ],
   "source": [
    "m"
   ]
  },
  {
   "cell_type": "code",
   "execution_count": 45,
   "metadata": {},
   "outputs": [
    {
     "data": {
      "text/plain": [
       "'0011010111'"
      ]
     },
     "execution_count": 45,
     "metadata": {},
     "output_type": "execute_result"
    }
   ],
   "source": [
    "''.join(map(str, m[0]))"
   ]
  },
  {
   "cell_type": "code",
   "execution_count": 51,
   "metadata": {},
   "outputs": [],
   "source": [
    "data_example = h.read_input('input_example.txt')"
   ]
  },
  {
   "cell_type": "code",
   "execution_count": 116,
   "metadata": {},
   "outputs": [],
   "source": [
    "z = []\n",
    "for i in range(1, 10):\n",
    "    tile = h.get_tile_number(i, data_example)\n",
    "    img = h.get_image(i, data_example)\n",
    "    m = h.image_to_matrix(img)\n",
    "    m_all = h.transform(m)\n",
    "    for j in range(8):\n",
    "        boundary = h.boundary_to_decimal(m_all.iloc[j])\n",
    "        for k in range(len(boundary)):\n",
    "            z.append([tile, j+1, k+1, boundary[k]])"
   ]
  },
  {
   "cell_type": "code",
   "execution_count": 119,
   "metadata": {},
   "outputs": [],
   "source": [
    "all_boundaries = pd.DataFrame(z, columns=['id', 'transformation', 'boundary', 'value'])"
   ]
  },
  {
   "cell_type": "code",
   "execution_count": 131,
   "metadata": {},
   "outputs": [
    {
     "data": {
      "text/plain": [
       "value\n",
       "16      1\n",
       "32      1\n",
       "46      1\n",
       "110     1\n",
       "116     1\n",
       "       ..\n",
       "995     1\n",
       "999     1\n",
       "1017    1\n",
       "1019    2\n",
       "1021    1\n",
       "Name: id, Length: 68, dtype: int64"
      ]
     },
     "execution_count": 131,
     "metadata": {},
     "output_type": "execute_result"
    }
   ],
   "source": [
    "all_boundaries.groupby('value')['id'].nunique()"
   ]
  },
  {
   "cell_type": "code",
   "execution_count": 113,
   "metadata": {},
   "outputs": [],
   "source": [
    "t = Counter(np.array([r[2] for r in z]).flatten().tolist()).most_common()"
   ]
  },
  {
   "cell_type": "code",
   "execution_count": null,
   "metadata": {},
   "outputs": [],
   "source": [
    "t"
   ]
  },
  {
   "cell_type": "code",
   "execution_count": 69,
   "metadata": {},
   "outputs": [
    {
     "data": {
      "text/plain": [
       "3923"
      ]
     },
     "execution_count": 69,
     "metadata": {},
     "output_type": "execute_result"
    }
   ],
   "source": [
    "tile = h.get_tile_number(1, data_example)\n",
    "tile"
   ]
  },
  {
   "cell_type": "code",
   "execution_count": 72,
   "metadata": {},
   "outputs": [
    {
     "data": {
      "text/plain": [
       "1     ...##.....\n",
       "2     .##.#..#.#\n",
       "3     ###....#..\n",
       "4     ...#...#.#\n",
       "5     ....#.#...\n",
       "6     ..........\n",
       "7     .....#.###\n",
       "8     .##.#..#..\n",
       "9     ..##..#...\n",
       "10    ..#.#.##..\n",
       "Name: information, dtype: object"
      ]
     },
     "execution_count": 72,
     "metadata": {},
     "output_type": "execute_result"
    }
   ],
   "source": [
    "\n",
    "img = h.get_image(1, data_example)\n",
    "img"
   ]
  },
  {
   "cell_type": "code",
   "execution_count": 73,
   "metadata": {},
   "outputs": [
    {
     "data": {
      "text/plain": [
       "array([[1, 1, 1, 0, 0, 1, 1, 1, 1, 1],\n",
       "       [1, 0, 0, 1, 0, 1, 1, 0, 1, 0],\n",
       "       [0, 0, 0, 1, 1, 1, 1, 0, 1, 1],\n",
       "       [1, 1, 1, 0, 1, 1, 1, 0, 1, 0],\n",
       "       [1, 1, 1, 1, 0, 1, 0, 1, 1, 1],\n",
       "       [1, 1, 1, 1, 1, 1, 1, 1, 1, 1],\n",
       "       [1, 1, 1, 1, 1, 0, 1, 0, 0, 0],\n",
       "       [1, 0, 0, 1, 0, 1, 1, 0, 1, 1],\n",
       "       [1, 1, 0, 0, 1, 1, 0, 1, 1, 1],\n",
       "       [1, 1, 0, 1, 0, 1, 0, 0, 1, 1]])"
      ]
     },
     "execution_count": 73,
     "metadata": {},
     "output_type": "execute_result"
    }
   ],
   "source": [
    "m = h.image_to_matrix(img)\n",
    "m"
   ]
  },
  {
   "cell_type": "code",
   "execution_count": 101,
   "metadata": {},
   "outputs": [
    {
     "data": {
      "text/plain": [
       "Original              [[1, 1, 1, 0, 0, 1, 1, 1, 1, 1], [1, 0, 0, 1, ...\n",
       "90° Rotation          [[1, 1, 1, 1, 1, 1, 1, 0, 1, 1], [1, 1, 0, 1, ...\n",
       "180° Rotation         [[1, 1, 0, 0, 1, 0, 1, 0, 1, 1], [1, 1, 1, 0, ...\n",
       "270° Rotation         [[1, 0, 1, 0, 1, 1, 0, 1, 1, 1], [1, 1, 1, 1, ...\n",
       "Horizontal Flip       [[1, 1, 1, 1, 1, 0, 0, 1, 1, 1], [0, 1, 0, 1, ...\n",
       "Vertical Flip         [[1, 1, 0, 1, 0, 1, 0, 0, 1, 1], [1, 1, 0, 0, ...\n",
       "Main Diagonal Flip    [[1, 1, 0, 1, 1, 1, 1, 1, 1, 1], [1, 0, 0, 1, ...\n",
       "Anti-Diagonal Flip    [[1, 0, 1, 0, 1, 1, 0, 1, 1, 1], [1, 1, 1, 1, ...\n",
       "dtype: object"
      ]
     },
     "execution_count": 101,
     "metadata": {},
     "output_type": "execute_result"
    }
   ],
   "source": [
    "m_all = h.transform(m)\n",
    "m_all"
   ]
  },
  {
   "cell_type": "code",
   "execution_count": 98,
   "metadata": {},
   "outputs": [
    {
     "data": {
      "text/plain": [
       "array([[1, 1, 1, 0, 0, 1, 1, 1, 1, 1],\n",
       "       [1, 0, 0, 1, 0, 1, 1, 0, 1, 0],\n",
       "       [0, 0, 0, 1, 1, 1, 1, 0, 1, 1],\n",
       "       [1, 1, 1, 0, 1, 1, 1, 0, 1, 0],\n",
       "       [1, 1, 1, 1, 0, 1, 0, 1, 1, 1],\n",
       "       [1, 1, 1, 1, 1, 1, 1, 1, 1, 1],\n",
       "       [1, 1, 1, 1, 1, 0, 1, 0, 0, 0],\n",
       "       [1, 0, 0, 1, 0, 1, 1, 0, 1, 1],\n",
       "       [1, 1, 0, 0, 1, 1, 0, 1, 1, 1],\n",
       "       [1, 1, 0, 1, 0, 1, 0, 0, 1, 1]])"
      ]
     },
     "execution_count": 98,
     "metadata": {},
     "output_type": "execute_result"
    }
   ],
   "source": [
    "m_all.iloc[0]"
   ]
  },
  {
   "cell_type": "code",
   "execution_count": 115,
   "metadata": {},
   "outputs": [
    {
     "data": {
      "text/plain": [
       "398"
      ]
     },
     "execution_count": 115,
     "metadata": {},
     "output_type": "execute_result"
    }
   ],
   "source": [
    "h.boundary_to_decimal(m_all.iloc[1])[0]"
   ]
  },
  {
   "cell_type": "code",
   "execution_count": 77,
   "metadata": {},
   "outputs": [
    {
     "data": {
      "text/plain": [
       "[[927, 695, 851, 895],\n",
       " [1019, 927, 949, 851],\n",
       " [811, 1019, 999, 949],\n",
       " [695, 811, 895, 999],\n",
       " [999, 895, 811, 695],\n",
       " [851, 949, 927, 1019],\n",
       " [895, 851, 695, 927],\n",
       " [695, 811, 895, 999]]"
      ]
     },
     "execution_count": 77,
     "metadata": {},
     "output_type": "execute_result"
    }
   ],
   "source": [
    "boundaries = [h.boundary_to_decimal(m2) for m2 in m_all]\n",
    "boundaries"
   ]
  },
  {
   "cell_type": "code",
   "execution_count": null,
   "metadata": {},
   "outputs": [],
   "source": [
    "# Flatten the list of lists into a single list\n",
    "flattened_list = [number for sublist in data for number in sublist]\n",
    "\n",
    "# Count the frequency of each number\n",
    "frequency_count = Counter(flattened_list)\n",
    "\n",
    "# Print the frequency count\n",
    "print(frequency_count)"
   ]
  },
  {
   "cell_type": "code",
   "execution_count": 89,
   "metadata": {},
   "outputs": [
    {
     "data": {
      "text/plain": [
       "[(695, 5),\n",
       " (895, 5),\n",
       " (927, 4),\n",
       " (851, 4),\n",
       " (811, 4),\n",
       " (999, 4),\n",
       " (1019, 3),\n",
       " (949, 3)]"
      ]
     },
     "execution_count": 89,
     "metadata": {},
     "output_type": "execute_result"
    }
   ],
   "source": [
    "Counter(np.array(boundaries).flatten().tolist()).most_common()"
   ]
  }
 ],
 "metadata": {
  "kernelspec": {
   "display_name": ".venv",
   "language": "python",
   "name": "python3"
  },
  "language_info": {
   "codemirror_mode": {
    "name": "ipython",
    "version": 3
   },
   "file_extension": ".py",
   "mimetype": "text/x-python",
   "name": "python",
   "nbconvert_exporter": "python",
   "pygments_lexer": "ipython3",
   "version": "3.12.4"
  }
 },
 "nbformat": 4,
 "nbformat_minor": 2
}
