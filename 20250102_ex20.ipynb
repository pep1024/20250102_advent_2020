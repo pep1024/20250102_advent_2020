{
 "cells": [
  {
   "cell_type": "code",
   "execution_count": 2,
   "metadata": {},
   "outputs": [],
   "source": [
    "%load_ext autoreload\n",
    "%autoreload 2"
   ]
  },
  {
   "cell_type": "code",
   "execution_count": 3,
   "metadata": {},
   "outputs": [],
   "source": [
    "import pandas as pd\n",
    "import numpy as np\n",
    "import helpers as h\n",
    "import re\n",
    "from collections import Counter\n",
    "import math"
   ]
  },
  {
   "cell_type": "markdown",
   "metadata": {},
   "source": [
    "## Initial exploration"
   ]
  },
  {
   "cell_type": "code",
   "execution_count": 4,
   "metadata": {},
   "outputs": [],
   "source": [
    "data = h.read_input()"
   ]
  },
  {
   "cell_type": "code",
   "execution_count": 5,
   "metadata": {},
   "outputs": [
    {
     "data": {
      "application/vnd.microsoft.datawrangler.viewer.v0+json": {
       "columns": [
        {
         "name": "index",
         "rawType": "int64",
         "type": "integer"
        },
        {
         "name": "information",
         "rawType": "object",
         "type": "string"
        }
       ],
       "conversionMethod": "pd.DataFrame",
       "ref": "b45b30a8-2aec-4220-8bc6-d193db446c78",
       "rows": [
        [
         "0",
         "Tile 3923:"
        ],
        [
         "1",
         "...##....."
        ],
        [
         "2",
         ".##.#..#.#"
        ],
        [
         "3",
         "###....#.."
        ],
        [
         "4",
         "...#...#.#"
        ],
        [
         "5",
         "....#.#..."
        ],
        [
         "6",
         ".........."
        ],
        [
         "7",
         ".....#.###"
        ],
        [
         "8",
         ".##.#..#.."
        ],
        [
         "9",
         "..##..#..."
        ],
        [
         "10",
         "..#.#.##.."
        ],
        [
         "11",
         "Tile 1229:"
        ]
       ],
       "shape": {
        "columns": 1,
        "rows": 12
       }
      },
      "text/html": [
       "<div>\n",
       "<style scoped>\n",
       "    .dataframe tbody tr th:only-of-type {\n",
       "        vertical-align: middle;\n",
       "    }\n",
       "\n",
       "    .dataframe tbody tr th {\n",
       "        vertical-align: top;\n",
       "    }\n",
       "\n",
       "    .dataframe thead th {\n",
       "        text-align: right;\n",
       "    }\n",
       "</style>\n",
       "<table border=\"1\" class=\"dataframe\">\n",
       "  <thead>\n",
       "    <tr style=\"text-align: right;\">\n",
       "      <th></th>\n",
       "      <th>information</th>\n",
       "    </tr>\n",
       "  </thead>\n",
       "  <tbody>\n",
       "    <tr>\n",
       "      <th>0</th>\n",
       "      <td>Tile 3923:</td>\n",
       "    </tr>\n",
       "    <tr>\n",
       "      <th>1</th>\n",
       "      <td>...##.....</td>\n",
       "    </tr>\n",
       "    <tr>\n",
       "      <th>2</th>\n",
       "      <td>.##.#..#.#</td>\n",
       "    </tr>\n",
       "    <tr>\n",
       "      <th>3</th>\n",
       "      <td>###....#..</td>\n",
       "    </tr>\n",
       "    <tr>\n",
       "      <th>4</th>\n",
       "      <td>...#...#.#</td>\n",
       "    </tr>\n",
       "    <tr>\n",
       "      <th>5</th>\n",
       "      <td>....#.#...</td>\n",
       "    </tr>\n",
       "    <tr>\n",
       "      <th>6</th>\n",
       "      <td>..........</td>\n",
       "    </tr>\n",
       "    <tr>\n",
       "      <th>7</th>\n",
       "      <td>.....#.###</td>\n",
       "    </tr>\n",
       "    <tr>\n",
       "      <th>8</th>\n",
       "      <td>.##.#..#..</td>\n",
       "    </tr>\n",
       "    <tr>\n",
       "      <th>9</th>\n",
       "      <td>..##..#...</td>\n",
       "    </tr>\n",
       "    <tr>\n",
       "      <th>10</th>\n",
       "      <td>..#.#.##..</td>\n",
       "    </tr>\n",
       "    <tr>\n",
       "      <th>11</th>\n",
       "      <td>Tile 1229:</td>\n",
       "    </tr>\n",
       "  </tbody>\n",
       "</table>\n",
       "</div>"
      ],
      "text/plain": [
       "   information\n",
       "0   Tile 3923:\n",
       "1   ...##.....\n",
       "2   .##.#..#.#\n",
       "3   ###....#..\n",
       "4   ...#...#.#\n",
       "5   ....#.#...\n",
       "6   ..........\n",
       "7   .....#.###\n",
       "8   .##.#..#..\n",
       "9   ..##..#...\n",
       "10  ..#.#.##..\n",
       "11  Tile 1229:"
      ]
     },
     "execution_count": 5,
     "metadata": {},
     "output_type": "execute_result"
    }
   ],
   "source": [
    "data.head(n=12)"
   ]
  },
  {
   "cell_type": "markdown",
   "metadata": {},
   "source": [
    "Each tile is given by 11 rows: 1 with the tile name and 10 with the elements"
   ]
  },
  {
   "cell_type": "code",
   "execution_count": 6,
   "metadata": {},
   "outputs": [
    {
     "data": {
      "text/plain": [
       "144.0"
      ]
     },
     "execution_count": 6,
     "metadata": {},
     "output_type": "execute_result"
    }
   ],
   "source": [
    "len(data) / 11"
   ]
  },
  {
   "cell_type": "markdown",
   "metadata": {},
   "source": [
    "In total,a 12x12 image (144 titles) is saved in a file with 11*144=1584 rows"
   ]
  },
  {
   "cell_type": "code",
   "execution_count": 7,
   "metadata": {},
   "outputs": [
    {
     "data": {
      "text/plain": [
       "'Tile 3923:'"
      ]
     },
     "execution_count": 7,
     "metadata": {},
     "output_type": "execute_result"
    }
   ],
   "source": [
    "data[\"information\"].iloc[0]"
   ]
  },
  {
   "cell_type": "markdown",
   "metadata": {},
   "source": [
    "We will enumerate the tiles from 1 to 144 as they appear in the file"
   ]
  },
  {
   "cell_type": "code",
   "execution_count": 8,
   "metadata": {},
   "outputs": [],
   "source": [
    "x = h.get_image(1, data)"
   ]
  },
  {
   "cell_type": "code",
   "execution_count": 170,
   "metadata": {},
   "outputs": [
    {
     "data": {
      "text/plain": [
       "1     ...##.....\n",
       "2     .##.#..#.#\n",
       "3     ###....#..\n",
       "4     ...#...#.#\n",
       "5     ....#.#...\n",
       "6     ..........\n",
       "7     .....#.###\n",
       "8     .##.#..#..\n",
       "9     ..##..#...\n",
       "10    ..#.#.##..\n",
       "Name: information, dtype: object"
      ]
     },
     "execution_count": 170,
     "metadata": {},
     "output_type": "execute_result"
    }
   ],
   "source": [
    "x"
   ]
  },
  {
   "cell_type": "markdown",
   "metadata": {},
   "source": [
    "Each image is tranformed into a matrix of 1 and 0 to operate faster: '.' = 1 and '#' = 0"
   ]
  },
  {
   "cell_type": "code",
   "execution_count": 9,
   "metadata": {},
   "outputs": [
    {
     "data": {
      "text/plain": [
       "array([[1, 1, 1, 0, 0, 1, 1, 1, 1, 1],\n",
       "       [1, 0, 0, 1, 0, 1, 1, 0, 1, 0],\n",
       "       [0, 0, 0, 1, 1, 1, 1, 0, 1, 1],\n",
       "       [1, 1, 1, 0, 1, 1, 1, 0, 1, 0],\n",
       "       [1, 1, 1, 1, 0, 1, 0, 1, 1, 1],\n",
       "       [1, 1, 1, 1, 1, 1, 1, 1, 1, 1],\n",
       "       [1, 1, 1, 1, 1, 0, 1, 0, 0, 0],\n",
       "       [1, 0, 0, 1, 0, 1, 1, 0, 1, 1],\n",
       "       [1, 1, 0, 0, 1, 1, 0, 1, 1, 1],\n",
       "       [1, 1, 0, 1, 0, 1, 0, 0, 1, 1]])"
      ]
     },
     "execution_count": 9,
     "metadata": {},
     "output_type": "execute_result"
    }
   ],
   "source": [
    "m=h.image_to_matrix(x)\n",
    "m"
   ]
  },
  {
   "cell_type": "code",
   "execution_count": 10,
   "metadata": {},
   "outputs": [],
   "source": [
    "x2 = h.matrix_to_image(m)"
   ]
  },
  {
   "cell_type": "code",
   "execution_count": 173,
   "metadata": {},
   "outputs": [
    {
     "data": {
      "text/plain": [
       "0    ...##.....\n",
       "1    .##.#..#.#\n",
       "2    ###....#..\n",
       "3    ...#...#.#\n",
       "4    ....#.#...\n",
       "5    ..........\n",
       "6    .....#.###\n",
       "7    .##.#..#..\n",
       "8    ..##..#...\n",
       "9    ..#.#.##..\n",
       "Name: information, dtype: object"
      ]
     },
     "execution_count": 173,
     "metadata": {},
     "output_type": "execute_result"
    }
   ],
   "source": [
    "x2"
   ]
  },
  {
   "cell_type": "code",
   "execution_count": 11,
   "metadata": {},
   "outputs": [
    {
     "data": {
      "text/plain": [
       "3923"
      ]
     },
     "execution_count": 11,
     "metadata": {},
     "output_type": "execute_result"
    }
   ],
   "source": [
    "h.get_tile_number(1, data)"
   ]
  },
  {
   "cell_type": "code",
   "execution_count": 12,
   "metadata": {},
   "outputs": [
    {
     "data": {
      "text/plain": [
       "144"
      ]
     },
     "execution_count": 12,
     "metadata": {},
     "output_type": "execute_result"
    }
   ],
   "source": [
    "# number of tiles 12 x 12 image\n",
    "len(data) // 11"
   ]
  },
  {
   "cell_type": "code",
   "execution_count": 13,
   "metadata": {},
   "outputs": [],
   "source": [
    "all_tiles = [(k, h.get_tile_number(k, data)) for k in range(1, 145)]"
   ]
  },
  {
   "cell_type": "markdown",
   "metadata": {},
   "source": [
    "Each tile, can be rotated and fliped to obtain a total of different 8 matrices (dihedral group D₄: 4 rotations and 4 flips)"
   ]
  },
  {
   "cell_type": "code",
   "execution_count": 14,
   "metadata": {},
   "outputs": [],
   "source": [
    "all_m = h.transform(m)"
   ]
  },
  {
   "cell_type": "code",
   "execution_count": 15,
   "metadata": {},
   "outputs": [
    {
     "data": {
      "text/plain": [
       "Original           [[1, 1, 1, 0, 0, 1, 1, 1, 1, 1], [1, 0, 0, 1, ...\n",
       "90° Rotation       [[1, 1, 1, 1, 1, 1, 1, 0, 1, 1], [1, 1, 0, 1, ...\n",
       "180° Rotation      [[1, 1, 0, 0, 1, 0, 1, 0, 1, 1], [1, 1, 1, 0, ...\n",
       "270° Rotation      [[1, 0, 1, 0, 1, 1, 0, 1, 1, 1], [1, 1, 1, 1, ...\n",
       "Horizontal Flip    [[1, 1, 1, 1, 1, 0, 0, 1, 1, 1], [0, 1, 0, 1, ...\n",
       "Vertical Flip      [[1, 1, 0, 1, 0, 1, 0, 0, 1, 1], [1, 1, 0, 0, ...\n",
       "d1                 [[1, 1, 1, 0, 1, 1, 0, 1, 0, 1], [1, 1, 1, 0, ...\n",
       "d2                 [[1, 1, 0, 1, 1, 1, 1, 1, 1, 1], [1, 0, 0, 1, ...\n",
       "dtype: object"
      ]
     },
     "execution_count": 15,
     "metadata": {},
     "output_type": "execute_result"
    }
   ],
   "source": [
    "all_m"
   ]
  },
  {
   "cell_type": "markdown",
   "metadata": {},
   "source": [
    "The boundaries can be transformed into decimal values with high bit the one the most on the left or the most on the right"
   ]
  },
  {
   "cell_type": "code",
   "execution_count": 16,
   "metadata": {},
   "outputs": [
    {
     "data": {
      "text/plain": [
       "[927, 695, 851, 895]"
      ]
     },
     "execution_count": 16,
     "metadata": {},
     "output_type": "execute_result"
    }
   ],
   "source": [
    "h.boundary_to_decimal(m)"
   ]
  },
  {
   "cell_type": "markdown",
   "metadata": {},
   "source": [
    "The boundary at the right (2) reads"
   ]
  },
  {
   "cell_type": "code",
   "execution_count": 17,
   "metadata": {},
   "outputs": [
    {
     "data": {
      "text/plain": [
       "array([1, 0, 1, 0, 1, 1, 0, 1, 1, 1])"
      ]
     },
     "execution_count": 17,
     "metadata": {},
     "output_type": "execute_result"
    }
   ],
   "source": [
    "m[:,-1]"
   ]
  },
  {
   "cell_type": "code",
   "execution_count": 18,
   "metadata": {},
   "outputs": [],
   "source": [
    "binary_boundary=\"\".join(map(str, m[:,-1]))"
   ]
  },
  {
   "cell_type": "code",
   "execution_count": 19,
   "metadata": {},
   "outputs": [
    {
     "data": {
      "text/plain": [
       "695"
      ]
     },
     "execution_count": 19,
     "metadata": {},
     "output_type": "execute_result"
    }
   ],
   "source": [
    "int(binary_boundary, 2)"
   ]
  },
  {
   "cell_type": "markdown",
   "metadata": {},
   "source": [
    "For a given piece, we have a total of 8 different pieces that can be generated by rotation and flipping"
   ]
  },
  {
   "cell_type": "code",
   "execution_count": 20,
   "metadata": {},
   "outputs": [
    {
     "data": {
      "text/plain": [
       "[[927, 695, 851, 895],\n",
       " [1019, 927, 949, 851],\n",
       " [811, 1019, 999, 949],\n",
       " [695, 811, 895, 999],\n",
       " [999, 895, 811, 695],\n",
       " [851, 949, 927, 1019],\n",
       " [949, 999, 1019, 811],\n",
       " [895, 851, 695, 927]]"
      ]
     },
     "execution_count": 20,
     "metadata": {},
     "output_type": "execute_result"
    }
   ],
   "source": [
    "[h.boundary_to_decimal(m2) for m2 in all_m]"
   ]
  },
  {
   "cell_type": "code",
   "execution_count": 21,
   "metadata": {},
   "outputs": [
    {
     "data": {
      "text/plain": [
       "array([[1, 1, 1, 0, 0, 1, 1, 1, 1, 1],\n",
       "       [1, 0, 0, 1, 0, 1, 1, 0, 1, 0],\n",
       "       [0, 0, 0, 1, 1, 1, 1, 0, 1, 1],\n",
       "       [1, 1, 1, 0, 1, 1, 1, 0, 1, 0],\n",
       "       [1, 1, 1, 1, 0, 1, 0, 1, 1, 1],\n",
       "       [1, 1, 1, 1, 1, 1, 1, 1, 1, 1],\n",
       "       [1, 1, 1, 1, 1, 0, 1, 0, 0, 0],\n",
       "       [1, 0, 0, 1, 0, 1, 1, 0, 1, 1],\n",
       "       [1, 1, 0, 0, 1, 1, 0, 1, 1, 1],\n",
       "       [1, 1, 0, 1, 0, 1, 0, 0, 1, 1]])"
      ]
     },
     "execution_count": 21,
     "metadata": {},
     "output_type": "execute_result"
    }
   ],
   "source": [
    "m"
   ]
  },
  {
   "cell_type": "code",
   "execution_count": 22,
   "metadata": {},
   "outputs": [
    {
     "data": {
      "text/plain": [
       "'1110011111'"
      ]
     },
     "execution_count": 22,
     "metadata": {},
     "output_type": "execute_result"
    }
   ],
   "source": [
    "''.join(map(str, m[0]))"
   ]
  },
  {
   "cell_type": "markdown",
   "metadata": {},
   "source": [
    "Before working with the full example (12x12), we work the 3x3 example"
   ]
  },
  {
   "cell_type": "markdown",
   "metadata": {},
   "source": [
    "## Example"
   ]
  },
  {
   "cell_type": "code",
   "execution_count": 23,
   "metadata": {},
   "outputs": [],
   "source": [
    "data_example = h.read_input('input_example.txt')"
   ]
  },
  {
   "cell_type": "code",
   "execution_count": 24,
   "metadata": {},
   "outputs": [
    {
     "data": {
      "text/plain": [
       "0     Tile 2311:\n",
       "1     ..##.#..#.\n",
       "2     ##..#.....\n",
       "3     #...##..#.\n",
       "4     ####.#...#\n",
       "         ...    \n",
       "94    .#...#.##.\n",
       "95    #.#####.##\n",
       "96    ..#.###...\n",
       "97    ..#.......\n",
       "98    ..#.###...\n",
       "Name: information, Length: 99, dtype: object"
      ]
     },
     "execution_count": 24,
     "metadata": {},
     "output_type": "execute_result"
    }
   ],
   "source": [
    "data_example['information']"
   ]
  },
  {
   "cell_type": "code",
   "execution_count": 25,
   "metadata": {},
   "outputs": [],
   "source": [
    "tile_numbers = [tile[5:9] for i, tile in enumerate(data_example['information']) if i % 11 ==0]"
   ]
  },
  {
   "cell_type": "code",
   "execution_count": 26,
   "metadata": {},
   "outputs": [
    {
     "name": "stdout",
     "output_type": "stream",
     "text": [
      "['2311', '1951', '1171', '1427', '1489', '2473', '2971', '2729', '3079']\n"
     ]
    }
   ],
   "source": [
    "print(tile_numbers)"
   ]
  },
  {
   "cell_type": "code",
   "execution_count": 27,
   "metadata": {},
   "outputs": [
    {
     "data": {
      "text/plain": [
       "[(1, 2311),\n",
       " (2, 1951),\n",
       " (3, 1171),\n",
       " (4, 1427),\n",
       " (5, 1489),\n",
       " (6, 2473),\n",
       " (7, 2971),\n",
       " (8, 2729),\n",
       " (9, 3079)]"
      ]
     },
     "execution_count": 27,
     "metadata": {},
     "output_type": "execute_result"
    }
   ],
   "source": [
    "[(k, h.get_tile_number(k, data_example)) for k in range(1, 10)]"
   ]
  },
  {
   "cell_type": "markdown",
   "metadata": {},
   "source": [
    "In total, we have 9 tiles"
   ]
  },
  {
   "cell_type": "markdown",
   "metadata": {},
   "source": [
    "### Boundaries"
   ]
  },
  {
   "cell_type": "markdown",
   "metadata": {},
   "source": [
    "Each piece, taking into account the 6 possible transformations (4 rotations and 2 flips), can generate up to 8 different shapes, that result in 8 different boundaries also"
   ]
  },
  {
   "cell_type": "code",
   "execution_count": 28,
   "metadata": {},
   "outputs": [],
   "source": [
    "n_tiles = 9\n",
    "z = []\n",
    "for i in range(1, n_tiles + 1):\n",
    "    tile = h.get_tile_number(i, data_example)\n",
    "    img = h.get_image(i, data_example)\n",
    "    m = h.image_to_matrix(img)\n",
    "    m_all = h.transform(m)\n",
    "    for j in range(8):\n",
    "        boundary = h.boundary_to_decimal(m_all.iloc[j])\n",
    "        for k in range(len(boundary)):\n",
    "            z.append([tile, j+1, k+1, boundary[k]])\n",
    "all_boundaries = pd.DataFrame(z, columns=['id', 'transformation', 'boundary', 'value'])"
   ]
  },
  {
   "cell_type": "code",
   "execution_count": 29,
   "metadata": {},
   "outputs": [],
   "source": [
    "all_boundaries = h.get_all_boundaries(data_example)"
   ]
  },
  {
   "cell_type": "code",
   "execution_count": 30,
   "metadata": {},
   "outputs": [
    {
     "data": {
      "application/vnd.microsoft.datawrangler.viewer.v0+json": {
       "columns": [
        {
         "name": "index",
         "rawType": "int64",
         "type": "integer"
        },
        {
         "name": "id",
         "rawType": "int64",
         "type": "integer"
        },
        {
         "name": "transformation",
         "rawType": "int64",
         "type": "integer"
        },
        {
         "name": "boundary",
         "rawType": "int64",
         "type": "integer"
        },
        {
         "name": "value",
         "rawType": "int64",
         "type": "integer"
        }
       ],
       "conversionMethod": "pd.DataFrame",
       "ref": "42381c88-2f81-4cef-aa2a-3e79ec98da86",
       "rows": [
        [
         "0",
         "2311",
         "1",
         "1",
         "813"
        ],
        [
         "1",
         "2311",
         "1",
         "2",
         "934"
        ],
        [
         "2",
         "2311",
         "1",
         "3",
         "792"
        ],
        [
         "3",
         "2311",
         "1",
         "4",
         "525"
        ],
        [
         "4",
         "2311",
         "2",
         "1",
         "705"
        ]
       ],
       "shape": {
        "columns": 4,
        "rows": 5
       }
      },
      "text/html": [
       "<div>\n",
       "<style scoped>\n",
       "    .dataframe tbody tr th:only-of-type {\n",
       "        vertical-align: middle;\n",
       "    }\n",
       "\n",
       "    .dataframe tbody tr th {\n",
       "        vertical-align: top;\n",
       "    }\n",
       "\n",
       "    .dataframe thead th {\n",
       "        text-align: right;\n",
       "    }\n",
       "</style>\n",
       "<table border=\"1\" class=\"dataframe\">\n",
       "  <thead>\n",
       "    <tr style=\"text-align: right;\">\n",
       "      <th></th>\n",
       "      <th>id</th>\n",
       "      <th>transformation</th>\n",
       "      <th>boundary</th>\n",
       "      <th>value</th>\n",
       "    </tr>\n",
       "  </thead>\n",
       "  <tbody>\n",
       "    <tr>\n",
       "      <th>0</th>\n",
       "      <td>2311</td>\n",
       "      <td>1</td>\n",
       "      <td>1</td>\n",
       "      <td>813</td>\n",
       "    </tr>\n",
       "    <tr>\n",
       "      <th>1</th>\n",
       "      <td>2311</td>\n",
       "      <td>1</td>\n",
       "      <td>2</td>\n",
       "      <td>934</td>\n",
       "    </tr>\n",
       "    <tr>\n",
       "      <th>2</th>\n",
       "      <td>2311</td>\n",
       "      <td>1</td>\n",
       "      <td>3</td>\n",
       "      <td>792</td>\n",
       "    </tr>\n",
       "    <tr>\n",
       "      <th>3</th>\n",
       "      <td>2311</td>\n",
       "      <td>1</td>\n",
       "      <td>4</td>\n",
       "      <td>525</td>\n",
       "    </tr>\n",
       "    <tr>\n",
       "      <th>4</th>\n",
       "      <td>2311</td>\n",
       "      <td>2</td>\n",
       "      <td>1</td>\n",
       "      <td>705</td>\n",
       "    </tr>\n",
       "  </tbody>\n",
       "</table>\n",
       "</div>"
      ],
      "text/plain": [
       "     id  transformation  boundary  value\n",
       "0  2311               1         1    813\n",
       "1  2311               1         2    934\n",
       "2  2311               1         3    792\n",
       "3  2311               1         4    525\n",
       "4  2311               2         1    705"
      ]
     },
     "execution_count": 30,
     "metadata": {},
     "output_type": "execute_result"
    }
   ],
   "source": [
    "all_boundaries.head()"
   ]
  },
  {
   "cell_type": "code",
   "execution_count": 31,
   "metadata": {},
   "outputs": [
    {
     "data": {
      "text/plain": [
       "array([  57,   61,   75,   99,  121,  175,  182,  313,  321,  334,  343,\n",
       "        407,  436,  447,  458,  459,  481,  491,  522,  525,  542,  567,\n",
       "        624,  626,  632,  675,  705,  723,  735,  752,  759,  789,  792,\n",
       "        813,  839,  840,  846,  862,  907,  927,  934,  938,  945,  957,\n",
       "        980,  999, 1005, 1014])"
      ]
     },
     "execution_count": 31,
     "metadata": {},
     "output_type": "execute_result"
    }
   ],
   "source": [
    "np.unique(all_boundaries['value'])"
   ]
  },
  {
   "cell_type": "code",
   "execution_count": 32,
   "metadata": {},
   "outputs": [],
   "source": [
    "all_boundaries_data = h.get_all_boundaries(data)\n",
    "b_unique = np.unique(all_boundaries_data['value'])"
   ]
  },
  {
   "cell_type": "code",
   "execution_count": 33,
   "metadata": {},
   "outputs": [],
   "source": [
    "unique_boundaries = [int(x) for x in b_unique] "
   ]
  },
  {
   "cell_type": "markdown",
   "metadata": {},
   "source": [
    "We have to prove that all boundary values are not symatrical and that all boundary values and its reversed values are different"
   ]
  },
  {
   "cell_type": "code",
   "execution_count": 34,
   "metadata": {},
   "outputs": [
    {
     "data": {
      "text/plain": [
       "[0,\n",
       " 48,\n",
       " 72,\n",
       " 120,\n",
       " 132,\n",
       " 180,\n",
       " 204,\n",
       " 252,\n",
       " 258,\n",
       " 306,\n",
       " 330,\n",
       " 378,\n",
       " 390,\n",
       " 438,\n",
       " 462,\n",
       " 510,\n",
       " 513,\n",
       " 561,\n",
       " 585,\n",
       " 633,\n",
       " 645,\n",
       " 693,\n",
       " 717,\n",
       " 765,\n",
       " 771,\n",
       " 819,\n",
       " 843,\n",
       " 891,\n",
       " 903,\n",
       " 951,\n",
       " 975,\n",
       " 1023]"
      ]
     },
     "execution_count": 34,
     "metadata": {},
     "output_type": "execute_result"
    }
   ],
   "source": [
    "# Generate all 10-digit binary palindromes and convert them to decimal\n",
    "\n",
    "def generate_binary_palindromes(n_bits):\n",
    "    half = n_bits // 2\n",
    "    palindromes = []\n",
    "    for i in range(2**half):\n",
    "        left = f\"{i:0{half}b}\"\n",
    "        full = left + left[::-1]\n",
    "        palindromes.append(int(full, 2))\n",
    "    return palindromes\n",
    "\n",
    "# Generate for 10-bit binary palindromes\n",
    "palindromes_10_bit = generate_binary_palindromes(10)\n",
    "palindromes_10_bit"
   ]
  },
  {
   "cell_type": "code",
   "execution_count": 35,
   "metadata": {},
   "outputs": [],
   "source": [
    "for x in palindromes_10_bit:\n",
    "    if x in unique_boundaries:\n",
    "        print(x)"
   ]
  },
  {
   "cell_type": "markdown",
   "metadata": {},
   "source": [
    "All boundary values are non symmetric, that is that the boundary values and its reverse are not identical. therefore, no boundary in the exemple is symmetric."
   ]
  },
  {
   "cell_type": "markdown",
   "metadata": {},
   "source": [
    "### Pieces"
   ]
  },
  {
   "cell_type": "markdown",
   "metadata": {},
   "source": [
    "Each piece can put in 8 different shapes (after combinations of 4 rotations and 2 flips)"
   ]
  },
  {
   "cell_type": "code",
   "execution_count": 36,
   "metadata": {},
   "outputs": [],
   "source": [
    "all_transforms = h.get_all_transforms(data_example)"
   ]
  },
  {
   "cell_type": "code",
   "execution_count": 37,
   "metadata": {},
   "outputs": [
    {
     "data": {
      "application/vnd.microsoft.datawrangler.viewer.v0+json": {
       "columns": [
        {
         "name": "index",
         "rawType": "int64",
         "type": "integer"
        },
        {
         "name": "id",
         "rawType": "int64",
         "type": "integer"
        },
        {
         "name": "transformation",
         "rawType": "int64",
         "type": "integer"
        },
        {
         "name": "boundaries",
         "rawType": "object",
         "type": "unknown"
        }
       ],
       "conversionMethod": "pd.DataFrame",
       "ref": "621c1ae7-9aba-429b-aeb0-878b93d7226d",
       "rows": [
        [
         "0",
         "2311",
         "1",
         "[813, 934, 792, 525]"
        ],
        [
         "1",
         "2311",
         "2",
         "[705, 813, 407, 792]"
        ],
        [
         "2",
         "2311",
         "3",
         "[99, 705, 723, 407]"
        ],
        [
         "3",
         "2311",
         "4",
         "[934, 99, 525, 723]"
        ],
        [
         "4",
         "2311",
         "5",
         "[723, 525, 99, 934]"
        ],
        [
         "5",
         "2311",
         "6",
         "[792, 407, 813, 705]"
        ],
        [
         "6",
         "2311",
         "7",
         "[407, 723, 705, 99]"
        ],
        [
         "7",
         "2311",
         "8",
         "[525, 792, 934, 813]"
        ],
        [
         "8",
         "1951",
         "1",
         "[313, 525, 459, 182]"
        ],
        [
         "9",
         "1951",
         "2",
         "[436, 313, 705, 459]"
        ],
        [
         "10",
         "1951",
         "3",
         "[846, 436, 626, 705]"
        ],
        [
         "11",
         "1951",
         "4",
         "[525, 846, 182, 626]"
        ],
        [
         "12",
         "1951",
         "5",
         "[626, 182, 846, 525]"
        ],
        [
         "13",
         "1951",
         "6",
         "[459, 705, 313, 436]"
        ],
        [
         "14",
         "1951",
         "7",
         "[705, 626, 436, 846]"
        ],
        [
         "15",
         "1951",
         "8",
         "[182, 459, 525, 313]"
        ],
        [
         "16",
         "1171",
         "1",
         "[57, 735, 999, 121]"
        ],
        [
         "17",
         "1171",
         "2",
         "[632, 57, 1005, 999]"
        ],
        [
         "18",
         "1171",
         "3",
         "[927, 632, 624, 1005]"
        ],
        [
         "19",
         "1171",
         "4",
         "[735, 927, 121, 624]"
        ],
        [
         "20",
         "1171",
         "5",
         "[624, 121, 927, 735]"
        ],
        [
         "21",
         "1171",
         "6",
         "[999, 1005, 57, 632]"
        ],
        [
         "22",
         "1171",
         "7",
         "[1005, 624, 632, 927]"
        ],
        [
         "23",
         "1171",
         "8",
         "[121, 999, 735, 57]"
        ],
        [
         "24",
         "1427",
         "1",
         "[75, 789, 813, 447]"
        ],
        [
         "25",
         "1427",
         "2",
         "[1014, 75, 675, 813]"
        ],
        [
         "26",
         "1427",
         "3",
         "[723, 1014, 840, 675]"
        ],
        [
         "27",
         "1427",
         "4",
         "[789, 723, 447, 840]"
        ],
        [
         "28",
         "1427",
         "5",
         "[840, 447, 723, 789]"
        ],
        [
         "29",
         "1427",
         "6",
         "[813, 675, 75, 1014]"
        ],
        [
         "30",
         "1427",
         "7",
         "[675, 840, 1014, 723]"
        ],
        [
         "31",
         "1427",
         "8",
         "[447, 813, 789, 75]"
        ],
        [
         "32",
         "1489",
         "1",
         "[175, 1005, 75, 458]"
        ],
        [
         "33",
         "1489",
         "2",
         "[334, 175, 735, 75]"
        ],
        [
         "34",
         "1489",
         "3",
         "[840, 334, 980, 735]"
        ],
        [
         "35",
         "1489",
         "4",
         "[1005, 840, 458, 980]"
        ],
        [
         "36",
         "1489",
         "5",
         "[980, 458, 840, 1005]"
        ],
        [
         "37",
         "1489",
         "6",
         "[75, 735, 175, 334]"
        ],
        [
         "38",
         "1489",
         "7",
         "[735, 980, 334, 840]"
        ],
        [
         "39",
         "1489",
         "8",
         "[458, 75, 1005, 175]"
        ],
        [
         "40",
         "2473",
         "1",
         "[481, 907, 789, 57]"
        ],
        [
         "41",
         "2473",
         "2",
         "[624, 481, 839, 789]"
        ],
        [
         "42",
         "2473",
         "3",
         "[675, 624, 542, 839]"
        ],
        [
         "43",
         "2473",
         "4",
         "[907, 675, 57, 542]"
        ],
        [
         "44",
         "2473",
         "5",
         "[542, 57, 675, 907]"
        ],
        [
         "45",
         "2473",
         "6",
         "[789, 839, 481, 624]"
        ],
        [
         "46",
         "2473",
         "7",
         "[839, 542, 624, 675]"
        ],
        [
         "47",
         "2473",
         "8",
         "[57, 789, 907, 481]"
        ],
        [
         "48",
         "2971",
         "1",
         "[862, 458, 938, 567]"
        ],
        [
         "49",
         "2971",
         "2",
         "[945, 862, 334, 938]"
        ]
       ],
       "shape": {
        "columns": 3,
        "rows": 72
       }
      },
      "text/html": [
       "<div>\n",
       "<style scoped>\n",
       "    .dataframe tbody tr th:only-of-type {\n",
       "        vertical-align: middle;\n",
       "    }\n",
       "\n",
       "    .dataframe tbody tr th {\n",
       "        vertical-align: top;\n",
       "    }\n",
       "\n",
       "    .dataframe thead th {\n",
       "        text-align: right;\n",
       "    }\n",
       "</style>\n",
       "<table border=\"1\" class=\"dataframe\">\n",
       "  <thead>\n",
       "    <tr style=\"text-align: right;\">\n",
       "      <th></th>\n",
       "      <th>id</th>\n",
       "      <th>transformation</th>\n",
       "      <th>boundaries</th>\n",
       "    </tr>\n",
       "  </thead>\n",
       "  <tbody>\n",
       "    <tr>\n",
       "      <th>0</th>\n",
       "      <td>2311</td>\n",
       "      <td>1</td>\n",
       "      <td>[813, 934, 792, 525]</td>\n",
       "    </tr>\n",
       "    <tr>\n",
       "      <th>1</th>\n",
       "      <td>2311</td>\n",
       "      <td>2</td>\n",
       "      <td>[705, 813, 407, 792]</td>\n",
       "    </tr>\n",
       "    <tr>\n",
       "      <th>2</th>\n",
       "      <td>2311</td>\n",
       "      <td>3</td>\n",
       "      <td>[99, 705, 723, 407]</td>\n",
       "    </tr>\n",
       "    <tr>\n",
       "      <th>3</th>\n",
       "      <td>2311</td>\n",
       "      <td>4</td>\n",
       "      <td>[934, 99, 525, 723]</td>\n",
       "    </tr>\n",
       "    <tr>\n",
       "      <th>4</th>\n",
       "      <td>2311</td>\n",
       "      <td>5</td>\n",
       "      <td>[723, 525, 99, 934]</td>\n",
       "    </tr>\n",
       "    <tr>\n",
       "      <th>...</th>\n",
       "      <td>...</td>\n",
       "      <td>...</td>\n",
       "      <td>...</td>\n",
       "    </tr>\n",
       "    <tr>\n",
       "      <th>67</th>\n",
       "      <td>3079</td>\n",
       "      <td>4</td>\n",
       "      <td>[759, 907, 407, 522]</td>\n",
       "    </tr>\n",
       "    <tr>\n",
       "      <th>68</th>\n",
       "      <td>3079</td>\n",
       "      <td>5</td>\n",
       "      <td>[522, 407, 907, 759]</td>\n",
       "    </tr>\n",
       "    <tr>\n",
       "      <th>69</th>\n",
       "      <td>3079</td>\n",
       "      <td>6</td>\n",
       "      <td>[839, 957, 321, 934]</td>\n",
       "    </tr>\n",
       "    <tr>\n",
       "      <th>70</th>\n",
       "      <td>3079</td>\n",
       "      <td>7</td>\n",
       "      <td>[957, 522, 934, 907]</td>\n",
       "    </tr>\n",
       "    <tr>\n",
       "      <th>71</th>\n",
       "      <td>3079</td>\n",
       "      <td>8</td>\n",
       "      <td>[407, 839, 759, 321]</td>\n",
       "    </tr>\n",
       "  </tbody>\n",
       "</table>\n",
       "<p>72 rows × 3 columns</p>\n",
       "</div>"
      ],
      "text/plain": [
       "      id  transformation            boundaries\n",
       "0   2311               1  [813, 934, 792, 525]\n",
       "1   2311               2  [705, 813, 407, 792]\n",
       "2   2311               3   [99, 705, 723, 407]\n",
       "3   2311               4   [934, 99, 525, 723]\n",
       "4   2311               5   [723, 525, 99, 934]\n",
       "..   ...             ...                   ...\n",
       "67  3079               4  [759, 907, 407, 522]\n",
       "68  3079               5  [522, 407, 907, 759]\n",
       "69  3079               6  [839, 957, 321, 934]\n",
       "70  3079               7  [957, 522, 934, 907]\n",
       "71  3079               8  [407, 839, 759, 321]\n",
       "\n",
       "[72 rows x 3 columns]"
      ]
     },
     "execution_count": 37,
     "metadata": {},
     "output_type": "execute_result"
    }
   ],
   "source": [
    "all_transforms"
   ]
  },
  {
   "cell_type": "code",
   "execution_count": 38,
   "metadata": {},
   "outputs": [
    {
     "data": {
      "text/plain": [
       "[8, 8, 8, 8, 8, 8, 8, 8, 8]"
      ]
     },
     "execution_count": 38,
     "metadata": {},
     "output_type": "execute_result"
    }
   ],
   "source": [
    "n=3\n",
    "[len(Counter(all_boundaries['value'][(n*32):((n+1)*32)])) for n in range(0,9)]"
   ]
  },
  {
   "cell_type": "code",
   "execution_count": 39,
   "metadata": {},
   "outputs": [
    {
     "data": {
      "text/plain": [
       "Counter({813: 4, 934: 4, 792: 4, 525: 4, 705: 4, 407: 4, 99: 4, 723: 4})"
      ]
     },
     "execution_count": 39,
     "metadata": {},
     "output_type": "execute_result"
    }
   ],
   "source": [
    "n=0\n",
    "Counter(all_boundaries['value'][range(0+n*32,(n+1)*32)])"
   ]
  },
  {
   "cell_type": "markdown",
   "metadata": {},
   "source": [
    "### Coincidences"
   ]
  },
  {
   "cell_type": "code",
   "execution_count": 40,
   "metadata": {},
   "outputs": [
    {
     "data": {
      "application/vnd.microsoft.datawrangler.viewer.v0+json": {
       "columns": [
        {
         "name": "index",
         "rawType": "int64",
         "type": "integer"
        },
        {
         "name": "id",
         "rawType": "int64",
         "type": "integer"
        },
        {
         "name": "transformation",
         "rawType": "int64",
         "type": "integer"
        },
        {
         "name": "boundaries",
         "rawType": "object",
         "type": "unknown"
        }
       ],
       "conversionMethod": "pd.DataFrame",
       "ref": "22f62748-bd43-40f3-95a7-494d6a6cb2a4",
       "rows": [
        [
         "0",
         "2311",
         "1",
         "[813, 934, 792, 525]"
        ],
        [
         "1",
         "2311",
         "2",
         "[705, 813, 407, 792]"
        ],
        [
         "2",
         "2311",
         "3",
         "[99, 705, 723, 407]"
        ],
        [
         "3",
         "2311",
         "4",
         "[934, 99, 525, 723]"
        ],
        [
         "4",
         "2311",
         "5",
         "[723, 525, 99, 934]"
        ],
        [
         "5",
         "2311",
         "6",
         "[792, 407, 813, 705]"
        ],
        [
         "6",
         "2311",
         "7",
         "[407, 723, 705, 99]"
        ],
        [
         "7",
         "2311",
         "8",
         "[525, 792, 934, 813]"
        ]
       ],
       "shape": {
        "columns": 3,
        "rows": 8
       }
      },
      "text/html": [
       "<div>\n",
       "<style scoped>\n",
       "    .dataframe tbody tr th:only-of-type {\n",
       "        vertical-align: middle;\n",
       "    }\n",
       "\n",
       "    .dataframe tbody tr th {\n",
       "        vertical-align: top;\n",
       "    }\n",
       "\n",
       "    .dataframe thead th {\n",
       "        text-align: right;\n",
       "    }\n",
       "</style>\n",
       "<table border=\"1\" class=\"dataframe\">\n",
       "  <thead>\n",
       "    <tr style=\"text-align: right;\">\n",
       "      <th></th>\n",
       "      <th>id</th>\n",
       "      <th>transformation</th>\n",
       "      <th>boundaries</th>\n",
       "    </tr>\n",
       "  </thead>\n",
       "  <tbody>\n",
       "    <tr>\n",
       "      <th>0</th>\n",
       "      <td>2311</td>\n",
       "      <td>1</td>\n",
       "      <td>[813, 934, 792, 525]</td>\n",
       "    </tr>\n",
       "    <tr>\n",
       "      <th>1</th>\n",
       "      <td>2311</td>\n",
       "      <td>2</td>\n",
       "      <td>[705, 813, 407, 792]</td>\n",
       "    </tr>\n",
       "    <tr>\n",
       "      <th>2</th>\n",
       "      <td>2311</td>\n",
       "      <td>3</td>\n",
       "      <td>[99, 705, 723, 407]</td>\n",
       "    </tr>\n",
       "    <tr>\n",
       "      <th>3</th>\n",
       "      <td>2311</td>\n",
       "      <td>4</td>\n",
       "      <td>[934, 99, 525, 723]</td>\n",
       "    </tr>\n",
       "    <tr>\n",
       "      <th>4</th>\n",
       "      <td>2311</td>\n",
       "      <td>5</td>\n",
       "      <td>[723, 525, 99, 934]</td>\n",
       "    </tr>\n",
       "    <tr>\n",
       "      <th>5</th>\n",
       "      <td>2311</td>\n",
       "      <td>6</td>\n",
       "      <td>[792, 407, 813, 705]</td>\n",
       "    </tr>\n",
       "    <tr>\n",
       "      <th>6</th>\n",
       "      <td>2311</td>\n",
       "      <td>7</td>\n",
       "      <td>[407, 723, 705, 99]</td>\n",
       "    </tr>\n",
       "    <tr>\n",
       "      <th>7</th>\n",
       "      <td>2311</td>\n",
       "      <td>8</td>\n",
       "      <td>[525, 792, 934, 813]</td>\n",
       "    </tr>\n",
       "  </tbody>\n",
       "</table>\n",
       "</div>"
      ],
      "text/plain": [
       "     id  transformation            boundaries\n",
       "0  2311               1  [813, 934, 792, 525]\n",
       "1  2311               2  [705, 813, 407, 792]\n",
       "2  2311               3   [99, 705, 723, 407]\n",
       "3  2311               4   [934, 99, 525, 723]\n",
       "4  2311               5   [723, 525, 99, 934]\n",
       "5  2311               6  [792, 407, 813, 705]\n",
       "6  2311               7   [407, 723, 705, 99]\n",
       "7  2311               8  [525, 792, 934, 813]"
      ]
     },
     "execution_count": 40,
     "metadata": {},
     "output_type": "execute_result"
    }
   ],
   "source": [
    "all_transforms[all_transforms['id'] == 2311]"
   ]
  },
  {
   "cell_type": "markdown",
   "metadata": {},
   "source": [
    "A coincidence is when two pieces share a common boundary. This function computes the number of other pieces that have the same boundary b in piece id. For instance, boundary 813 in piece 2311 is found in another piece."
   ]
  },
  {
   "cell_type": "code",
   "execution_count": 41,
   "metadata": {},
   "outputs": [
    {
     "data": {
      "text/plain": [
       "1"
      ]
     },
     "execution_count": 41,
     "metadata": {},
     "output_type": "execute_result"
    }
   ],
   "source": [
    "h.n_coincidences(813, 2311, all_boundaries)"
   ]
  },
  {
   "cell_type": "code",
   "execution_count": 42,
   "metadata": {},
   "outputs": [
    {
     "data": {
      "application/vnd.microsoft.datawrangler.viewer.v0+json": {
       "columns": [
        {
         "name": "index",
         "rawType": "int64",
         "type": "integer"
        },
        {
         "name": "id",
         "rawType": "int64",
         "type": "integer"
        },
        {
         "name": "transformation",
         "rawType": "int64",
         "type": "integer"
        },
        {
         "name": "boundary",
         "rawType": "int64",
         "type": "integer"
        }
       ],
       "conversionMethod": "pd.DataFrame",
       "ref": "e70f29c1-ad65-421d-80bf-2d25ba72a42a",
       "rows": [
        [
         "98",
         "1427",
         "1",
         "3"
        ],
        [
         "103",
         "1427",
         "2",
         "4"
        ],
        [
         "116",
         "1427",
         "6",
         "1"
        ],
        [
         "125",
         "1427",
         "8",
         "2"
        ]
       ],
       "shape": {
        "columns": 3,
        "rows": 4
       }
      },
      "text/html": [
       "<div>\n",
       "<style scoped>\n",
       "    .dataframe tbody tr th:only-of-type {\n",
       "        vertical-align: middle;\n",
       "    }\n",
       "\n",
       "    .dataframe tbody tr th {\n",
       "        vertical-align: top;\n",
       "    }\n",
       "\n",
       "    .dataframe thead th {\n",
       "        text-align: right;\n",
       "    }\n",
       "</style>\n",
       "<table border=\"1\" class=\"dataframe\">\n",
       "  <thead>\n",
       "    <tr style=\"text-align: right;\">\n",
       "      <th></th>\n",
       "      <th>id</th>\n",
       "      <th>transformation</th>\n",
       "      <th>boundary</th>\n",
       "    </tr>\n",
       "  </thead>\n",
       "  <tbody>\n",
       "    <tr>\n",
       "      <th>98</th>\n",
       "      <td>1427</td>\n",
       "      <td>1</td>\n",
       "      <td>3</td>\n",
       "    </tr>\n",
       "    <tr>\n",
       "      <th>103</th>\n",
       "      <td>1427</td>\n",
       "      <td>2</td>\n",
       "      <td>4</td>\n",
       "    </tr>\n",
       "    <tr>\n",
       "      <th>116</th>\n",
       "      <td>1427</td>\n",
       "      <td>6</td>\n",
       "      <td>1</td>\n",
       "    </tr>\n",
       "    <tr>\n",
       "      <th>125</th>\n",
       "      <td>1427</td>\n",
       "      <td>8</td>\n",
       "      <td>2</td>\n",
       "    </tr>\n",
       "  </tbody>\n",
       "</table>\n",
       "</div>"
      ],
      "text/plain": [
       "       id  transformation  boundary\n",
       "98   1427               1         3\n",
       "103  1427               2         4\n",
       "116  1427               6         1\n",
       "125  1427               8         2"
      ]
     },
     "execution_count": 42,
     "metadata": {},
     "output_type": "execute_result"
    }
   ],
   "source": [
    "id = 2311 # tile\n",
    "b = 813 # boundary value\n",
    "new_df = all_boundaries[all_boundaries['id']!=id] \n",
    "new_df[new_df['value'] == b][['id','transformation', 'boundary']]\n"
   ]
  },
  {
   "cell_type": "markdown",
   "metadata": {},
   "source": [
    "Boundary 813 exists also in tile 1427 in 4 different boundary positions. Given a boundary value, and a boundary position there is only one tile shape possible. This is the key to join all pieces to create the final matrix. For all possible boundary values, we find how many other pieces have the same boundary. "
   ]
  },
  {
   "cell_type": "code",
   "execution_count": 43,
   "metadata": {},
   "outputs": [
    {
     "data": {
      "text/plain": [
       "[0, 1]"
      ]
     },
     "execution_count": 43,
     "metadata": {},
     "output_type": "execute_result"
    }
   ],
   "source": [
    "# all coincidence for all boundaries for each piece and boundary\n",
    "all_coincidences = [h.n_coincidences(int(r[3]), int(r[0]), all_boundaries) for r in all_boundaries.values]\n",
    "np.unique(all_coincidences).tolist()"
   ]
  },
  {
   "cell_type": "markdown",
   "metadata": {},
   "source": [
    "Each piece has a maximum of one common border with any other piece"
   ]
  },
  {
   "cell_type": "markdown",
   "metadata": {},
   "source": [
    "### Number of common boundaries in a tile "
   ]
  },
  {
   "cell_type": "markdown",
   "metadata": {},
   "source": [
    "We compute it only for the tiles in the original shape. To match them, we will have to transform them"
   ]
  },
  {
   "cell_type": "code",
   "execution_count": 44,
   "metadata": {},
   "outputs": [
    {
     "name": "stdout",
     "output_type": "stream",
     "text": [
      "[2311, 1, 3]\n",
      "[1951, 1, 2]\n",
      "[1171, 1, 2]\n",
      "[1427, 1, 4]\n",
      "[1489, 1, 3]\n",
      "[2473, 1, 3]\n",
      "[2971, 1, 2]\n",
      "[2729, 1, 3]\n",
      "[3079, 1, 2]\n"
     ]
    }
   ],
   "source": [
    "y = all_transforms\n",
    "i_count = 0\n",
    "z=[]\n",
    "for tile in y.values :\n",
    "    if i_count % 8 == 0:\n",
    "        n_matches = 0\n",
    "        for b in tile[2]:\n",
    "            n_matches = n_matches + h.n_coincidences(b, tile[0], all_boundaries)\n",
    "        print([tile[0], tile[1], n_matches])\n",
    "        z.append([tile[0], tile[1], n_matches])\n",
    "    i_count = i_count + 1"
   ]
  },
  {
   "cell_type": "code",
   "execution_count": 45,
   "metadata": {},
   "outputs": [
    {
     "name": "stdout",
     "output_type": "stream",
     "text": [
      "[[2311, 1, 3], [1951, 1, 2], [1171, 1, 2], [1427, 1, 4], [1489, 1, 3], [2473, 1, 3], [2971, 1, 2], [2729, 1, 3], [3079, 1, 2]]\n"
     ]
    }
   ],
   "source": [
    "print(z)"
   ]
  },
  {
   "cell_type": "markdown",
   "metadata": {},
   "source": [
    "The pieces with 2 common boundaries are corners. The ones with 3 are the pieces in the boundary and the ones with 4 are the pieces inside. In this case, the corners are the pieces 1951, 1171, 2971 and 3079"
   ]
  },
  {
   "cell_type": "code",
   "execution_count": 46,
   "metadata": {},
   "outputs": [
    {
     "data": {
      "text/plain": [
       "[1951, 1171, 2971, 3079]"
      ]
     },
     "execution_count": 46,
     "metadata": {},
     "output_type": "execute_result"
    }
   ],
   "source": [
    "corners = []\n",
    "for x in z:\n",
    "    if x[2] == 2:\n",
    "        corners.append(x[0])\n",
    "corners\n"
   ]
  },
  {
   "cell_type": "code",
   "execution_count": 47,
   "metadata": {},
   "outputs": [
    {
     "data": {
      "text/plain": [
       "20899048083289"
      ]
     },
     "execution_count": 47,
     "metadata": {},
     "output_type": "execute_result"
    }
   ],
   "source": [
    "math.prod(corners)"
   ]
  },
  {
   "cell_type": "markdown",
   "metadata": {},
   "source": [
    "This is the solution of question 1\n"
   ]
  },
  {
   "cell_type": "code",
   "execution_count": 48,
   "metadata": {},
   "outputs": [],
   "source": [
    "data = h.read_input()\n",
    "all_boundaries_data = h.get_all_boundaries(data)\n",
    "all_transforms_data = h.get_all_transforms(data)\n",
    "\n",
    "y_data = all_transforms_data\n",
    "i_count = 0\n",
    "z_data=[]\n",
    "for tile in y_data.values :\n",
    "    if i_count % 8 == 0:\n",
    "        n_matches = 0\n",
    "        for b in tile[2]:\n",
    "            n_matches = n_matches + h.n_coincidences(b, tile[0], all_boundaries_data)\n",
    "        # print([tile[0], tile[1], n_matches])\n",
    "        z_data.append([tile[0], tile[1], n_matches])\n",
    "    i_count = i_count + 1"
   ]
  },
  {
   "cell_type": "code",
   "execution_count": 49,
   "metadata": {},
   "outputs": [
    {
     "data": {
      "text/plain": [
       "[2243, 1213, 2953, 2273]"
      ]
     },
     "execution_count": 49,
     "metadata": {},
     "output_type": "execute_result"
    }
   ],
   "source": [
    "corners_data = []\n",
    "for x in z_data:\n",
    "    if x[2] == 2:\n",
    "        corners_data.append(x[0])\n",
    "corners_data"
   ]
  },
  {
   "cell_type": "code",
   "execution_count": 50,
   "metadata": {},
   "outputs": [
    {
     "data": {
      "text/plain": [
       "18262194216271"
      ]
     },
     "execution_count": 50,
     "metadata": {},
     "output_type": "execute_result"
    }
   ],
   "source": [
    "math.prod(corners_data)"
   ]
  },
  {
   "cell_type": "markdown",
   "metadata": {},
   "source": [
    "## Second question."
   ]
  },
  {
   "cell_type": "markdown",
   "metadata": {},
   "source": [
    "We have first to build the complete image with the right pieces with the right transform in each position."
   ]
  },
  {
   "cell_type": "markdown",
   "metadata": {},
   "source": [
    "We solve it for the simple example first (3x3). Let us take the four corner tiles and identify whihc boundaries are external"
   ]
  },
  {
   "cell_type": "code",
   "execution_count": 51,
   "metadata": {},
   "outputs": [
    {
     "data": {
      "application/vnd.microsoft.datawrangler.viewer.v0+json": {
       "columns": [
        {
         "name": "index",
         "rawType": "int64",
         "type": "integer"
        },
        {
         "name": "id",
         "rawType": "int64",
         "type": "integer"
        },
        {
         "name": "transformation",
         "rawType": "int64",
         "type": "integer"
        },
        {
         "name": "boundary",
         "rawType": "int64",
         "type": "integer"
        },
        {
         "name": "value",
         "rawType": "int64",
         "type": "integer"
        }
       ],
       "conversionMethod": "pd.DataFrame",
       "ref": "2e9dae69-fc38-4971-abdd-93a6f41d5067",
       "rows": [
        [
         "32",
         "1951",
         "1",
         "1",
         "313"
        ],
        [
         "33",
         "1951",
         "1",
         "2",
         "525"
        ],
        [
         "34",
         "1951",
         "1",
         "3",
         "459"
        ],
        [
         "35",
         "1951",
         "1",
         "4",
         "182"
        ],
        [
         "36",
         "1951",
         "2",
         "1",
         "436"
        ],
        [
         "37",
         "1951",
         "2",
         "2",
         "313"
        ],
        [
         "38",
         "1951",
         "2",
         "3",
         "705"
        ],
        [
         "39",
         "1951",
         "2",
         "4",
         "459"
        ],
        [
         "40",
         "1951",
         "3",
         "1",
         "846"
        ],
        [
         "41",
         "1951",
         "3",
         "2",
         "436"
        ],
        [
         "42",
         "1951",
         "3",
         "3",
         "626"
        ],
        [
         "43",
         "1951",
         "3",
         "4",
         "705"
        ],
        [
         "44",
         "1951",
         "4",
         "1",
         "525"
        ],
        [
         "45",
         "1951",
         "4",
         "2",
         "846"
        ],
        [
         "46",
         "1951",
         "4",
         "3",
         "182"
        ],
        [
         "47",
         "1951",
         "4",
         "4",
         "626"
        ],
        [
         "48",
         "1951",
         "5",
         "1",
         "626"
        ],
        [
         "49",
         "1951",
         "5",
         "2",
         "182"
        ],
        [
         "50",
         "1951",
         "5",
         "3",
         "846"
        ],
        [
         "51",
         "1951",
         "5",
         "4",
         "525"
        ],
        [
         "52",
         "1951",
         "6",
         "1",
         "459"
        ],
        [
         "53",
         "1951",
         "6",
         "2",
         "705"
        ],
        [
         "54",
         "1951",
         "6",
         "3",
         "313"
        ],
        [
         "55",
         "1951",
         "6",
         "4",
         "436"
        ],
        [
         "56",
         "1951",
         "7",
         "1",
         "705"
        ],
        [
         "57",
         "1951",
         "7",
         "2",
         "626"
        ],
        [
         "58",
         "1951",
         "7",
         "3",
         "436"
        ],
        [
         "59",
         "1951",
         "7",
         "4",
         "846"
        ],
        [
         "60",
         "1951",
         "8",
         "1",
         "182"
        ],
        [
         "61",
         "1951",
         "8",
         "2",
         "459"
        ],
        [
         "62",
         "1951",
         "8",
         "3",
         "525"
        ],
        [
         "63",
         "1951",
         "8",
         "4",
         "313"
        ],
        [
         "64",
         "1171",
         "1",
         "1",
         "57"
        ],
        [
         "65",
         "1171",
         "1",
         "2",
         "735"
        ],
        [
         "66",
         "1171",
         "1",
         "3",
         "999"
        ],
        [
         "67",
         "1171",
         "1",
         "4",
         "121"
        ],
        [
         "68",
         "1171",
         "2",
         "1",
         "632"
        ],
        [
         "69",
         "1171",
         "2",
         "2",
         "57"
        ],
        [
         "70",
         "1171",
         "2",
         "3",
         "1005"
        ],
        [
         "71",
         "1171",
         "2",
         "4",
         "999"
        ],
        [
         "72",
         "1171",
         "3",
         "1",
         "927"
        ],
        [
         "73",
         "1171",
         "3",
         "2",
         "632"
        ],
        [
         "74",
         "1171",
         "3",
         "3",
         "624"
        ],
        [
         "75",
         "1171",
         "3",
         "4",
         "1005"
        ],
        [
         "76",
         "1171",
         "4",
         "1",
         "735"
        ],
        [
         "77",
         "1171",
         "4",
         "2",
         "927"
        ],
        [
         "78",
         "1171",
         "4",
         "3",
         "121"
        ],
        [
         "79",
         "1171",
         "4",
         "4",
         "624"
        ],
        [
         "80",
         "1171",
         "5",
         "1",
         "624"
        ],
        [
         "81",
         "1171",
         "5",
         "2",
         "121"
        ]
       ],
       "shape": {
        "columns": 4,
        "rows": 128
       }
      },
      "text/html": [
       "<div>\n",
       "<style scoped>\n",
       "    .dataframe tbody tr th:only-of-type {\n",
       "        vertical-align: middle;\n",
       "    }\n",
       "\n",
       "    .dataframe tbody tr th {\n",
       "        vertical-align: top;\n",
       "    }\n",
       "\n",
       "    .dataframe thead th {\n",
       "        text-align: right;\n",
       "    }\n",
       "</style>\n",
       "<table border=\"1\" class=\"dataframe\">\n",
       "  <thead>\n",
       "    <tr style=\"text-align: right;\">\n",
       "      <th></th>\n",
       "      <th>id</th>\n",
       "      <th>transformation</th>\n",
       "      <th>boundary</th>\n",
       "      <th>value</th>\n",
       "    </tr>\n",
       "  </thead>\n",
       "  <tbody>\n",
       "    <tr>\n",
       "      <th>32</th>\n",
       "      <td>1951</td>\n",
       "      <td>1</td>\n",
       "      <td>1</td>\n",
       "      <td>313</td>\n",
       "    </tr>\n",
       "    <tr>\n",
       "      <th>33</th>\n",
       "      <td>1951</td>\n",
       "      <td>1</td>\n",
       "      <td>2</td>\n",
       "      <td>525</td>\n",
       "    </tr>\n",
       "    <tr>\n",
       "      <th>34</th>\n",
       "      <td>1951</td>\n",
       "      <td>1</td>\n",
       "      <td>3</td>\n",
       "      <td>459</td>\n",
       "    </tr>\n",
       "    <tr>\n",
       "      <th>35</th>\n",
       "      <td>1951</td>\n",
       "      <td>1</td>\n",
       "      <td>4</td>\n",
       "      <td>182</td>\n",
       "    </tr>\n",
       "    <tr>\n",
       "      <th>36</th>\n",
       "      <td>1951</td>\n",
       "      <td>2</td>\n",
       "      <td>1</td>\n",
       "      <td>436</td>\n",
       "    </tr>\n",
       "    <tr>\n",
       "      <th>...</th>\n",
       "      <td>...</td>\n",
       "      <td>...</td>\n",
       "      <td>...</td>\n",
       "      <td>...</td>\n",
       "    </tr>\n",
       "    <tr>\n",
       "      <th>283</th>\n",
       "      <td>3079</td>\n",
       "      <td>7</td>\n",
       "      <td>4</td>\n",
       "      <td>907</td>\n",
       "    </tr>\n",
       "    <tr>\n",
       "      <th>284</th>\n",
       "      <td>3079</td>\n",
       "      <td>8</td>\n",
       "      <td>1</td>\n",
       "      <td>407</td>\n",
       "    </tr>\n",
       "    <tr>\n",
       "      <th>285</th>\n",
       "      <td>3079</td>\n",
       "      <td>8</td>\n",
       "      <td>2</td>\n",
       "      <td>839</td>\n",
       "    </tr>\n",
       "    <tr>\n",
       "      <th>286</th>\n",
       "      <td>3079</td>\n",
       "      <td>8</td>\n",
       "      <td>3</td>\n",
       "      <td>759</td>\n",
       "    </tr>\n",
       "    <tr>\n",
       "      <th>287</th>\n",
       "      <td>3079</td>\n",
       "      <td>8</td>\n",
       "      <td>4</td>\n",
       "      <td>321</td>\n",
       "    </tr>\n",
       "  </tbody>\n",
       "</table>\n",
       "<p>128 rows × 4 columns</p>\n",
       "</div>"
      ],
      "text/plain": [
       "       id  transformation  boundary  value\n",
       "32   1951               1         1    313\n",
       "33   1951               1         2    525\n",
       "34   1951               1         3    459\n",
       "35   1951               1         4    182\n",
       "36   1951               2         1    436\n",
       "..    ...             ...       ...    ...\n",
       "283  3079               7         4    907\n",
       "284  3079               8         1    407\n",
       "285  3079               8         2    839\n",
       "286  3079               8         3    759\n",
       "287  3079               8         4    321\n",
       "\n",
       "[128 rows x 4 columns]"
      ]
     },
     "execution_count": 51,
     "metadata": {},
     "output_type": "execute_result"
    }
   ],
   "source": [
    "all_boundaries[all_boundaries['id'].isin(corners)]"
   ]
  },
  {
   "cell_type": "code",
   "execution_count": 52,
   "metadata": {},
   "outputs": [
    {
     "data": {
      "application/vnd.microsoft.datawrangler.viewer.v0+json": {
       "columns": [
        {
         "name": "index",
         "rawType": "int64",
         "type": "integer"
        },
        {
         "name": "id",
         "rawType": "int64",
         "type": "integer"
        },
        {
         "name": "transformation",
         "rawType": "int64",
         "type": "integer"
        },
        {
         "name": "boundaries",
         "rawType": "object",
         "type": "unknown"
        }
       ],
       "conversionMethod": "pd.DataFrame",
       "ref": "8753588e-c21c-423c-971f-fc738db13b2f",
       "rows": [
        [
         "8",
         "1951",
         "1",
         "[313, 525, 459, 182]"
        ],
        [
         "9",
         "1951",
         "2",
         "[436, 313, 705, 459]"
        ],
        [
         "10",
         "1951",
         "3",
         "[846, 436, 626, 705]"
        ],
        [
         "11",
         "1951",
         "4",
         "[525, 846, 182, 626]"
        ],
        [
         "12",
         "1951",
         "5",
         "[626, 182, 846, 525]"
        ],
        [
         "13",
         "1951",
         "6",
         "[459, 705, 313, 436]"
        ],
        [
         "14",
         "1951",
         "7",
         "[705, 626, 436, 846]"
        ],
        [
         "15",
         "1951",
         "8",
         "[182, 459, 525, 313]"
        ],
        [
         "16",
         "1171",
         "1",
         "[57, 735, 999, 121]"
        ],
        [
         "17",
         "1171",
         "2",
         "[632, 57, 1005, 999]"
        ],
        [
         "18",
         "1171",
         "3",
         "[927, 632, 624, 1005]"
        ],
        [
         "19",
         "1171",
         "4",
         "[735, 927, 121, 624]"
        ],
        [
         "20",
         "1171",
         "5",
         "[624, 121, 927, 735]"
        ],
        [
         "21",
         "1171",
         "6",
         "[999, 1005, 57, 632]"
        ],
        [
         "22",
         "1171",
         "7",
         "[1005, 624, 632, 927]"
        ],
        [
         "23",
         "1171",
         "8",
         "[121, 999, 735, 57]"
        ],
        [
         "48",
         "2971",
         "1",
         "[862, 458, 938, 567]"
        ],
        [
         "49",
         "2971",
         "2",
         "[945, 862, 334, 938]"
        ],
        [
         "50",
         "2971",
         "3",
         "[343, 945, 491, 334]"
        ],
        [
         "51",
         "2971",
         "4",
         "[458, 343, 567, 491]"
        ],
        [
         "52",
         "2971",
         "5",
         "[491, 567, 343, 458]"
        ],
        [
         "53",
         "2971",
         "6",
         "[938, 334, 862, 945]"
        ],
        [
         "54",
         "2971",
         "7",
         "[334, 491, 945, 343]"
        ],
        [
         "55",
         "2971",
         "8",
         "[567, 938, 458, 862]"
        ],
        [
         "64",
         "3079",
         "1",
         "[321, 759, 839, 407]"
        ],
        [
         "65",
         "3079",
         "2",
         "[934, 321, 957, 839]"
        ],
        [
         "66",
         "3079",
         "3",
         "[907, 934, 522, 957]"
        ],
        [
         "67",
         "3079",
         "4",
         "[759, 907, 407, 522]"
        ],
        [
         "68",
         "3079",
         "5",
         "[522, 407, 907, 759]"
        ],
        [
         "69",
         "3079",
         "6",
         "[839, 957, 321, 934]"
        ],
        [
         "70",
         "3079",
         "7",
         "[957, 522, 934, 907]"
        ],
        [
         "71",
         "3079",
         "8",
         "[407, 839, 759, 321]"
        ]
       ],
       "shape": {
        "columns": 3,
        "rows": 32
       }
      },
      "text/html": [
       "<div>\n",
       "<style scoped>\n",
       "    .dataframe tbody tr th:only-of-type {\n",
       "        vertical-align: middle;\n",
       "    }\n",
       "\n",
       "    .dataframe tbody tr th {\n",
       "        vertical-align: top;\n",
       "    }\n",
       "\n",
       "    .dataframe thead th {\n",
       "        text-align: right;\n",
       "    }\n",
       "</style>\n",
       "<table border=\"1\" class=\"dataframe\">\n",
       "  <thead>\n",
       "    <tr style=\"text-align: right;\">\n",
       "      <th></th>\n",
       "      <th>id</th>\n",
       "      <th>transformation</th>\n",
       "      <th>boundaries</th>\n",
       "    </tr>\n",
       "  </thead>\n",
       "  <tbody>\n",
       "    <tr>\n",
       "      <th>8</th>\n",
       "      <td>1951</td>\n",
       "      <td>1</td>\n",
       "      <td>[313, 525, 459, 182]</td>\n",
       "    </tr>\n",
       "    <tr>\n",
       "      <th>9</th>\n",
       "      <td>1951</td>\n",
       "      <td>2</td>\n",
       "      <td>[436, 313, 705, 459]</td>\n",
       "    </tr>\n",
       "    <tr>\n",
       "      <th>10</th>\n",
       "      <td>1951</td>\n",
       "      <td>3</td>\n",
       "      <td>[846, 436, 626, 705]</td>\n",
       "    </tr>\n",
       "    <tr>\n",
       "      <th>11</th>\n",
       "      <td>1951</td>\n",
       "      <td>4</td>\n",
       "      <td>[525, 846, 182, 626]</td>\n",
       "    </tr>\n",
       "    <tr>\n",
       "      <th>12</th>\n",
       "      <td>1951</td>\n",
       "      <td>5</td>\n",
       "      <td>[626, 182, 846, 525]</td>\n",
       "    </tr>\n",
       "    <tr>\n",
       "      <th>13</th>\n",
       "      <td>1951</td>\n",
       "      <td>6</td>\n",
       "      <td>[459, 705, 313, 436]</td>\n",
       "    </tr>\n",
       "    <tr>\n",
       "      <th>14</th>\n",
       "      <td>1951</td>\n",
       "      <td>7</td>\n",
       "      <td>[705, 626, 436, 846]</td>\n",
       "    </tr>\n",
       "    <tr>\n",
       "      <th>15</th>\n",
       "      <td>1951</td>\n",
       "      <td>8</td>\n",
       "      <td>[182, 459, 525, 313]</td>\n",
       "    </tr>\n",
       "    <tr>\n",
       "      <th>16</th>\n",
       "      <td>1171</td>\n",
       "      <td>1</td>\n",
       "      <td>[57, 735, 999, 121]</td>\n",
       "    </tr>\n",
       "    <tr>\n",
       "      <th>17</th>\n",
       "      <td>1171</td>\n",
       "      <td>2</td>\n",
       "      <td>[632, 57, 1005, 999]</td>\n",
       "    </tr>\n",
       "    <tr>\n",
       "      <th>18</th>\n",
       "      <td>1171</td>\n",
       "      <td>3</td>\n",
       "      <td>[927, 632, 624, 1005]</td>\n",
       "    </tr>\n",
       "    <tr>\n",
       "      <th>19</th>\n",
       "      <td>1171</td>\n",
       "      <td>4</td>\n",
       "      <td>[735, 927, 121, 624]</td>\n",
       "    </tr>\n",
       "    <tr>\n",
       "      <th>20</th>\n",
       "      <td>1171</td>\n",
       "      <td>5</td>\n",
       "      <td>[624, 121, 927, 735]</td>\n",
       "    </tr>\n",
       "    <tr>\n",
       "      <th>21</th>\n",
       "      <td>1171</td>\n",
       "      <td>6</td>\n",
       "      <td>[999, 1005, 57, 632]</td>\n",
       "    </tr>\n",
       "    <tr>\n",
       "      <th>22</th>\n",
       "      <td>1171</td>\n",
       "      <td>7</td>\n",
       "      <td>[1005, 624, 632, 927]</td>\n",
       "    </tr>\n",
       "    <tr>\n",
       "      <th>23</th>\n",
       "      <td>1171</td>\n",
       "      <td>8</td>\n",
       "      <td>[121, 999, 735, 57]</td>\n",
       "    </tr>\n",
       "    <tr>\n",
       "      <th>48</th>\n",
       "      <td>2971</td>\n",
       "      <td>1</td>\n",
       "      <td>[862, 458, 938, 567]</td>\n",
       "    </tr>\n",
       "    <tr>\n",
       "      <th>49</th>\n",
       "      <td>2971</td>\n",
       "      <td>2</td>\n",
       "      <td>[945, 862, 334, 938]</td>\n",
       "    </tr>\n",
       "    <tr>\n",
       "      <th>50</th>\n",
       "      <td>2971</td>\n",
       "      <td>3</td>\n",
       "      <td>[343, 945, 491, 334]</td>\n",
       "    </tr>\n",
       "    <tr>\n",
       "      <th>51</th>\n",
       "      <td>2971</td>\n",
       "      <td>4</td>\n",
       "      <td>[458, 343, 567, 491]</td>\n",
       "    </tr>\n",
       "    <tr>\n",
       "      <th>52</th>\n",
       "      <td>2971</td>\n",
       "      <td>5</td>\n",
       "      <td>[491, 567, 343, 458]</td>\n",
       "    </tr>\n",
       "    <tr>\n",
       "      <th>53</th>\n",
       "      <td>2971</td>\n",
       "      <td>6</td>\n",
       "      <td>[938, 334, 862, 945]</td>\n",
       "    </tr>\n",
       "    <tr>\n",
       "      <th>54</th>\n",
       "      <td>2971</td>\n",
       "      <td>7</td>\n",
       "      <td>[334, 491, 945, 343]</td>\n",
       "    </tr>\n",
       "    <tr>\n",
       "      <th>55</th>\n",
       "      <td>2971</td>\n",
       "      <td>8</td>\n",
       "      <td>[567, 938, 458, 862]</td>\n",
       "    </tr>\n",
       "    <tr>\n",
       "      <th>64</th>\n",
       "      <td>3079</td>\n",
       "      <td>1</td>\n",
       "      <td>[321, 759, 839, 407]</td>\n",
       "    </tr>\n",
       "    <tr>\n",
       "      <th>65</th>\n",
       "      <td>3079</td>\n",
       "      <td>2</td>\n",
       "      <td>[934, 321, 957, 839]</td>\n",
       "    </tr>\n",
       "    <tr>\n",
       "      <th>66</th>\n",
       "      <td>3079</td>\n",
       "      <td>3</td>\n",
       "      <td>[907, 934, 522, 957]</td>\n",
       "    </tr>\n",
       "    <tr>\n",
       "      <th>67</th>\n",
       "      <td>3079</td>\n",
       "      <td>4</td>\n",
       "      <td>[759, 907, 407, 522]</td>\n",
       "    </tr>\n",
       "    <tr>\n",
       "      <th>68</th>\n",
       "      <td>3079</td>\n",
       "      <td>5</td>\n",
       "      <td>[522, 407, 907, 759]</td>\n",
       "    </tr>\n",
       "    <tr>\n",
       "      <th>69</th>\n",
       "      <td>3079</td>\n",
       "      <td>6</td>\n",
       "      <td>[839, 957, 321, 934]</td>\n",
       "    </tr>\n",
       "    <tr>\n",
       "      <th>70</th>\n",
       "      <td>3079</td>\n",
       "      <td>7</td>\n",
       "      <td>[957, 522, 934, 907]</td>\n",
       "    </tr>\n",
       "    <tr>\n",
       "      <th>71</th>\n",
       "      <td>3079</td>\n",
       "      <td>8</td>\n",
       "      <td>[407, 839, 759, 321]</td>\n",
       "    </tr>\n",
       "  </tbody>\n",
       "</table>\n",
       "</div>"
      ],
      "text/plain": [
       "      id  transformation             boundaries\n",
       "8   1951               1   [313, 525, 459, 182]\n",
       "9   1951               2   [436, 313, 705, 459]\n",
       "10  1951               3   [846, 436, 626, 705]\n",
       "11  1951               4   [525, 846, 182, 626]\n",
       "12  1951               5   [626, 182, 846, 525]\n",
       "13  1951               6   [459, 705, 313, 436]\n",
       "14  1951               7   [705, 626, 436, 846]\n",
       "15  1951               8   [182, 459, 525, 313]\n",
       "16  1171               1    [57, 735, 999, 121]\n",
       "17  1171               2   [632, 57, 1005, 999]\n",
       "18  1171               3  [927, 632, 624, 1005]\n",
       "19  1171               4   [735, 927, 121, 624]\n",
       "20  1171               5   [624, 121, 927, 735]\n",
       "21  1171               6   [999, 1005, 57, 632]\n",
       "22  1171               7  [1005, 624, 632, 927]\n",
       "23  1171               8    [121, 999, 735, 57]\n",
       "48  2971               1   [862, 458, 938, 567]\n",
       "49  2971               2   [945, 862, 334, 938]\n",
       "50  2971               3   [343, 945, 491, 334]\n",
       "51  2971               4   [458, 343, 567, 491]\n",
       "52  2971               5   [491, 567, 343, 458]\n",
       "53  2971               6   [938, 334, 862, 945]\n",
       "54  2971               7   [334, 491, 945, 343]\n",
       "55  2971               8   [567, 938, 458, 862]\n",
       "64  3079               1   [321, 759, 839, 407]\n",
       "65  3079               2   [934, 321, 957, 839]\n",
       "66  3079               3   [907, 934, 522, 957]\n",
       "67  3079               4   [759, 907, 407, 522]\n",
       "68  3079               5   [522, 407, 907, 759]\n",
       "69  3079               6   [839, 957, 321, 934]\n",
       "70  3079               7   [957, 522, 934, 907]\n",
       "71  3079               8   [407, 839, 759, 321]"
      ]
     },
     "execution_count": 52,
     "metadata": {},
     "output_type": "execute_result"
    }
   ],
   "source": [
    "all_transforms[all_transforms['id'].isin(corners)]"
   ]
  },
  {
   "cell_type": "code",
   "execution_count": 53,
   "metadata": {},
   "outputs": [],
   "source": [
    "# all coincidence for all boundaries for each piece and boundary\n",
    "all_boundaries_corners = all_boundaries[all_boundaries['id'].isin(corners)]\n",
    "all_coincidences = [(int(r[0]),int(r[1]),int(r[2]), int(r[3]), h.n_coincidences(int(r[3]), int(r[0]), all_boundaries)) for r in all_boundaries_corners.values]\n",
    "#np.unique(all_coincidences).tolist()\n",
    "boundary_corner = [x for x in all_coincidences if x[4]==0]"
   ]
  },
  {
   "cell_type": "code",
   "execution_count": 54,
   "metadata": {},
   "outputs": [
    {
     "data": {
      "text/plain": [
       "[(1951, 1, 3, 459, 0),\n",
       " (1951, 1, 4, 182, 0),\n",
       " (1951, 2, 1, 436, 0),\n",
       " (1951, 2, 4, 459, 0),\n",
       " (1951, 3, 1, 846, 0),\n",
       " (1951, 3, 2, 436, 0),\n",
       " (1951, 4, 2, 846, 0),\n",
       " (1951, 4, 3, 182, 0),\n",
       " (1951, 5, 2, 182, 0),\n",
       " (1951, 5, 3, 846, 0),\n",
       " (1951, 6, 1, 459, 0),\n",
       " (1951, 6, 4, 436, 0),\n",
       " (1951, 7, 3, 436, 0),\n",
       " (1951, 7, 4, 846, 0),\n",
       " (1951, 8, 1, 182, 0),\n",
       " (1951, 8, 2, 459, 0),\n",
       " (1171, 1, 3, 999, 0),\n",
       " (1171, 1, 4, 121, 0),\n",
       " (1171, 2, 1, 632, 0),\n",
       " (1171, 2, 4, 999, 0),\n",
       " (1171, 3, 1, 927, 0),\n",
       " (1171, 3, 2, 632, 0),\n",
       " (1171, 4, 2, 927, 0),\n",
       " (1171, 4, 3, 121, 0),\n",
       " (1171, 5, 2, 121, 0),\n",
       " (1171, 5, 3, 927, 0),\n",
       " (1171, 6, 1, 999, 0),\n",
       " (1171, 6, 4, 632, 0),\n",
       " (1171, 7, 3, 632, 0),\n",
       " (1171, 7, 4, 927, 0),\n",
       " (1171, 8, 1, 121, 0),\n",
       " (1171, 8, 2, 999, 0),\n",
       " (2971, 1, 1, 862, 0),\n",
       " (2971, 1, 4, 567, 0),\n",
       " (2971, 2, 1, 945, 0),\n",
       " (2971, 2, 2, 862, 0),\n",
       " (2971, 3, 2, 945, 0),\n",
       " (2971, 3, 3, 491, 0),\n",
       " (2971, 4, 3, 567, 0),\n",
       " (2971, 4, 4, 491, 0),\n",
       " (2971, 5, 1, 491, 0),\n",
       " (2971, 5, 2, 567, 0),\n",
       " (2971, 6, 3, 862, 0),\n",
       " (2971, 6, 4, 945, 0),\n",
       " (2971, 7, 2, 491, 0),\n",
       " (2971, 7, 3, 945, 0),\n",
       " (2971, 8, 1, 567, 0),\n",
       " (2971, 8, 4, 862, 0),\n",
       " (3079, 1, 1, 321, 0),\n",
       " (3079, 1, 2, 759, 0),\n",
       " (3079, 2, 2, 321, 0),\n",
       " (3079, 2, 3, 957, 0),\n",
       " (3079, 3, 3, 522, 0),\n",
       " (3079, 3, 4, 957, 0),\n",
       " (3079, 4, 1, 759, 0),\n",
       " (3079, 4, 4, 522, 0),\n",
       " (3079, 5, 1, 522, 0),\n",
       " (3079, 5, 4, 759, 0),\n",
       " (3079, 6, 2, 957, 0),\n",
       " (3079, 6, 3, 321, 0),\n",
       " (3079, 7, 1, 957, 0),\n",
       " (3079, 7, 2, 522, 0),\n",
       " (3079, 8, 3, 759, 0),\n",
       " (3079, 8, 4, 321, 0)]"
      ]
     },
     "execution_count": 54,
     "metadata": {},
     "output_type": "execute_result"
    }
   ],
   "source": [
    "boundary_corner"
   ]
  },
  {
   "cell_type": "code",
   "execution_count": 55,
   "metadata": {},
   "outputs": [],
   "source": [
    "canvas=[]\n",
    "direction = 'down'\n",
    "searched_boundary = 1 \n",
    "# First corner\n",
    "# position (1, 1)\n",
    "x = [1951, 2]\n",
    "n_piece = all_transforms[(all_transforms['id'] == x[0]) & (all_transforms['transformation'] == x[1])]\n",
    "n1_piece = n_piece\n",
    "canvas.append(x)"
   ]
  },
  {
   "cell_type": "code",
   "execution_count": 56,
   "metadata": {},
   "outputs": [
    {
     "data": {
      "text/plain": [
       "9    [436, 313, 705, 459]\n",
       "Name: boundaries, dtype: object"
      ]
     },
     "execution_count": 56,
     "metadata": {},
     "output_type": "execute_result"
    }
   ],
   "source": [
    "n_piece['boundaries']"
   ]
  },
  {
   "cell_type": "code",
   "execution_count": 57,
   "metadata": {},
   "outputs": [
    {
     "data": {
      "text/plain": [
       "id                2311\n",
       "transformation       2\n",
       "boundary             1\n",
       "value              705\n",
       "Name: 4, dtype: int64"
      ]
     },
     "execution_count": 57,
     "metadata": {},
     "output_type": "execute_result"
    }
   ],
   "source": [
    "next_tile = all_boundaries[(all_boundaries['value'] == n_piece.iloc[0]['boundaries'][searched_boundary + 1]) & (all_boundaries['id'] != x[0]) & (all_boundaries['boundary'] == searched_boundary)]\n",
    "next_tile.iloc[0]"
   ]
  },
  {
   "cell_type": "code",
   "execution_count": 58,
   "metadata": {},
   "outputs": [],
   "source": [
    "x = [int(next_tile.iloc[0]['id']), int(next_tile.iloc[0]['transformation'])]\n",
    "n_piece = all_transforms[(all_transforms['id'] == x[0]) & (all_transforms['transformation'] == x[1])]\n",
    "n1_piece = n_piece\n",
    "canvas.append(x)"
   ]
  },
  {
   "cell_type": "code",
   "execution_count": 59,
   "metadata": {},
   "outputs": [
    {
     "data": {
      "text/plain": [
       "[2311, 2]"
      ]
     },
     "execution_count": 59,
     "metadata": {},
     "output_type": "execute_result"
    }
   ],
   "source": [
    "x"
   ]
  },
  {
   "cell_type": "code",
   "execution_count": 60,
   "metadata": {},
   "outputs": [
    {
     "data": {
      "text/plain": [
       "id                3079\n",
       "transformation       8\n",
       "boundary             1\n",
       "value              407\n",
       "Name: 284, dtype: int64"
      ]
     },
     "execution_count": 60,
     "metadata": {},
     "output_type": "execute_result"
    }
   ],
   "source": [
    "next_tile = all_boundaries[(all_boundaries['value'] == n_piece.iloc[0]['boundaries'][searched_boundary + 1]) & (all_boundaries['id'] != x[0]) & (all_boundaries['boundary'] == searched_boundary)]\n",
    "next_tile.iloc[0]"
   ]
  },
  {
   "cell_type": "code",
   "execution_count": 61,
   "metadata": {},
   "outputs": [],
   "source": [
    "x = [int(next_tile.iloc[0]['id']), int(next_tile.iloc[0]['transformation'])]\n",
    "n_piece = all_transforms[(all_transforms['id'] == x[0]) & (all_transforms['transformation'] == x[1])]\n",
    "n1_piece = n_piece\n",
    "canvas.append(x)"
   ]
  },
  {
   "cell_type": "code",
   "execution_count": 62,
   "metadata": {},
   "outputs": [
    {
     "data": {
      "text/plain": [
       "[3079, 8]"
      ]
     },
     "execution_count": 62,
     "metadata": {},
     "output_type": "execute_result"
    }
   ],
   "source": [
    "x"
   ]
  },
  {
   "cell_type": "code",
   "execution_count": 63,
   "metadata": {},
   "outputs": [
    {
     "data": {
      "text/plain": [
       "[[1951, 2], [2311, 2], [3079, 8]]"
      ]
     },
     "execution_count": 63,
     "metadata": {},
     "output_type": "execute_result"
    }
   ],
   "source": [
    "canvas"
   ]
  },
  {
   "cell_type": "code",
   "execution_count": 64,
   "metadata": {},
   "outputs": [],
   "source": [
    "direction = 'right'\n",
    "searched_boundaries = [2, 4] \n",
    "# First corner\n",
    "# position (1, 1)\n",
    "x = canvas[0]\n",
    "n_piece = all_transforms[(all_transforms['id'] == x[0]) & (all_transforms['transformation'] == x[1])]\n"
   ]
  },
  {
   "cell_type": "code",
   "execution_count": 65,
   "metadata": {},
   "outputs": [
    {
     "data": {
      "application/vnd.microsoft.datawrangler.viewer.v0+json": {
       "columns": [
        {
         "name": "index",
         "rawType": "int64",
         "type": "integer"
        },
        {
         "name": "id",
         "rawType": "int64",
         "type": "integer"
        },
        {
         "name": "transformation",
         "rawType": "int64",
         "type": "integer"
        },
        {
         "name": "boundaries",
         "rawType": "object",
         "type": "unknown"
        }
       ],
       "conversionMethod": "pd.DataFrame",
       "ref": "7006a88f-2e45-4094-808b-d70a7076a7b0",
       "rows": [
        [
         "9",
         "1951",
         "2",
         "[436, 313, 705, 459]"
        ]
       ],
       "shape": {
        "columns": 3,
        "rows": 1
       }
      },
      "text/html": [
       "<div>\n",
       "<style scoped>\n",
       "    .dataframe tbody tr th:only-of-type {\n",
       "        vertical-align: middle;\n",
       "    }\n",
       "\n",
       "    .dataframe tbody tr th {\n",
       "        vertical-align: top;\n",
       "    }\n",
       "\n",
       "    .dataframe thead th {\n",
       "        text-align: right;\n",
       "    }\n",
       "</style>\n",
       "<table border=\"1\" class=\"dataframe\">\n",
       "  <thead>\n",
       "    <tr style=\"text-align: right;\">\n",
       "      <th></th>\n",
       "      <th>id</th>\n",
       "      <th>transformation</th>\n",
       "      <th>boundaries</th>\n",
       "    </tr>\n",
       "  </thead>\n",
       "  <tbody>\n",
       "    <tr>\n",
       "      <th>9</th>\n",
       "      <td>1951</td>\n",
       "      <td>2</td>\n",
       "      <td>[436, 313, 705, 459]</td>\n",
       "    </tr>\n",
       "  </tbody>\n",
       "</table>\n",
       "</div>"
      ],
      "text/plain": [
       "     id  transformation            boundaries\n",
       "9  1951               2  [436, 313, 705, 459]"
      ]
     },
     "execution_count": 65,
     "metadata": {},
     "output_type": "execute_result"
    }
   ],
   "source": [
    "n_piece"
   ]
  },
  {
   "cell_type": "code",
   "execution_count": 66,
   "metadata": {},
   "outputs": [
    {
     "data": {
      "text/plain": [
       "313"
      ]
     },
     "execution_count": 66,
     "metadata": {},
     "output_type": "execute_result"
    }
   ],
   "source": [
    "n_piece.iloc[0]['boundaries'][searched_boundaries[0] - 1]"
   ]
  },
  {
   "cell_type": "code",
   "execution_count": 67,
   "metadata": {},
   "outputs": [
    {
     "data": {
      "text/plain": [
       "id                2729\n",
       "transformation       2\n",
       "boundary             4\n",
       "value              313\n",
       "Name: 231, dtype: int64"
      ]
     },
     "execution_count": 67,
     "metadata": {},
     "output_type": "execute_result"
    }
   ],
   "source": [
    "next_tile = all_boundaries[(all_boundaries['value'] == n_piece.iloc[0]['boundaries'][searched_boundaries[0] - 1]) & (all_boundaries['id'] != x[0]) & (all_boundaries['boundary'] == searched_boundaries[1])]\n",
    "next_tile.iloc[0]"
   ]
  },
  {
   "cell_type": "code",
   "execution_count": 68,
   "metadata": {},
   "outputs": [],
   "source": [
    "x = [int(next_tile.iloc[0]['id']), int(next_tile.iloc[0]['transformation'])]\n",
    "n_piece = all_transforms[(all_transforms['id'] == x[0]) & (all_transforms['transformation'] == x[1])]\n",
    "canvas.append(x)\n",
    "direction = 'down'\n",
    "searched_boundaries = [3, 1] "
   ]
  },
  {
   "cell_type": "code",
   "execution_count": 69,
   "metadata": {},
   "outputs": [
    {
     "data": {
      "text/plain": [
       "[[1951, 2], [2311, 2], [3079, 8], [2729, 2]]"
      ]
     },
     "execution_count": 69,
     "metadata": {},
     "output_type": "execute_result"
    }
   ],
   "source": [
    "canvas"
   ]
  },
  {
   "cell_type": "code",
   "execution_count": 70,
   "metadata": {},
   "outputs": [
    {
     "data": {
      "text/plain": [
       "id                1427\n",
       "transformation       2\n",
       "boundary             1\n",
       "value             1014\n",
       "Name: 100, dtype: int64"
      ]
     },
     "execution_count": 70,
     "metadata": {},
     "output_type": "execute_result"
    }
   ],
   "source": [
    "next_tile = all_boundaries[(all_boundaries['value'] == n_piece.iloc[0]['boundaries'][searched_boundaries[0] - 1]) & (all_boundaries['id'] != x[0]) & (all_boundaries['boundary'] == searched_boundaries[1])]\n",
    "next_tile.iloc[0]"
   ]
  },
  {
   "cell_type": "code",
   "execution_count": 71,
   "metadata": {},
   "outputs": [],
   "source": [
    "x = [int(next_tile.iloc[0]['id']), int(next_tile.iloc[0]['transformation'])]\n",
    "n_piece = all_transforms[(all_transforms['id'] == x[0]) & (all_transforms['transformation'] == x[1])]\n",
    "canvas.append(x)"
   ]
  },
  {
   "cell_type": "code",
   "execution_count": 72,
   "metadata": {},
   "outputs": [],
   "source": [
    "next_tile = all_boundaries[(all_boundaries['value'] == n_piece.iloc[0]['boundaries'][searched_boundaries[0] - 1]) & (all_boundaries['id'] != x[0]) & (all_boundaries['boundary'] == searched_boundaries[1])]\n",
    "next_tile.iloc[0]\n",
    "x = [int(next_tile.iloc[0]['id']), int(next_tile.iloc[0]['transformation'])]\n",
    "n_piece = all_transforms[(all_transforms['id'] == x[0]) & (all_transforms['transformation'] == x[1])]\n",
    "canvas.append(x)"
   ]
  },
  {
   "cell_type": "code",
   "execution_count": 73,
   "metadata": {},
   "outputs": [],
   "source": [
    "direction = 'right'\n",
    "searched_boundaries = [2, 4]\n",
    "x = canvas[3]\n",
    "n_piece = all_transforms[(all_transforms['id'] == x[0]) & (all_transforms['transformation'] == x[1])]\n",
    "next_tile = all_boundaries[(all_boundaries['value'] == n_piece.iloc[0]['boundaries'][searched_boundaries[0] - 1]) & (all_boundaries['id'] != x[0]) & (all_boundaries['boundary'] == searched_boundaries[1])]\n",
    "next_tile.iloc[0]\n",
    "x = [int(next_tile.iloc[0]['id']), int(next_tile.iloc[0]['transformation'])]\n",
    "n_piece = all_transforms[(all_transforms['id'] == x[0]) & (all_transforms['transformation'] == x[1])]\n",
    "canvas.append(x)"
   ]
  },
  {
   "cell_type": "code",
   "execution_count": 74,
   "metadata": {},
   "outputs": [
    {
     "data": {
      "text/plain": [
       "[[1951, 2], [2311, 2], [3079, 8], [2729, 2], [1427, 2], [2473, 3], [2971, 2]]"
      ]
     },
     "execution_count": 74,
     "metadata": {},
     "output_type": "execute_result"
    }
   ],
   "source": [
    "canvas"
   ]
  },
  {
   "cell_type": "code",
   "execution_count": 75,
   "metadata": {},
   "outputs": [],
   "source": [
    "direction = 'down'\n",
    "searched_boundaries = [3, 1]\n",
    "next_tile = all_boundaries[(all_boundaries['value'] == n_piece.iloc[0]['boundaries'][searched_boundaries[0] - 1]) & (all_boundaries['id'] != x[0]) & (all_boundaries['boundary'] == searched_boundaries[1])]\n",
    "next_tile.iloc[0]\n",
    "x = [int(next_tile.iloc[0]['id']), int(next_tile.iloc[0]['transformation'])]\n",
    "n_piece = all_transforms[(all_transforms['id'] == x[0]) & (all_transforms['transformation'] == x[1])]\n",
    "canvas.append(x)"
   ]
  },
  {
   "cell_type": "code",
   "execution_count": 76,
   "metadata": {},
   "outputs": [],
   "source": [
    "direction = 'down'\n",
    "searched_boundaries = [3, 1]\n",
    "next_tile = all_boundaries[(all_boundaries['value'] == n_piece.iloc[0]['boundaries'][searched_boundaries[0] - 1]) & (all_boundaries['id'] != x[0]) & (all_boundaries['boundary'] == searched_boundaries[1])]\n",
    "next_tile.iloc[0]\n",
    "x = [int(next_tile.iloc[0]['id']), int(next_tile.iloc[0]['transformation'])]\n",
    "n_piece = all_transforms[(all_transforms['id'] == x[0]) & (all_transforms['transformation'] == x[1])]\n",
    "canvas.append(x)"
   ]
  },
  {
   "cell_type": "code",
   "execution_count": 77,
   "metadata": {},
   "outputs": [
    {
     "data": {
      "text/plain": [
       "[[1951, 2],\n",
       " [2311, 2],\n",
       " [3079, 8],\n",
       " [2729, 2],\n",
       " [1427, 2],\n",
       " [2473, 3],\n",
       " [2971, 2],\n",
       " [1489, 2],\n",
       " [1171, 4]]"
      ]
     },
     "execution_count": 77,
     "metadata": {},
     "output_type": "execute_result"
    }
   ],
   "source": [
    "canvas"
   ]
  },
  {
   "cell_type": "code",
   "execution_count": 95,
   "metadata": {},
   "outputs": [],
   "source": [
    "all_boundaries = h.get_all_boundaries(data_example)\n",
    "all_transforms = h.get_all_transforms(data_example)\n",
    "\n",
    "n = 3\n",
    "canvas=[]\n",
    "#direction = 'down'\n",
    "#searched_boundary = 1 \n",
    "# First corner\n",
    "# Choose one that can fit in top-left corner\n",
    "x_initial = [1951, 2]\n",
    "n_piece = all_transforms[(all_transforms['id'] == x[0]) & (all_transforms['transformation'] == x[1])]\n",
    "for col in range(n):\n",
    "    for row in range(n):\n",
    "        if (col == 0) & (row == 0):\n",
    "            x = x_initial\n",
    "            n_piece = all_transforms[(all_transforms['id'] == x[0]) & (all_transforms['transformation'] == x[1])]\n",
    "            canvas.append(x)\n",
    "        else:\n",
    "            next_tile = all_boundaries[(all_boundaries['value'] == n_piece.iloc[0]['boundaries'][searched_boundaries[0] - 1]) &\n",
    "                                        (all_boundaries['id'] != x[0]) & (all_boundaries['boundary'] == searched_boundaries[1])]\n",
    "            x = [int(next_tile.iloc[0]['id']), int(next_tile.iloc[0]['transformation'])]\n",
    "            n_piece = all_transforms[(all_transforms['id'] == x[0]) & (all_transforms['transformation'] == x[1])]\n",
    "            canvas.append(x)\n",
    "        direction = 'down'\n",
    "        searched_boundaries = [3, 1]\n",
    "    direction = 'right'\n",
    "    searched_boundaries = [2, 4] \n",
    "    x = canvas[col * n]\n",
    "    n_piece = all_transforms[(all_transforms['id'] == x[0]) & (all_transforms['transformation'] == x[1])]  "
   ]
  },
  {
   "cell_type": "code",
   "execution_count": 96,
   "metadata": {},
   "outputs": [
    {
     "data": {
      "text/plain": [
       "[[1951, 2],\n",
       " [2311, 2],\n",
       " [3079, 8],\n",
       " [2729, 2],\n",
       " [1427, 2],\n",
       " [2473, 3],\n",
       " [2971, 2],\n",
       " [1489, 2],\n",
       " [1171, 4]]"
      ]
     },
     "execution_count": 96,
     "metadata": {},
     "output_type": "execute_result"
    }
   ],
   "source": [
    "canvas"
   ]
  },
  {
   "cell_type": "code",
   "execution_count": 97,
   "metadata": {},
   "outputs": [],
   "source": [
    "canvas_example = canvas"
   ]
  },
  {
   "cell_type": "markdown",
   "metadata": {},
   "source": [
    "### Canvas for data"
   ]
  },
  {
   "cell_type": "code",
   "execution_count": 89,
   "metadata": {},
   "outputs": [],
   "source": [
    "data = h.read_input()\n",
    "all_boundaries_data = h.get_all_boundaries(data)\n",
    "all_transforms_data = h.get_all_transforms(data)"
   ]
  },
  {
   "cell_type": "code",
   "execution_count": 90,
   "metadata": {},
   "outputs": [],
   "source": [
    "y_data = all_transforms_data\n",
    "i_count = 0\n",
    "z_data=[]\n",
    "for tile in y_data.values :\n",
    "    if i_count % 8 == 0:\n",
    "        n_matches = 0\n",
    "        for b in tile[2]:\n",
    "            n_matches = n_matches + h.n_coincidences(b, tile[0], all_boundaries_data)\n",
    "        # print([tile[0], tile[1], n_matches])\n",
    "        z_data.append([tile[0], tile[1], n_matches])\n",
    "    i_count = i_count + 1"
   ]
  },
  {
   "cell_type": "code",
   "execution_count": 91,
   "metadata": {},
   "outputs": [
    {
     "data": {
      "text/plain": [
       "[2243, 1213, 2953, 2273]"
      ]
     },
     "execution_count": 91,
     "metadata": {},
     "output_type": "execute_result"
    }
   ],
   "source": [
    "corners_data = []\n",
    "for x in z_data:\n",
    "    if x[2] == 2:\n",
    "        corners_data.append(x[0])\n",
    "corners_data"
   ]
  },
  {
   "cell_type": "code",
   "execution_count": 92,
   "metadata": {},
   "outputs": [],
   "source": [
    "# all coincidence for all boundaries for each piece and boundary\n",
    "all_boundaries_corners_data = all_boundaries_data[all_boundaries_data['id'].isin(corners_data)]\n",
    "all_coincidences_data = [(int(r[0]),int(r[1]),int(r[2]), int(r[3]), h.n_coincidences(int(r[3]), int(r[0]), all_boundaries_data)) for r in all_boundaries_corners_data.values]\n",
    "#np.unique(all_coincidences).tolist()\n",
    "boundary_corner_data = [x for x in all_coincidences_data if x[4]==0]"
   ]
  },
  {
   "cell_type": "code",
   "execution_count": 93,
   "metadata": {},
   "outputs": [
    {
     "data": {
      "text/plain": [
       "[(2243, 1, 1, 844, 0),\n",
       " (2243, 1, 2, 175, 0),\n",
       " (2243, 2, 2, 844, 0),\n",
       " (2243, 2, 3, 980, 0),\n",
       " (2243, 3, 3, 203, 0),\n",
       " (2243, 3, 4, 980, 0),\n",
       " (2243, 4, 1, 175, 0),\n",
       " (2243, 4, 4, 203, 0),\n",
       " (2243, 5, 1, 203, 0),\n",
       " (2243, 5, 4, 175, 0),\n",
       " (2243, 6, 2, 980, 0),\n",
       " (2243, 6, 3, 844, 0),\n",
       " (2243, 7, 1, 980, 0),\n",
       " (2243, 7, 2, 203, 0),\n",
       " (2243, 8, 3, 175, 0),\n",
       " (2243, 8, 4, 844, 0),\n",
       " (1213, 1, 3, 53, 0),\n",
       " (1213, 1, 4, 344, 0),\n",
       " (1213, 2, 1, 106, 0),\n",
       " (1213, 2, 4, 53, 0),\n",
       " (1213, 3, 1, 688, 0),\n",
       " (1213, 3, 2, 106, 0),\n",
       " (1213, 4, 2, 688, 0),\n",
       " (1213, 4, 3, 344, 0),\n",
       " (1213, 5, 2, 344, 0),\n",
       " (1213, 5, 3, 688, 0),\n",
       " (1213, 6, 1, 53, 0),\n",
       " (1213, 6, 4, 106, 0),\n",
       " (1213, 7, 3, 106, 0),\n",
       " (1213, 7, 4, 688, 0),\n",
       " (1213, 8, 1, 344, 0),\n",
       " (1213, 8, 2, 53, 0),\n",
       " (2953, 1, 1, 369, 0),\n",
       " (2953, 1, 2, 789, 0),\n",
       " (2953, 2, 2, 369, 0),\n",
       " (2953, 2, 3, 675, 0),\n",
       " (2953, 3, 3, 570, 0),\n",
       " (2953, 3, 4, 675, 0),\n",
       " (2953, 4, 1, 789, 0),\n",
       " (2953, 4, 4, 570, 0),\n",
       " (2953, 5, 1, 570, 0),\n",
       " (2953, 5, 4, 789, 0),\n",
       " (2953, 6, 2, 675, 0),\n",
       " (2953, 6, 3, 369, 0),\n",
       " (2953, 7, 1, 675, 0),\n",
       " (2953, 7, 2, 570, 0),\n",
       " (2953, 8, 3, 789, 0),\n",
       " (2953, 8, 4, 369, 0),\n",
       " (2273, 1, 1, 930, 0),\n",
       " (2273, 1, 4, 716, 0),\n",
       " (2273, 2, 1, 205, 0),\n",
       " (2273, 2, 2, 930, 0),\n",
       " (2273, 3, 2, 205, 0),\n",
       " (2273, 3, 3, 279, 0),\n",
       " (2273, 4, 3, 716, 0),\n",
       " (2273, 4, 4, 279, 0),\n",
       " (2273, 5, 1, 279, 0),\n",
       " (2273, 5, 2, 716, 0),\n",
       " (2273, 6, 3, 930, 0),\n",
       " (2273, 6, 4, 205, 0),\n",
       " (2273, 7, 2, 279, 0),\n",
       " (2273, 7, 3, 205, 0),\n",
       " (2273, 8, 1, 716, 0),\n",
       " (2273, 8, 4, 930, 0)]"
      ]
     },
     "execution_count": 93,
     "metadata": {},
     "output_type": "execute_result"
    }
   ],
   "source": [
    "boundary_corner_data"
   ]
  },
  {
   "cell_type": "code",
   "execution_count": 86,
   "metadata": {},
   "outputs": [],
   "source": [
    "all_transforms = all_transforms_data\n",
    "all_boundaries = all_boundaries_data\n",
    "\n",
    "n = 12\n",
    "canvas=[]\n",
    "#direction = 'down'\n",
    "#searched_boundary = 1 \n",
    "# First corner\n",
    "# Choose one that can fit in top-left corner\n",
    "x_initial = [2243, 4]\n",
    "n_piece = all_transforms[(all_transforms['id'] == x[0]) & (all_transforms['transformation'] == x[1])]\n",
    "for col in range(n):\n",
    "    for row in range(n):\n",
    "        if (col == 0) & (row == 0):\n",
    "            x = x_initial\n",
    "            n_piece = all_transforms[(all_transforms['id'] == x[0]) & (all_transforms['transformation'] == x[1])]\n",
    "            canvas.append(x)\n",
    "        else:\n",
    "            next_tile = all_boundaries[(all_boundaries['value'] == n_piece.iloc[0]['boundaries'][searched_boundaries[0] - 1]) &\n",
    "                                        (all_boundaries['id'] != x[0]) & (all_boundaries['boundary'] == searched_boundaries[1])]\n",
    "            x = [int(next_tile.iloc[0]['id']), int(next_tile.iloc[0]['transformation'])]\n",
    "            n_piece = all_transforms[(all_transforms['id'] == x[0]) & (all_transforms['transformation'] == x[1])]\n",
    "            canvas.append(x)\n",
    "        direction = 'down'\n",
    "        searched_boundaries = [3, 1]\n",
    "    direction = 'right'\n",
    "    searched_boundaries = [2, 4] \n",
    "    x = canvas[col * n]\n",
    "    n_piece = all_transforms[(all_transforms['id'] == x[0]) & (all_transforms['transformation'] == x[1])]  "
   ]
  },
  {
   "cell_type": "code",
   "execution_count": 87,
   "metadata": {},
   "outputs": [
    {
     "data": {
      "text/plain": [
       "[[2243, 4],\n",
       " [2707, 3],\n",
       " [1481, 6],\n",
       " [3559, 3],\n",
       " [1489, 6],\n",
       " [1583, 5],\n",
       " [1307, 1],\n",
       " [2549, 6],\n",
       " [2677, 4],\n",
       " [1289, 1],\n",
       " [3511, 1],\n",
       " [1213, 7],\n",
       " [2663, 4],\n",
       " [1549, 6],\n",
       " [3821, 4],\n",
       " [2161, 7],\n",
       " [2003, 6],\n",
       " [1471, 6],\n",
       " [3769, 1],\n",
       " [2207, 3],\n",
       " [1933, 5],\n",
       " [3329, 1],\n",
       " [3187, 5],\n",
       " [3259, 3],\n",
       " [2087, 1],\n",
       " [1409, 4],\n",
       " [1399, 7],\n",
       " [3833, 5],\n",
       " [1873, 2],\n",
       " [1601, 4],\n",
       " [1801, 3],\n",
       " [1019, 2],\n",
       " [3853, 3],\n",
       " [2237, 1],\n",
       " [2099, 7],\n",
       " [1531, 7],\n",
       " [3067, 6],\n",
       " [3343, 6],\n",
       " [2477, 1],\n",
       " [2609, 3],\n",
       " [1831, 7],\n",
       " [1063, 4],\n",
       " [1097, 3],\n",
       " [3631, 3],\n",
       " [2551, 3],\n",
       " [2591, 2],\n",
       " [1787, 6],\n",
       " [1867, 4],\n",
       " [3881, 4],\n",
       " [3491, 5],\n",
       " [2753, 7],\n",
       " [3557, 5],\n",
       " [1657, 2],\n",
       " [3923, 4],\n",
       " [3643, 6],\n",
       " [1597, 2],\n",
       " [1259, 6],\n",
       " [1931, 5],\n",
       " [1979, 2],\n",
       " [2441, 2],\n",
       " [2333, 6],\n",
       " [3467, 4],\n",
       " [2063, 5],\n",
       " [2843, 5],\n",
       " [1447, 7],\n",
       " [1879, 2],\n",
       " [3209, 5],\n",
       " [3767, 1],\n",
       " [3541, 6],\n",
       " [2357, 4],\n",
       " [2711, 6],\n",
       " [1621, 6],\n",
       " [1607, 7],\n",
       " [2411, 6],\n",
       " [1009, 3],\n",
       " [3037, 6],\n",
       " [1733, 1],\n",
       " [3313, 5],\n",
       " [1181, 3],\n",
       " [3251, 2],\n",
       " [2749, 4],\n",
       " [3929, 2],\n",
       " [3023, 2],\n",
       " [1667, 2],\n",
       " [2111, 3],\n",
       " [2909, 3],\n",
       " [1187, 2],\n",
       " [3539, 3],\n",
       " [2957, 2],\n",
       " [2287, 4],\n",
       " [3863, 4],\n",
       " [1993, 7],\n",
       " [1229, 5],\n",
       " [1571, 7],\n",
       " [2699, 7],\n",
       " [1759, 5],\n",
       " [3877, 1],\n",
       " [1321, 5],\n",
       " [3011, 1],\n",
       " [2281, 4],\n",
       " [2903, 5],\n",
       " [1637, 6],\n",
       " [1087, 3],\n",
       " [1049, 6],\n",
       " [2579, 6],\n",
       " [3229, 1],\n",
       " [3203, 7],\n",
       " [3041, 2],\n",
       " [1117, 5],\n",
       " [1913, 2],\n",
       " [3469, 7],\n",
       " [3571, 3],\n",
       " [3533, 5],\n",
       " [1907, 1],\n",
       " [1663, 1],\n",
       " [3407, 1],\n",
       " [3391, 2],\n",
       " [2297, 1],\n",
       " [3623, 4],\n",
       " [2143, 1],\n",
       " [2371, 2],\n",
       " [2341, 4],\n",
       " [2467, 7],\n",
       " [2621, 3],\n",
       " [1303, 7],\n",
       " [1567, 7],\n",
       " [3373, 4],\n",
       " [3163, 7],\n",
       " [3221, 7],\n",
       " [2011, 5],\n",
       " [2593, 6],\n",
       " [1543, 3],\n",
       " [2953, 1],\n",
       " [3299, 3],\n",
       " [2521, 3],\n",
       " [1039, 3],\n",
       " [1747, 5],\n",
       " [1697, 3],\n",
       " [2141, 1],\n",
       " [1523, 3],\n",
       " [1823, 5],\n",
       " [2969, 2],\n",
       " [2617, 3],\n",
       " [2273, 3]]"
      ]
     },
     "execution_count": 87,
     "metadata": {},
     "output_type": "execute_result"
    }
   ],
   "source": [
    "canvas"
   ]
  },
  {
   "cell_type": "code",
   "execution_count": 88,
   "metadata": {},
   "outputs": [],
   "source": [
    "canvas_data = canvas"
   ]
  },
  {
   "cell_type": "markdown",
   "metadata": {},
   "source": [
    "### Generate complete canvas"
   ]
  },
  {
   "cell_type": "code",
   "execution_count": 287,
   "metadata": {},
   "outputs": [],
   "source": [
    "# For the example data\n",
    "canvas = canvas_example\n",
    "data_all = data_example \n",
    "# For the real data\n",
    "canvas = canvas_data\n",
    "data_all = data \n",
    "# tiles in canvas\n",
    "n_elements = len(canvas)\n",
    "# nxn size of the canvas \n",
    "n = int(math.sqrt(n_elements))\n",
    "# all tiles\n",
    "all_tiles = [(k+1, h.get_tile_number(k+1, data_all)) for k in range(n_elements)]"
   ]
  },
  {
   "cell_type": "code",
   "execution_count": 279,
   "metadata": {},
   "outputs": [
    {
     "data": {
      "text/plain": [
       "[(1, 3923),\n",
       " (2, 1229),\n",
       " (3, 1801),\n",
       " (4, 3643),\n",
       " (5, 2141),\n",
       " (6, 1289),\n",
       " (7, 3373),\n",
       " (8, 1399),\n",
       " (9, 3259),\n",
       " (10, 3469),\n",
       " (11, 2143),\n",
       " (12, 2663),\n",
       " (13, 3067),\n",
       " (14, 2903),\n",
       " (15, 1471),\n",
       " (16, 3251),\n",
       " (17, 1583),\n",
       " (18, 1747),\n",
       " (19, 1259),\n",
       " (20, 1993),\n",
       " (21, 3391),\n",
       " (22, 3881),\n",
       " (23, 1931),\n",
       " (24, 1907),\n",
       " (25, 3329),\n",
       " (26, 1009),\n",
       " (27, 2011),\n",
       " (28, 3467),\n",
       " (29, 3533),\n",
       " (30, 3203),\n",
       " (31, 1307),\n",
       " (32, 1087),\n",
       " (33, 1879),\n",
       " (34, 1733),\n",
       " (35, 2357),\n",
       " (36, 3929),\n",
       " (37, 2621),\n",
       " (38, 1787),\n",
       " (39, 1549),\n",
       " (40, 1933),\n",
       " (41, 3557),\n",
       " (42, 3631),\n",
       " (43, 3877),\n",
       " (44, 2909),\n",
       " (45, 1873),\n",
       " (46, 3539),\n",
       " (47, 1657),\n",
       " (48, 2753),\n",
       " (49, 1409),\n",
       " (50, 2243),\n",
       " (51, 3541),\n",
       " (52, 3229),\n",
       " (53, 1019),\n",
       " (54, 1663),\n",
       " (55, 1567),\n",
       " (56, 3833),\n",
       " (57, 2551),\n",
       " (58, 1637),\n",
       " (59, 2281),\n",
       " (60, 3559),\n",
       " (61, 3511),\n",
       " (62, 2063),\n",
       " (63, 3187),\n",
       " (64, 3407),\n",
       " (65, 1597),\n",
       " (66, 2087),\n",
       " (67, 2749),\n",
       " (68, 1697),\n",
       " (69, 2711),\n",
       " (70, 2521),\n",
       " (71, 3163),\n",
       " (72, 3343),\n",
       " (73, 1303),\n",
       " (74, 3491),\n",
       " (75, 3767),\n",
       " (76, 1823),\n",
       " (77, 3863),\n",
       " (78, 1867),\n",
       " (79, 2341),\n",
       " (80, 2411),\n",
       " (81, 1523),\n",
       " (82, 2609),\n",
       " (83, 2287),\n",
       " (84, 1049),\n",
       " (85, 1187),\n",
       " (86, 2707),\n",
       " (87, 2441),\n",
       " (88, 3571),\n",
       " (89, 2969),\n",
       " (90, 2699),\n",
       " (91, 1759),\n",
       " (92, 2843),\n",
       " (93, 1063),\n",
       " (94, 2161),\n",
       " (95, 1543),\n",
       " (96, 1979),\n",
       " (97, 1607),\n",
       " (98, 2957),\n",
       " (99, 3221),\n",
       " (100, 1213),\n",
       " (101, 3023),\n",
       " (102, 1489),\n",
       " (103, 1601),\n",
       " (104, 2953),\n",
       " (105, 1481),\n",
       " (106, 1531),\n",
       " (107, 1039),\n",
       " (108, 2549),\n",
       " (109, 1913),\n",
       " (110, 1831),\n",
       " (111, 2099),\n",
       " (112, 3209),\n",
       " (113, 2593),\n",
       " (114, 3011),\n",
       " (115, 2371),\n",
       " (116, 3853),\n",
       " (117, 3821),\n",
       " (118, 2591),\n",
       " (119, 3041),\n",
       " (120, 1667),\n",
       " (121, 2003),\n",
       " (122, 1447),\n",
       " (123, 2333),\n",
       " (124, 1571),\n",
       " (125, 1181),\n",
       " (126, 1117),\n",
       " (127, 3623),\n",
       " (128, 2111),\n",
       " (129, 2579),\n",
       " (130, 2477),\n",
       " (131, 1621),\n",
       " (132, 2297),\n",
       " (133, 2237),\n",
       " (134, 1097),\n",
       " (135, 3037),\n",
       " (136, 2617),\n",
       " (137, 2273),\n",
       " (138, 1321),\n",
       " (139, 3299),\n",
       " (140, 2467),\n",
       " (141, 3313),\n",
       " (142, 2677),\n",
       " (143, 2207),\n",
       " (144, 3769)]"
      ]
     },
     "execution_count": 279,
     "metadata": {},
     "output_type": "execute_result"
    }
   ],
   "source": [
    "all_tiles"
   ]
  },
  {
   "cell_type": "code",
   "execution_count": 322,
   "metadata": {},
   "outputs": [
    {
     "name": "stdout",
     "output_type": "stream",
     "text": [
      "(0, 2243)\n",
      "(1, 2707)\n",
      "(2, 1481)\n",
      "(3, 3559)\n",
      "(4, 1489)\n",
      "(5, 1583)\n",
      "(6, 1307)\n",
      "(7, 2549)\n",
      "(8, 2677)\n",
      "(9, 1289)\n",
      "(10, 3511)\n",
      "(11, 1213)\n",
      "(12, 2663)\n",
      "(13, 1549)\n",
      "(14, 3821)\n",
      "(15, 2161)\n",
      "(16, 2003)\n",
      "(17, 1471)\n",
      "(18, 3769)\n",
      "(19, 2207)\n",
      "(20, 1933)\n",
      "(21, 3329)\n",
      "(22, 3187)\n",
      "(23, 3259)\n",
      "(24, 2087)\n",
      "(25, 1409)\n",
      "(26, 1399)\n",
      "(27, 3833)\n",
      "(28, 1873)\n",
      "(29, 1601)\n",
      "(30, 1801)\n",
      "(31, 1019)\n",
      "(32, 3853)\n",
      "(33, 2237)\n",
      "(34, 2099)\n",
      "(35, 1531)\n",
      "(36, 3067)\n",
      "(37, 3343)\n",
      "(38, 2477)\n",
      "(39, 2609)\n",
      "(40, 1831)\n",
      "(41, 1063)\n",
      "(42, 1097)\n",
      "(43, 3631)\n",
      "(44, 2551)\n",
      "(45, 2591)\n",
      "(46, 1787)\n",
      "(47, 1867)\n",
      "(48, 3881)\n",
      "(49, 3491)\n",
      "(50, 2753)\n",
      "(51, 3557)\n",
      "(52, 1657)\n",
      "(53, 3923)\n",
      "(54, 3643)\n",
      "(55, 1597)\n",
      "(56, 1259)\n",
      "(57, 1931)\n",
      "(58, 1979)\n",
      "(59, 2441)\n",
      "(60, 2333)\n",
      "(61, 3467)\n",
      "(62, 2063)\n",
      "(63, 2843)\n",
      "(64, 1447)\n",
      "(65, 1879)\n",
      "(66, 3209)\n",
      "(67, 3767)\n",
      "(68, 3541)\n",
      "(69, 2357)\n",
      "(70, 2711)\n",
      "(71, 1621)\n",
      "(72, 1607)\n",
      "(73, 2411)\n",
      "(74, 1009)\n",
      "(75, 3037)\n",
      "(76, 1733)\n",
      "(77, 3313)\n",
      "(78, 1181)\n",
      "(79, 3251)\n",
      "(80, 2749)\n",
      "(81, 3929)\n",
      "(82, 3023)\n",
      "(83, 1667)\n",
      "(84, 2111)\n",
      "(85, 2909)\n",
      "(86, 1187)\n",
      "(87, 3539)\n",
      "(88, 2957)\n",
      "(89, 2287)\n",
      "(90, 3863)\n",
      "(91, 1993)\n",
      "(92, 1229)\n",
      "(93, 1571)\n",
      "(94, 2699)\n",
      "(95, 1759)\n",
      "(96, 3877)\n",
      "(97, 1321)\n",
      "(98, 3011)\n",
      "(99, 2281)\n",
      "(100, 2903)\n",
      "(101, 1637)\n",
      "(102, 1087)\n",
      "(103, 1049)\n",
      "(104, 2579)\n",
      "(105, 3229)\n",
      "(106, 3203)\n",
      "(107, 3041)\n",
      "(108, 1117)\n",
      "(109, 1913)\n",
      "(110, 3469)\n",
      "(111, 3571)\n",
      "(112, 3533)\n",
      "(113, 1907)\n",
      "(114, 1663)\n",
      "(115, 3407)\n",
      "(116, 3391)\n",
      "(117, 2297)\n",
      "(118, 3623)\n",
      "(119, 2143)\n",
      "(120, 2371)\n",
      "(121, 2341)\n",
      "(122, 2467)\n",
      "(123, 2621)\n",
      "(124, 1303)\n",
      "(125, 1567)\n",
      "(126, 3373)\n",
      "(127, 3163)\n",
      "(128, 3221)\n",
      "(129, 2011)\n",
      "(130, 2593)\n",
      "(131, 1543)\n",
      "(132, 2953)\n",
      "(133, 3299)\n",
      "(134, 2521)\n",
      "(135, 1039)\n",
      "(136, 1747)\n",
      "(137, 1697)\n",
      "(138, 2141)\n",
      "(139, 1523)\n",
      "(140, 1823)\n",
      "(141, 2969)\n",
      "(142, 2617)\n",
      "(143, 2273)\n"
     ]
    }
   ],
   "source": [
    "# Generate the new canvas withour the boundaries\n",
    "complete_canvas = np.zeros((8*n, 8*n), dtype=int)\n",
    "for col in range(n):\n",
    "    for row in range(n):\n",
    "        j = col * n + row\n",
    "        n_tile = canvas[j][0]\n",
    "        print((j,n_tile))\n",
    "        n_transform = canvas[j][1]\n",
    "        i_tile = [x[0] for x in all_tiles if x[1] == n_tile][0]\n",
    "        x = h.get_image(i_tile, data_all)\n",
    "        m = h.image_to_matrix(x)\n",
    "        m_all = h.transform(m)\n",
    "        m_complete = m_all.iloc[n_transform - 1]\n",
    "        m_complete_wo_boundaries = m_complete[1:-1, 1:-1]\n",
    "        complete_canvas[(row*8):((row+1)*8), (col*8):((col+1)*8)] = m_complete_wo_boundaries"
   ]
  },
  {
   "cell_type": "code",
   "execution_count": 323,
   "metadata": {},
   "outputs": [],
   "source": [
    "# generate all shapes of the complete canvas\n",
    "all_complete_canvas = h.transform(complete_canvas)"
   ]
  },
  {
   "cell_type": "markdown",
   "metadata": {},
   "source": [
    "### Pattern elements"
   ]
  },
  {
   "cell_type": "code",
   "execution_count": 140,
   "metadata": {},
   "outputs": [],
   "source": [
    "pattern = ['                  # ', '#    ##    ##    ###', ' #  #  #  #  #  #   ']"
   ]
  },
  {
   "cell_type": "code",
   "execution_count": 144,
   "metadata": {},
   "outputs": [
    {
     "data": {
      "text/plain": [
       "20"
      ]
     },
     "execution_count": 144,
     "metadata": {},
     "output_type": "execute_result"
    }
   ],
   "source": [
    "len(pattern[0])"
   ]
  },
  {
   "cell_type": "code",
   "execution_count": 145,
   "metadata": {},
   "outputs": [],
   "source": [
    "# identify the elements that are '#'\n",
    "pattern_position = []\n",
    "for j, s_pattern in enumerate(pattern):\n",
    "    for i, value in enumerate(s_pattern):\n",
    "        if value == '#':\n",
    "            pattern_position.append([j, i])\n"
   ]
  },
  {
   "cell_type": "code",
   "execution_count": 146,
   "metadata": {},
   "outputs": [
    {
     "data": {
      "text/plain": [
       "[[0, 18],\n",
       " [1, 0],\n",
       " [1, 5],\n",
       " [1, 6],\n",
       " [1, 11],\n",
       " [1, 12],\n",
       " [1, 17],\n",
       " [1, 18],\n",
       " [1, 19],\n",
       " [2, 1],\n",
       " [2, 4],\n",
       " [2, 7],\n",
       " [2, 10],\n",
       " [2, 13],\n",
       " [2, 16]]"
      ]
     },
     "execution_count": 146,
     "metadata": {},
     "output_type": "execute_result"
    }
   ],
   "source": [
    "pattern_position"
   ]
  },
  {
   "cell_type": "code",
   "execution_count": 147,
   "metadata": {},
   "outputs": [
    {
     "data": {
      "text/plain": [
       "15"
      ]
     },
     "execution_count": 147,
     "metadata": {},
     "output_type": "execute_result"
    }
   ],
   "source": [
    "len(pattern_position)"
   ]
  },
  {
   "cell_type": "markdown",
   "metadata": {},
   "source": [
    "### Function to identify pattern "
   ]
  },
  {
   "cell_type": "markdown",
   "metadata": {},
   "source": [
    "The pattern is a matrix of shape (3,20)"
   ]
  },
  {
   "cell_type": "code",
   "execution_count": 227,
   "metadata": {},
   "outputs": [],
   "source": [
    "def find_pattern(m, coordinates=pattern_position):\n",
    "    rows, cols = zip(*coordinates)\n",
    "    values = m[rows, cols]\n",
    "    x = int(sum(values))\n",
    "    return(x == 0) # all values = '#'"
   ]
  },
  {
   "cell_type": "code",
   "execution_count": 228,
   "metadata": {},
   "outputs": [
    {
     "data": {
      "text/plain": [
       "False"
      ]
     },
     "execution_count": 228,
     "metadata": {},
     "output_type": "execute_result"
    }
   ],
   "source": [
    "find_pattern(complete_canvas[:3, :20])"
   ]
  },
  {
   "cell_type": "code",
   "execution_count": 178,
   "metadata": {},
   "outputs": [
    {
     "data": {
      "text/plain": [
       "0"
      ]
     },
     "execution_count": 178,
     "metadata": {},
     "output_type": "execute_result"
    }
   ],
   "source": [
    "int(False)"
   ]
  },
  {
   "cell_type": "markdown",
   "metadata": {},
   "source": [
    "### Run all matrix to find patters"
   ]
  },
  {
   "cell_type": "code",
   "execution_count": 282,
   "metadata": {},
   "outputs": [
    {
     "data": {
      "text/plain": [
       "(96, 96)"
      ]
     },
     "execution_count": 282,
     "metadata": {},
     "output_type": "execute_result"
    }
   ],
   "source": [
    "all_complete_canvas.iloc[0].shape"
   ]
  },
  {
   "cell_type": "code",
   "execution_count": 175,
   "metadata": {},
   "outputs": [
    {
     "data": {
      "text/plain": [
       "3"
      ]
     },
     "execution_count": 175,
     "metadata": {},
     "output_type": "execute_result"
    }
   ],
   "source": [
    "n"
   ]
  },
  {
   "cell_type": "code",
   "execution_count": 324,
   "metadata": {},
   "outputs": [
    {
     "name": "stdout",
     "output_type": "stream",
     "text": [
      "(0, 2638)\n",
      "(0, 2638)\n",
      "(0, 2638)\n",
      "(0, 2638)\n",
      "(0, 2638)\n",
      "(0, 2638)\n",
      "(0, 2638)\n",
      "(41, 2023)\n"
     ]
    }
   ],
   "source": [
    "pattern_points = []\n",
    "for k in range(8):\n",
    "    m = all_complete_canvas.iloc[k]\n",
    "    m_size = m.shape[0]\n",
    "    total_pattern = 0\n",
    "    m_size = m.shape[0]\n",
    "    total_pattern = 0\n",
    "    for i in range(m_size - 2):\n",
    "        for j in range(m_size - 19):\n",
    "            m_compare = m[i:(i+3), j:(j+20)] \n",
    "            if find_pattern(m_compare):\n",
    "                total_pattern = total_pattern + int(find_pattern(m_compare))\n",
    "                pattern_points = pattern_points + [(x[0] + i, x[1] + j) for x in pattern_position]\n",
    "    print((total_pattern, m_size * m_size - int(sum(sum(m))) - total_pattern * 15))"
   ]
  },
  {
   "cell_type": "code",
   "execution_count": 315,
   "metadata": {},
   "outputs": [
    {
     "data": {
      "text/plain": [
       "615"
      ]
     },
     "execution_count": 315,
     "metadata": {},
     "output_type": "execute_result"
    }
   ],
   "source": [
    "len(set(pattern_points))"
   ]
  },
  {
   "cell_type": "code",
   "execution_count": 317,
   "metadata": {},
   "outputs": [
    {
     "data": {
      "text/plain": [
       "9216"
      ]
     },
     "execution_count": 317,
     "metadata": {},
     "output_type": "execute_result"
    }
   ],
   "source": [
    "m_size * m_size"
   ]
  },
  {
   "cell_type": "code",
   "execution_count": 318,
   "metadata": {},
   "outputs": [
    {
     "data": {
      "text/plain": [
       "6619"
      ]
     },
     "execution_count": 318,
     "metadata": {},
     "output_type": "execute_result"
    }
   ],
   "source": [
    "int(sum(sum(m))) # (number of points)"
   ]
  },
  {
   "cell_type": "code",
   "execution_count": 319,
   "metadata": {},
   "outputs": [
    {
     "data": {
      "text/plain": [
       "2597"
      ]
     },
     "execution_count": 319,
     "metadata": {},
     "output_type": "execute_result"
    }
   ],
   "source": [
    "# number of '#'\n",
    "9216 - 6619"
   ]
  },
  {
   "cell_type": "code",
   "execution_count": 320,
   "metadata": {},
   "outputs": [
    {
     "data": {
      "text/plain": [
       "1982"
      ]
     },
     "execution_count": 320,
     "metadata": {},
     "output_type": "execute_result"
    }
   ],
   "source": [
    "2597-615"
   ]
  },
  {
   "cell_type": "code",
   "execution_count": 294,
   "metadata": {},
   "outputs": [
    {
     "data": {
      "text/plain": [
       "[[2, 21],\n",
       " [3, 3],\n",
       " [3, 8],\n",
       " [3, 9],\n",
       " [3, 14],\n",
       " [3, 15],\n",
       " [3, 20],\n",
       " [3, 21],\n",
       " [3, 22],\n",
       " [4, 4],\n",
       " [4, 7],\n",
       " [4, 10],\n",
       " [4, 13],\n",
       " [4, 16],\n",
       " [4, 19]]"
      ]
     },
     "execution_count": 294,
     "metadata": {},
     "output_type": "execute_result"
    }
   ],
   "source": [
    "[[x[0] + 2, x[1]+3] for x in pattern_position]"
   ]
  },
  {
   "cell_type": "code",
   "execution_count": 299,
   "metadata": {},
   "outputs": [
    {
     "data": {
      "text/plain": [
       "2"
      ]
     },
     "execution_count": 299,
     "metadata": {},
     "output_type": "execute_result"
    }
   ],
   "source": [
    "len(set([(1, 2), (3, 4), (1, 2)]))"
   ]
  },
  {
   "cell_type": "code",
   "execution_count": null,
   "metadata": {},
   "outputs": [
    {
     "data": {
      "text/plain": [
       "array([[1, 1, 1, ..., 1, 1, 1],\n",
       "       [0, 1, 0, ..., 1, 1, 1],\n",
       "       [0, 1, 1, ..., 1, 1, 1],\n",
       "       ...,\n",
       "       [1, 1, 0, ..., 0, 1, 1],\n",
       "       [1, 1, 1, ..., 0, 1, 1],\n",
       "       [0, 1, 1, ..., 1, 0, 1]], shape=(96, 96))"
      ]
     },
     "execution_count": 291,
     "metadata": {},
     "output_type": "execute_result"
    }
   ],
   "source": []
  },
  {
   "cell_type": "code",
   "execution_count": 285,
   "metadata": {},
   "outputs": [
    {
     "data": {
      "text/plain": [
       "(96, 96)"
      ]
     },
     "execution_count": 285,
     "metadata": {},
     "output_type": "execute_result"
    }
   ],
   "source": [
    "m.shape"
   ]
  },
  {
   "cell_type": "code",
   "execution_count": 288,
   "metadata": {},
   "outputs": [
    {
     "data": {
      "text/plain": [
       "9216"
      ]
     },
     "execution_count": 288,
     "metadata": {},
     "output_type": "execute_result"
    }
   ],
   "source": [
    "m_size * m_size"
   ]
  },
  {
   "cell_type": "code",
   "execution_count": 286,
   "metadata": {},
   "outputs": [
    {
     "data": {
      "text/plain": [
       "41"
      ]
     },
     "execution_count": 286,
     "metadata": {},
     "output_type": "execute_result"
    }
   ],
   "source": [
    "total_pattern"
   ]
  },
  {
   "cell_type": "code",
   "execution_count": 289,
   "metadata": {},
   "outputs": [
    {
     "data": {
      "text/plain": [
       "6619"
      ]
     },
     "execution_count": 289,
     "metadata": {},
     "output_type": "execute_result"
    }
   ],
   "source": [
    "int(sum(sum(m)))"
   ]
  },
  {
   "cell_type": "markdown",
   "metadata": {},
   "source": [
    "### Read matrix example"
   ]
  },
  {
   "cell_type": "code",
   "execution_count": 255,
   "metadata": {},
   "outputs": [],
   "source": [
    "y = pd.read_csv(\"example_matrix_2.txt\", header=None, names=['information'])\n",
    "y = y['information'].iloc[:]\n",
    "m_example = h.image_to_matrix(y)"
   ]
  },
  {
   "cell_type": "code",
   "execution_count": 257,
   "metadata": {},
   "outputs": [
    {
     "name": "stdout",
     "output_type": "stream",
     "text": [
      "(2, 273)\n"
     ]
    }
   ],
   "source": [
    "m = m_example\n",
    "m_size = m.shape[0]\n",
    "total_pattern = 0\n",
    "for i in range(m_size - 2):\n",
    "    for j in range(m_size - 19):\n",
    "#for i in range(2,3):\n",
    "#    for j in range(2,3):\n",
    "        m_compare = m[i:(i+3), j:(j+20)]\n",
    "        total_pattern = total_pattern + int(find_pattern(m_compare))\n",
    "print((total_pattern, m_size * m_size - int(sum(sum(m))) - total_pattern * 15))"
   ]
  }
 ],
 "metadata": {
  "kernelspec": {
   "display_name": ".venv",
   "language": "python",
   "name": "python3"
  },
  "language_info": {
   "codemirror_mode": {
    "name": "ipython",
    "version": 3
   },
   "file_extension": ".py",
   "mimetype": "text/x-python",
   "name": "python",
   "nbconvert_exporter": "python",
   "pygments_lexer": "ipython3",
   "version": "3.12.4"
  }
 },
 "nbformat": 4,
 "nbformat_minor": 2
}
